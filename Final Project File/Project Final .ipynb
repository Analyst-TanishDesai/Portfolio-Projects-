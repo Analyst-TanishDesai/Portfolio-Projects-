{
 "cells": [
  {
   "cell_type": "markdown",
   "id": "59a702f7",
   "metadata": {},
   "source": [
    "<center><H1><b>FUNDAMENTALS OF PROGRAMMING <b></H1></center>\n"
   ]
  },
  {
   "cell_type": "markdown",
   "id": "908fd3a0",
   "metadata": {},
   "source": [
    "# Introduction\n",
    "\n",
    "The complex relationship between sleep, health, and lifestyle is a critical field of study that profoundly impacts public health and individual well-being. In today’s fast-paced world, many individuals struggle with sleep disturbances, often exacerbated by the demands of their occupations. As the workforce diversifies and job demands become increasingly varied, understanding how different occupations influence sleep patterns and overall health becomes essential.\n",
    "\n",
    "This project seeks to explore the impact of occupation on key health metrics such as sleep duration, sleep quality, blood pressure, and heart rate. By analyzing a comprehensive dataset that captures various aspects of individuals' daily lives, health metrics, and sleep patterns, we aim to uncover significant patterns and correlations that can inform better health practices.\n",
    "\n",
    "Prompted by the increasing prevalence of occupation-related stress and its potential effects on sleep and health, our team will conduct a thorough examination of this dataset to identify actionable insights. These insights will be valuable for a wide audience, including policymakers, healthcare professionals, and individuals seeking to optimize their health by adjusting lifestyle and occupational factors.\n",
    "\n",
    "Through this analysis, we aim to generate a deeper understanding of how occupation-specific demands affect sleep and health outcomes, ultimately contributing to more effective strategies for promoting healthier, more balanced lifestyles.\n"
   ]
  },
  {
   "cell_type": "markdown",
   "id": "c21f5708",
   "metadata": {},
   "source": [
    "### Problem Statement\n",
    "\n",
    "This study seeks to examine how lifestyle factors, particularly **daily physical activity** and **occupation**, influence overall health and well-being using the Sleep Health and Lifestyle dataset. The analysis will focus on understanding the effects of **daily steps** and **occupational roles** on important health metrics, including **Body Mass Index (BMI)**, **blood pressure**, **heart rate**, **sleep duration**, and **sleep quality**.\n",
    "\n",
    "**Objective:**\n",
    "- To investigate the impact of **daily physical activity**, as measured by the number of steps taken each day, on key health indicators such as **BMI**, **blood pressure**, and **heart rate**.\n",
    "- To explore the influence of an individual's **occupation** on their sleep patterns—particularly **sleep duration** and **quality**—and how these sleep metrics relate to cardiovascular health indicators like **blood pressure** and **heart rate**.\n",
    "\n",
    "**Rationale:**\n",
    "Daily physical activity and occupation are significant components of an individual's lifestyle that can greatly affect their health outcomes. By exploring the relationships between these factors and various health and sleep metrics, this study aims to provide a detailed understanding of how daily habits and professional roles contribute to overall health. The findings can be used to develop strategies for improving sleep health, reducing stress, and promoting physical well-being.\n"
   ]
  },
  {
   "cell_type": "markdown",
   "id": "af8a908a",
   "metadata": {},
   "source": [
    "# Dataset Overview\n",
    "\n",
    "The **Sleep Health and Lifestyle** dataset consists of **400 entries** and **13 variables** that offer insights into various aspects of sleep and daily routines. The dataset includes information on **gender**, **age**, **occupation**, **sleep duration**, **sleep quality**, **physical activity**, **stress levels**, **BMI categories**, **blood pressure**, **heart rate**, **daily steps**, and the presence or absence of **sleep-related disorders**.\n",
    "\n",
    "## Key Features of the Dataset:\n",
    "\n",
    "- **Detailed Sleep Metrics:**  \n",
    "  Investigate sleep duration, quality, and factors that may influence sleep habits.\n",
    "\n",
    "- **Lifestyle Indicators:**  \n",
    "  Analyze variables related to physical activity, stress, and BMI categories.\n",
    "\n",
    "- **Cardiovascular Indicators:**  \n",
    "  Explore blood pressure readings and heart rate data.\n",
    "\n",
    "- **Sleep Disorder Identification:**  \n",
    "  Assess the occurrence of sleep disorders such as insomnia and sleep apnea.\n",
    "\n",
    "## Dataset Columns:\n",
    "\n",
    "- **Person ID:**  \n",
    "  A unique identifier for each participant.\n",
    "\n",
    "- **Gender:**  \n",
    "  Indicates the gender of the participant (Male/Female).\n",
    "\n",
    "- **Age:**  \n",
    "  Age of the participant in years.\n",
    "\n",
    "- **Occupation:**  \n",
    "  The participant's occupation or professional field.\n",
    "\n",
    "- **Sleep Duration (hours):**  \n",
    "  The total hours of sleep the participant gets per day.\n",
    "\n",
    "- **Quality of Sleep (scale: 1-10):**  \n",
    "  A subjective rating of sleep quality, on a scale from 1 to 10.\n",
    "\n",
    "- **Physical Activity Level (minutes/day):**  \n",
    "  The daily duration of physical activity in minutes.\n",
    "\n",
    "- **Stress Level (scale: 1-10):**  \n",
    "  A subjective assessment of stress, rated on a scale from 1 to 10.\n",
    "\n",
    "- **BMI Category:**  \n",
    "  Categorizes BMI (e.g., Underweight, Normal, Overweight).\n",
    "\n",
    "- **Blood Pressure (systolic/diastolic):**  \n",
    "  Measures the participant's blood pressure, expressed as systolic over diastolic values.\n",
    "\n",
    "- **Heart Rate (bpm):**  \n",
    "  The resting heart rate of the participant, measured in beats per minute.\n",
    "\n",
    "- **Daily Steps:**  \n",
    "  The average number of steps taken by the participant per day.\n",
    "\n",
    "- **Sleep Disorder:**  \n",
    "  Indicates whether the participant has a sleep disorder (None, Insomnia, Sleep Apnea).\n",
    "\n",
    "## Details about the Sleep Disorder Column:\n",
    "\n",
    "- **None:**  \n",
    "  The participant does not have any diagnosed sleep disorders.\n",
    "\n",
    "- **Insomnia:**  \n",
    "  The participant experiences difficulty falling or staying asleep, leading to insufficient or poor-quality sleep.\n",
    "\n",
    "- **Sleep Apnea:**  \n",
    "  The participant has interruptions in breathing during sleep, which disrupts sleep and may pose health risks.\n"
   ]
  },
  {
   "cell_type": "markdown",
   "id": "37f0a6cc",
   "metadata": {},
   "source": [
    "# Data Understanding and Preprocessing\n",
    "\n",
    "**Objective:** To gain an initial understanding of the dataset, assess data quality, and perform necessary data cleaning to prepare for analysis.\n",
    "\n",
    "**Steps Taken:**\n",
    "- **Load and Explore the Dataset:** \n",
    "  - Begin by loading the Sleep Health and Lifestyle dataset and exploring its structure, including the types of variables (categorical and continuous).\n",
    "  - Understand the distribution of key variables, particularly those related to sleep duration, sleep quality, blood pressure, and heart rate.\n",
    "  \n",
    "- **Data Cleaning:**\n",
    "  - **Handle Missing Values:** Identify any missing data points and decide on appropriate strategies for imputation or removal, ensuring the integrity of the dataset.\n",
    "  - **Address Outliers:** Detect outliers, especially in critical variables like sleep duration, sleep quality, blood pressure, and heart rate. Apply appropriate techniques such as capping or transformation to manage these outliers without distorting the overall analysis.\n",
    "  - **Correct Inconsistencies:** Review the dataset for any inconsistencies or errors, such as incorrect data entries or misclassifications, particularly in categorical variables like occupation.\n",
    "  \n",
    "- **Normalization and Scaling:**\n",
    "  - Normalize or scale continuous variables like BMI, blood pressure, and heart rate, as well as other relevant health metrics, to ensure comparability and improve the performance of any subsequent modeling techniques.\n",
    "  \n",
    "- **Feature Engineering:**\n",
    "  - Create any additional features or transformations that might enhance the analysis, such as categorizing occupations into broader groups if necessary or deriving new metrics from existing data.\n",
    "\n",
    "This process ensures that the dataset is clean, consistent, and well-prepared for the detailed analysis of how occupation influences sleep and related health metrics.\n"
   ]
  },
  {
   "cell_type": "markdown",
   "id": "669699ba",
   "metadata": {},
   "source": [
    "### Importing Libraries and Initializing Plotly\n",
    "\n",
    "This section imports the necessary libraries and initializes settings for data analysis, visualization, and modeling:\n",
    "\n",
    "- **pandas and numpy**: Fundamental libraries for data manipulation and numerical operations.\n",
    "- **matplotlib and seaborn**: Popular libraries for creating static visualizations, used here for plotting data distributions and relationships.\n",
    "- **scikit-learn (sklearn)**: A machine learning library used for modeling and evaluation, specifically:\n",
    "  - `train_test_split`: To split data into training and testing sets.\n",
    "  - `LogisticRegression`: To perform logistic regression modeling.\n",
    "  - `StandardScaler`: To normalize or scale features.\n",
    "  - Metrics such as `classification_report`, `accuracy_score`, `roc_auc_score`, and `confusion_matrix` for evaluating model performance.\n",
    "- **plotly and cufflinks**: Libraries for creating interactive visualizations:\n",
    "  - `plotly` and `cufflinks`: Used together to create and display interactive plots in Jupyter Notebooks.\n",
    "  - `init_notebook_mode` and `cf.go_offline()`: Initialize Plotly for offline use in Jupyter Notebooks, allowing for interactive plotting without requiring an internet connection.\n",
    "\n",
    "These imports and initializations set up the environment for robust data analysis, enabling both static and interactive visualizations as well as machine learning model development and evaluation.\n"
   ]
  },
  {
   "cell_type": "code",
   "execution_count": 1,
   "id": "39ed9068",
   "metadata": {},
   "outputs": [
    {
     "data": {
      "text/html": [
       "        <script type=\"text/javascript\">\n",
       "        window.PlotlyConfig = {MathJaxConfig: 'local'};\n",
       "        if (window.MathJax) {MathJax.Hub.Config({SVG: {font: \"STIX-Web\"}});}\n",
       "        if (typeof require !== 'undefined') {\n",
       "        require.undef(\"plotly\");\n",
       "        requirejs.config({\n",
       "            paths: {\n",
       "                'plotly': ['https://cdn.plot.ly/plotly-2.1.0.min']\n",
       "            }\n",
       "        });\n",
       "        require(['plotly'], function(Plotly) {\n",
       "            window._Plotly = Plotly;\n",
       "        });\n",
       "        }\n",
       "        </script>\n",
       "        "
      ]
     },
     "metadata": {},
     "output_type": "display_data"
    },
    {
     "data": {
      "text/html": [
       "        <script type=\"text/javascript\">\n",
       "        window.PlotlyConfig = {MathJaxConfig: 'local'};\n",
       "        if (window.MathJax) {MathJax.Hub.Config({SVG: {font: \"STIX-Web\"}});}\n",
       "        if (typeof require !== 'undefined') {\n",
       "        require.undef(\"plotly\");\n",
       "        requirejs.config({\n",
       "            paths: {\n",
       "                'plotly': ['https://cdn.plot.ly/plotly-2.1.0.min']\n",
       "            }\n",
       "        });\n",
       "        require(['plotly'], function(Plotly) {\n",
       "            window._Plotly = Plotly;\n",
       "        });\n",
       "        }\n",
       "        </script>\n",
       "        "
      ]
     },
     "metadata": {},
     "output_type": "display_data"
    }
   ],
   "source": [
    "#!pip install pandas numpy matplotlib seaborn scikit-learn plotly cufflinks        # Download if needed \n",
    "\n",
    "#importing libraries\n",
    "import pandas as pd\n",
    "import numpy as np\n",
    "import matplotlib.pyplot as plt\n",
    "import seaborn as sns \n",
    "from sklearn.model_selection import train_test_split\n",
    "from sklearn.linear_model import LogisticRegression\n",
    "from sklearn.preprocessing import StandardScaler\n",
    "from sklearn.metrics import classification_report, accuracy_score, roc_auc_score, confusion_matrix\n",
    "from plotly import __version__\n",
    "from plotly.offline import download_plotlyjs, init_notebook_mode, plot, iplot\n",
    "import cufflinks as cf\n",
    "import plotly as px \n",
    "# For Notebooks\n",
    "init_notebook_mode(connected=True)\n",
    "# For offline use\n",
    "cf.go_offline()"
   ]
  },
  {
   "cell_type": "code",
   "execution_count": 2,
   "id": "af74fe46",
   "metadata": {},
   "outputs": [],
   "source": [
    "#loading dataset \n",
    "shl_data = pd.read_excel('Sleep_health_and_lifestyle_dataset.xlsx')"
   ]
  },
  {
   "cell_type": "code",
   "execution_count": 3,
   "id": "75f7c4cd",
   "metadata": {},
   "outputs": [
    {
     "data": {
      "text/html": [
       "<div>\n",
       "<style scoped>\n",
       "    .dataframe tbody tr th:only-of-type {\n",
       "        vertical-align: middle;\n",
       "    }\n",
       "\n",
       "    .dataframe tbody tr th {\n",
       "        vertical-align: top;\n",
       "    }\n",
       "\n",
       "    .dataframe thead th {\n",
       "        text-align: right;\n",
       "    }\n",
       "</style>\n",
       "<table border=\"1\" class=\"dataframe\">\n",
       "  <thead>\n",
       "    <tr style=\"text-align: right;\">\n",
       "      <th></th>\n",
       "      <th>Person ID</th>\n",
       "      <th>Gender</th>\n",
       "      <th>Age</th>\n",
       "      <th>Occupation</th>\n",
       "      <th>Sleep Duration</th>\n",
       "      <th>Quality of Sleep</th>\n",
       "      <th>Physical Activity Level</th>\n",
       "      <th>Stress Level</th>\n",
       "      <th>BMI Category</th>\n",
       "      <th>Blood Pressure</th>\n",
       "      <th>Heart Rate</th>\n",
       "      <th>Daily Steps</th>\n",
       "      <th>Sleep Disorder</th>\n",
       "    </tr>\n",
       "  </thead>\n",
       "  <tbody>\n",
       "    <tr>\n",
       "      <th>0</th>\n",
       "      <td>1</td>\n",
       "      <td>Male</td>\n",
       "      <td>27</td>\n",
       "      <td>Software Engineer</td>\n",
       "      <td>6.1</td>\n",
       "      <td>6</td>\n",
       "      <td>42</td>\n",
       "      <td>6</td>\n",
       "      <td>Overweight</td>\n",
       "      <td>126/83</td>\n",
       "      <td>77</td>\n",
       "      <td>4200</td>\n",
       "      <td>None</td>\n",
       "    </tr>\n",
       "    <tr>\n",
       "      <th>1</th>\n",
       "      <td>2</td>\n",
       "      <td>Male</td>\n",
       "      <td>28</td>\n",
       "      <td>Doctor</td>\n",
       "      <td>6.2</td>\n",
       "      <td>6</td>\n",
       "      <td>60</td>\n",
       "      <td>8</td>\n",
       "      <td>Normal</td>\n",
       "      <td>125/80</td>\n",
       "      <td>75</td>\n",
       "      <td>10000</td>\n",
       "      <td>None</td>\n",
       "    </tr>\n",
       "    <tr>\n",
       "      <th>2</th>\n",
       "      <td>3</td>\n",
       "      <td>Male</td>\n",
       "      <td>28</td>\n",
       "      <td>Doctor</td>\n",
       "      <td>6.2</td>\n",
       "      <td>6</td>\n",
       "      <td>60</td>\n",
       "      <td>8</td>\n",
       "      <td>Normal</td>\n",
       "      <td>125/80</td>\n",
       "      <td>75</td>\n",
       "      <td>10000</td>\n",
       "      <td>None</td>\n",
       "    </tr>\n",
       "    <tr>\n",
       "      <th>3</th>\n",
       "      <td>4</td>\n",
       "      <td>Male</td>\n",
       "      <td>28</td>\n",
       "      <td>Sales Representative</td>\n",
       "      <td>5.9</td>\n",
       "      <td>4</td>\n",
       "      <td>30</td>\n",
       "      <td>8</td>\n",
       "      <td>Obese</td>\n",
       "      <td>140/90</td>\n",
       "      <td>85</td>\n",
       "      <td>3000</td>\n",
       "      <td>Sleep Apnea</td>\n",
       "    </tr>\n",
       "    <tr>\n",
       "      <th>4</th>\n",
       "      <td>5</td>\n",
       "      <td>Male</td>\n",
       "      <td>28</td>\n",
       "      <td>Sales Representative</td>\n",
       "      <td>5.9</td>\n",
       "      <td>4</td>\n",
       "      <td>30</td>\n",
       "      <td>8</td>\n",
       "      <td>Obese</td>\n",
       "      <td>140/90</td>\n",
       "      <td>85</td>\n",
       "      <td>3000</td>\n",
       "      <td>Sleep Apnea</td>\n",
       "    </tr>\n",
       "  </tbody>\n",
       "</table>\n",
       "</div>"
      ],
      "text/plain": [
       "   Person ID Gender  Age            Occupation  Sleep Duration  \\\n",
       "0          1   Male   27     Software Engineer             6.1   \n",
       "1          2   Male   28                Doctor             6.2   \n",
       "2          3   Male   28                Doctor             6.2   \n",
       "3          4   Male   28  Sales Representative             5.9   \n",
       "4          5   Male   28  Sales Representative             5.9   \n",
       "\n",
       "   Quality of Sleep  Physical Activity Level  Stress Level BMI Category  \\\n",
       "0                 6                       42             6   Overweight   \n",
       "1                 6                       60             8       Normal   \n",
       "2                 6                       60             8       Normal   \n",
       "3                 4                       30             8        Obese   \n",
       "4                 4                       30             8        Obese   \n",
       "\n",
       "  Blood Pressure  Heart Rate  Daily Steps Sleep Disorder  \n",
       "0         126/83          77         4200           None  \n",
       "1         125/80          75        10000           None  \n",
       "2         125/80          75        10000           None  \n",
       "3         140/90          85         3000    Sleep Apnea  \n",
       "4         140/90          85         3000    Sleep Apnea  "
      ]
     },
     "execution_count": 3,
     "metadata": {},
     "output_type": "execute_result"
    }
   ],
   "source": [
    "shl_data.head(5)"
   ]
  },
  {
   "cell_type": "code",
   "execution_count": 4,
   "id": "e044b4e6",
   "metadata": {},
   "outputs": [
    {
     "data": {
      "text/html": [
       "<div>\n",
       "<style scoped>\n",
       "    .dataframe tbody tr th:only-of-type {\n",
       "        vertical-align: middle;\n",
       "    }\n",
       "\n",
       "    .dataframe tbody tr th {\n",
       "        vertical-align: top;\n",
       "    }\n",
       "\n",
       "    .dataframe thead th {\n",
       "        text-align: right;\n",
       "    }\n",
       "</style>\n",
       "<table border=\"1\" class=\"dataframe\">\n",
       "  <thead>\n",
       "    <tr style=\"text-align: right;\">\n",
       "      <th></th>\n",
       "      <th>Person ID</th>\n",
       "      <th>Age</th>\n",
       "      <th>Sleep Duration</th>\n",
       "      <th>Quality of Sleep</th>\n",
       "      <th>Physical Activity Level</th>\n",
       "      <th>Stress Level</th>\n",
       "      <th>Heart Rate</th>\n",
       "      <th>Daily Steps</th>\n",
       "    </tr>\n",
       "  </thead>\n",
       "  <tbody>\n",
       "    <tr>\n",
       "      <th>count</th>\n",
       "      <td>374.000000</td>\n",
       "      <td>374.000000</td>\n",
       "      <td>374.000000</td>\n",
       "      <td>374.000000</td>\n",
       "      <td>374.000000</td>\n",
       "      <td>374.000000</td>\n",
       "      <td>374.000000</td>\n",
       "      <td>374.000000</td>\n",
       "    </tr>\n",
       "    <tr>\n",
       "      <th>mean</th>\n",
       "      <td>187.500000</td>\n",
       "      <td>42.184492</td>\n",
       "      <td>7.132086</td>\n",
       "      <td>7.312834</td>\n",
       "      <td>59.171123</td>\n",
       "      <td>5.385027</td>\n",
       "      <td>70.165775</td>\n",
       "      <td>6816.844920</td>\n",
       "    </tr>\n",
       "    <tr>\n",
       "      <th>std</th>\n",
       "      <td>108.108742</td>\n",
       "      <td>8.673133</td>\n",
       "      <td>0.795657</td>\n",
       "      <td>1.196956</td>\n",
       "      <td>20.830804</td>\n",
       "      <td>1.774526</td>\n",
       "      <td>4.135676</td>\n",
       "      <td>1617.915679</td>\n",
       "    </tr>\n",
       "    <tr>\n",
       "      <th>min</th>\n",
       "      <td>1.000000</td>\n",
       "      <td>27.000000</td>\n",
       "      <td>5.800000</td>\n",
       "      <td>4.000000</td>\n",
       "      <td>30.000000</td>\n",
       "      <td>3.000000</td>\n",
       "      <td>65.000000</td>\n",
       "      <td>3000.000000</td>\n",
       "    </tr>\n",
       "    <tr>\n",
       "      <th>25%</th>\n",
       "      <td>94.250000</td>\n",
       "      <td>35.250000</td>\n",
       "      <td>6.400000</td>\n",
       "      <td>6.000000</td>\n",
       "      <td>45.000000</td>\n",
       "      <td>4.000000</td>\n",
       "      <td>68.000000</td>\n",
       "      <td>5600.000000</td>\n",
       "    </tr>\n",
       "    <tr>\n",
       "      <th>50%</th>\n",
       "      <td>187.500000</td>\n",
       "      <td>43.000000</td>\n",
       "      <td>7.200000</td>\n",
       "      <td>7.000000</td>\n",
       "      <td>60.000000</td>\n",
       "      <td>5.000000</td>\n",
       "      <td>70.000000</td>\n",
       "      <td>7000.000000</td>\n",
       "    </tr>\n",
       "    <tr>\n",
       "      <th>75%</th>\n",
       "      <td>280.750000</td>\n",
       "      <td>50.000000</td>\n",
       "      <td>7.800000</td>\n",
       "      <td>8.000000</td>\n",
       "      <td>75.000000</td>\n",
       "      <td>7.000000</td>\n",
       "      <td>72.000000</td>\n",
       "      <td>8000.000000</td>\n",
       "    </tr>\n",
       "    <tr>\n",
       "      <th>max</th>\n",
       "      <td>374.000000</td>\n",
       "      <td>59.000000</td>\n",
       "      <td>8.500000</td>\n",
       "      <td>9.000000</td>\n",
       "      <td>90.000000</td>\n",
       "      <td>8.000000</td>\n",
       "      <td>86.000000</td>\n",
       "      <td>10000.000000</td>\n",
       "    </tr>\n",
       "  </tbody>\n",
       "</table>\n",
       "</div>"
      ],
      "text/plain": [
       "        Person ID         Age  Sleep Duration  Quality of Sleep  \\\n",
       "count  374.000000  374.000000      374.000000        374.000000   \n",
       "mean   187.500000   42.184492        7.132086          7.312834   \n",
       "std    108.108742    8.673133        0.795657          1.196956   \n",
       "min      1.000000   27.000000        5.800000          4.000000   \n",
       "25%     94.250000   35.250000        6.400000          6.000000   \n",
       "50%    187.500000   43.000000        7.200000          7.000000   \n",
       "75%    280.750000   50.000000        7.800000          8.000000   \n",
       "max    374.000000   59.000000        8.500000          9.000000   \n",
       "\n",
       "       Physical Activity Level  Stress Level  Heart Rate   Daily Steps  \n",
       "count               374.000000    374.000000  374.000000    374.000000  \n",
       "mean                 59.171123      5.385027   70.165775   6816.844920  \n",
       "std                  20.830804      1.774526    4.135676   1617.915679  \n",
       "min                  30.000000      3.000000   65.000000   3000.000000  \n",
       "25%                  45.000000      4.000000   68.000000   5600.000000  \n",
       "50%                  60.000000      5.000000   70.000000   7000.000000  \n",
       "75%                  75.000000      7.000000   72.000000   8000.000000  \n",
       "max                  90.000000      8.000000   86.000000  10000.000000  "
      ]
     },
     "execution_count": 4,
     "metadata": {},
     "output_type": "execute_result"
    }
   ],
   "source": [
    "# lets check the description of dataset \n",
    "shl_data.describe()"
   ]
  },
  {
   "cell_type": "markdown",
   "id": "e9ebe67c",
   "metadata": {},
   "source": [
    "### Dataset Summary\n",
    "\n",
    "- **Sample Size (n=374)**: The dataset includes 374 entries.\n",
    "\n",
    "- **Age**:\n",
    "  - **Mean**: 42.18 years, with a standard deviation of 8.67 years.\n",
    "  - **Range**: 27 to 59 years.\n",
    "\n",
    "- **Sleep Duration**:\n",
    "  - **Mean**: 7.13 hours, with a standard deviation of 0.80 hours.\n",
    "  - **Range**: 5.8 to 8.5 hours.\n",
    "  - Most individuals sleep between 6.4 and 7.8 hours (interquartile range).\n",
    "\n",
    "- **Quality of Sleep**:\n",
    "  - **Mean**: 7.31 (on a scale of 1 to 10), with a standard deviation of 1.20.\n",
    "  - Most ratings fall between 6 and 8.\n",
    "\n",
    "- **Physical Activity Level**:\n",
    "  - **Mean**: 59.17 (on a scale of 0 to 100), with a standard deviation of 20.83.\n",
    "  - The range is from 30 to 90, with most individuals scoring between 45 and 75.\n",
    "\n",
    "- **Stress Level**:\n",
    "  - **Mean**: 5.39 (on a scale of 1 to 10), with a standard deviation of 1.77.\n",
    "  - Most individuals report stress levels between 4 and 7.\n",
    "\n",
    "- **Heart Rate**:\n",
    "  - **Mean**: 70.17 beats per minute (bpm), with a standard deviation of 4.14 bpm.\n",
    "  - Heart rates range from 65 to 86 bpm.\n",
    "\n",
    "- **Daily Steps**:\n",
    "  - **Mean**: 6816.84 steps, with a standard deviation of 1617.92 steps.\n",
    "  - The number of daily steps ranges from 3000 to 10000, with most individuals taking between 5600 and 8000 steps daily.\n",
    "\n",
    "**Crux**: The dataset provides a balanced distribution across key health metrics, with most individuals falling within expected ranges for sleep duration, physical activity, stress levels, heart rate, and daily steps.\n"
   ]
  },
  {
   "cell_type": "markdown",
   "id": "91e2c791",
   "metadata": {},
   "source": [
    "The above output shows the total number of instances and their mean from the dataset "
   ]
  },
  {
   "cell_type": "code",
   "execution_count": 5,
   "id": "0ecea537",
   "metadata": {},
   "outputs": [
    {
     "name": "stdout",
     "output_type": "stream",
     "text": [
      "<class 'pandas.core.frame.DataFrame'>\n",
      "RangeIndex: 374 entries, 0 to 373\n",
      "Data columns (total 13 columns):\n",
      " #   Column                   Non-Null Count  Dtype  \n",
      "---  ------                   --------------  -----  \n",
      " 0   Person ID                374 non-null    int64  \n",
      " 1   Gender                   374 non-null    object \n",
      " 2   Age                      374 non-null    int64  \n",
      " 3   Occupation               374 non-null    object \n",
      " 4   Sleep Duration           374 non-null    float64\n",
      " 5   Quality of Sleep         374 non-null    int64  \n",
      " 6   Physical Activity Level  374 non-null    int64  \n",
      " 7   Stress Level             374 non-null    int64  \n",
      " 8   BMI Category             374 non-null    object \n",
      " 9   Blood Pressure           374 non-null    object \n",
      " 10  Heart Rate               374 non-null    int64  \n",
      " 11  Daily Steps              374 non-null    int64  \n",
      " 12  Sleep Disorder           374 non-null    object \n",
      "dtypes: float64(1), int64(7), object(5)\n",
      "memory usage: 38.1+ KB\n"
     ]
    }
   ],
   "source": [
    "# lets check what kind of data we are working on \n",
    "shl_data.info()"
   ]
  },
  {
   "cell_type": "code",
   "execution_count": 6,
   "id": "a5ad1ed6",
   "metadata": {},
   "outputs": [
    {
     "name": "stdout",
     "output_type": "stream",
     "text": [
      "  Gender  Age            Occupation  Sleep Duration  Quality of Sleep  \\\n",
      "0   Male   27     Software Engineer             6.1                 6   \n",
      "1   Male   28                Doctor             6.2                 6   \n",
      "2   Male   28                Doctor             6.2                 6   \n",
      "3   Male   28  Sales Representative             5.9                 4   \n",
      "4   Male   28  Sales Representative             5.9                 4   \n",
      "\n",
      "   Physical Activity Level  Stress Level BMI Category Blood Pressure  \\\n",
      "0                       42             6   Overweight         126/83   \n",
      "1                       60             8       Normal         125/80   \n",
      "2                       60             8       Normal         125/80   \n",
      "3                       30             8        Obese         140/90   \n",
      "4                       30             8        Obese         140/90   \n",
      "\n",
      "   Heart Rate  Daily Steps Sleep Disorder  \n",
      "0          77         4200           None  \n",
      "1          75        10000           None  \n",
      "2          75        10000           None  \n",
      "3          85         3000    Sleep Apnea  \n",
      "4          85         3000    Sleep Apnea  \n"
     ]
    }
   ],
   "source": [
    "# Dropping the 'Person ID' column from the dataset\n",
    "shl_data = shl_data.drop(columns=['Person ID'])\n",
    "\n",
    "# Verifying that the column has been removed\n",
    "print(shl_data.head())"
   ]
  },
  {
   "cell_type": "markdown",
   "id": "f3f97a0e",
   "metadata": {},
   "source": [
    "The Person ID column is typically an identifier that is unique to each individual in the dataset. While useful for tracking or linking records, it does not contribute directly to the analysis of the relationships between sleep health and lifestyle factors. Therefore, it is often dropped from the dataset before analysis to focus on the relevant variables.\n",
    "\n",
    "This step helps to streamline the data, ensuring that only necessary columns are included in further analyses, models, and visualizations"
   ]
  },
  {
   "cell_type": "code",
   "execution_count": 7,
   "id": "3bf624a0",
   "metadata": {},
   "outputs": [
    {
     "data": {
      "text/plain": [
       "array(['Software Engineer', 'Doctor', 'Sales Representative', 'Teacher',\n",
       "       'Nurse', 'Engineer', 'Accountant', 'Scientist', 'Lawyer',\n",
       "       'Salesperson', 'Manager'], dtype=object)"
      ]
     },
     "execution_count": 7,
     "metadata": {},
     "output_type": "execute_result"
    }
   ],
   "source": [
    "shl_data['Occupation'].unique()"
   ]
  },
  {
   "cell_type": "markdown",
   "id": "12ff04da",
   "metadata": {},
   "source": [
    "\n",
    "We can see that there are three names for sales field peoples [ Sales Represntative, Sales Person , Manager ] so we would change it to  Sales Reprsentative  to avoid further problems "
   ]
  },
  {
   "cell_type": "code",
   "execution_count": 8,
   "id": "a143ae97",
   "metadata": {},
   "outputs": [],
   "source": [
    "shl_data['Occupation']= shl_data['Occupation'].replace(to_replace=['Sales Representative','Salesperson','Manager'], value='Sales Representative')"
   ]
  },
  {
   "cell_type": "code",
   "execution_count": 9,
   "id": "b401b6e5",
   "metadata": {},
   "outputs": [
    {
     "data": {
      "text/plain": [
       "array(['Software Engineer', 'Doctor', 'Sales Representative', 'Teacher',\n",
       "       'Nurse', 'Engineer', 'Accountant', 'Scientist', 'Lawyer'],\n",
       "      dtype=object)"
      ]
     },
     "execution_count": 9,
     "metadata": {},
     "output_type": "execute_result"
    }
   ],
   "source": [
    "shl_data['Occupation'].unique()"
   ]
  },
  {
   "cell_type": "markdown",
   "id": "52c39f9a",
   "metadata": {},
   "source": [
    "As the occupation is categorical we need to convert it to numerical than only we could use it in model "
   ]
  },
  {
   "cell_type": "code",
   "execution_count": 10,
   "id": "5789badd",
   "metadata": {},
   "outputs": [
    {
     "data": {
      "text/html": [
       "<div>\n",
       "<style scoped>\n",
       "    .dataframe tbody tr th:only-of-type {\n",
       "        vertical-align: middle;\n",
       "    }\n",
       "\n",
       "    .dataframe tbody tr th {\n",
       "        vertical-align: top;\n",
       "    }\n",
       "\n",
       "    .dataframe thead th {\n",
       "        text-align: right;\n",
       "    }\n",
       "</style>\n",
       "<table border=\"1\" class=\"dataframe\">\n",
       "  <thead>\n",
       "    <tr style=\"text-align: right;\">\n",
       "      <th></th>\n",
       "      <th>Gender</th>\n",
       "      <th>Age</th>\n",
       "      <th>Occupation</th>\n",
       "      <th>Sleep Duration</th>\n",
       "      <th>Quality of Sleep</th>\n",
       "      <th>Physical Activity Level</th>\n",
       "      <th>Stress Level</th>\n",
       "      <th>BMI Category</th>\n",
       "      <th>Blood Pressure</th>\n",
       "      <th>Heart Rate</th>\n",
       "      <th>Daily Steps</th>\n",
       "      <th>Sleep Disorder</th>\n",
       "      <th>Occupation_Numerical</th>\n",
       "    </tr>\n",
       "  </thead>\n",
       "  <tbody>\n",
       "    <tr>\n",
       "      <th>0</th>\n",
       "      <td>Male</td>\n",
       "      <td>27</td>\n",
       "      <td>Software Engineer</td>\n",
       "      <td>6.1</td>\n",
       "      <td>6</td>\n",
       "      <td>42</td>\n",
       "      <td>6</td>\n",
       "      <td>Overweight</td>\n",
       "      <td>126/83</td>\n",
       "      <td>77</td>\n",
       "      <td>4200</td>\n",
       "      <td>None</td>\n",
       "      <td>1</td>\n",
       "    </tr>\n",
       "    <tr>\n",
       "      <th>1</th>\n",
       "      <td>Male</td>\n",
       "      <td>28</td>\n",
       "      <td>Doctor</td>\n",
       "      <td>6.2</td>\n",
       "      <td>6</td>\n",
       "      <td>60</td>\n",
       "      <td>8</td>\n",
       "      <td>Normal</td>\n",
       "      <td>125/80</td>\n",
       "      <td>75</td>\n",
       "      <td>10000</td>\n",
       "      <td>None</td>\n",
       "      <td>2</td>\n",
       "    </tr>\n",
       "    <tr>\n",
       "      <th>2</th>\n",
       "      <td>Male</td>\n",
       "      <td>28</td>\n",
       "      <td>Doctor</td>\n",
       "      <td>6.2</td>\n",
       "      <td>6</td>\n",
       "      <td>60</td>\n",
       "      <td>8</td>\n",
       "      <td>Normal</td>\n",
       "      <td>125/80</td>\n",
       "      <td>75</td>\n",
       "      <td>10000</td>\n",
       "      <td>None</td>\n",
       "      <td>2</td>\n",
       "    </tr>\n",
       "    <tr>\n",
       "      <th>3</th>\n",
       "      <td>Male</td>\n",
       "      <td>28</td>\n",
       "      <td>Sales Representative</td>\n",
       "      <td>5.9</td>\n",
       "      <td>4</td>\n",
       "      <td>30</td>\n",
       "      <td>8</td>\n",
       "      <td>Obese</td>\n",
       "      <td>140/90</td>\n",
       "      <td>85</td>\n",
       "      <td>3000</td>\n",
       "      <td>Sleep Apnea</td>\n",
       "      <td>3</td>\n",
       "    </tr>\n",
       "    <tr>\n",
       "      <th>4</th>\n",
       "      <td>Male</td>\n",
       "      <td>28</td>\n",
       "      <td>Sales Representative</td>\n",
       "      <td>5.9</td>\n",
       "      <td>4</td>\n",
       "      <td>30</td>\n",
       "      <td>8</td>\n",
       "      <td>Obese</td>\n",
       "      <td>140/90</td>\n",
       "      <td>85</td>\n",
       "      <td>3000</td>\n",
       "      <td>Sleep Apnea</td>\n",
       "      <td>3</td>\n",
       "    </tr>\n",
       "  </tbody>\n",
       "</table>\n",
       "</div>"
      ],
      "text/plain": [
       "  Gender  Age            Occupation  Sleep Duration  Quality of Sleep  \\\n",
       "0   Male   27     Software Engineer             6.1                 6   \n",
       "1   Male   28                Doctor             6.2                 6   \n",
       "2   Male   28                Doctor             6.2                 6   \n",
       "3   Male   28  Sales Representative             5.9                 4   \n",
       "4   Male   28  Sales Representative             5.9                 4   \n",
       "\n",
       "   Physical Activity Level  Stress Level BMI Category Blood Pressure  \\\n",
       "0                       42             6   Overweight         126/83   \n",
       "1                       60             8       Normal         125/80   \n",
       "2                       60             8       Normal         125/80   \n",
       "3                       30             8        Obese         140/90   \n",
       "4                       30             8        Obese         140/90   \n",
       "\n",
       "   Heart Rate  Daily Steps Sleep Disorder  Occupation_Numerical  \n",
       "0          77         4200           None                     1  \n",
       "1          75        10000           None                     2  \n",
       "2          75        10000           None                     2  \n",
       "3          85         3000    Sleep Apnea                     3  \n",
       "4          85         3000    Sleep Apnea                     3  "
      ]
     },
     "execution_count": 10,
     "metadata": {},
     "output_type": "execute_result"
    }
   ],
   "source": [
    "# Create a dictionary to map each occupation to a unique number\n",
    "occupation_mapping = {\n",
    "    'Software Engineer': 1,\n",
    "    'Doctor': 2,\n",
    "    'Sales Representative': 3,\n",
    "    'Teacher': 4,\n",
    "    'Nurse': 5,\n",
    "    'Engineer': 6,\n",
    "    'Accountant': 7,\n",
    "    'Scientist': 8,\n",
    "    'Lawyer': 9\n",
    "}\n",
    "\n",
    "# Map the 'Occupation' column to the numerical values\n",
    "shl_data['Occupation_Numerical'] = shl_data['Occupation'].map(occupation_mapping)\n",
    "\n",
    "# Display the first few rows to verify the changes\n",
    "shl_data.head()\n"
   ]
  },
  {
   "cell_type": "markdown",
   "id": "bf9a898b",
   "metadata": {},
   "source": [
    "# Missing Values "
   ]
  },
  {
   "cell_type": "code",
   "execution_count": 11,
   "id": "4c0551dd",
   "metadata": {},
   "outputs": [
    {
     "data": {
      "text/plain": [
       "Gender                     0\n",
       "Age                        0\n",
       "Occupation                 0\n",
       "Sleep Duration             0\n",
       "Quality of Sleep           0\n",
       "Physical Activity Level    0\n",
       "Stress Level               0\n",
       "BMI Category               0\n",
       "Blood Pressure             0\n",
       "Heart Rate                 0\n",
       "Daily Steps                0\n",
       "Sleep Disorder             0\n",
       "Occupation_Numerical       0\n",
       "dtype: int64"
      ]
     },
     "execution_count": 11,
     "metadata": {},
     "output_type": "execute_result"
    }
   ],
   "source": [
    "#lets check for missing values in the data set \n",
    "\n",
    "shl_data.isnull().sum()"
   ]
  },
  {
   "cell_type": "markdown",
   "id": "5b01aab6",
   "metadata": {},
   "source": [
    "No Missing value are found in the data set so moving forward to create some feature from the dataset which would be helpfull in the understanding the data "
   ]
  },
  {
   "cell_type": "markdown",
   "id": "4efedef9",
   "metadata": {},
   "source": [
    "# Feature Engineering "
   ]
  },
  {
   "cell_type": "markdown",
   "id": "b0c15014",
   "metadata": {},
   "source": [
    " Converting 'BMI Category' to a numerical format for analysis "
   ]
  },
  {
   "cell_type": "code",
   "execution_count": 12,
   "id": "22595bd9",
   "metadata": {},
   "outputs": [],
   "source": [
    "# Convert BMI Category to ordinal for correlation analysis\n",
    "bmi_mapping = {'Underweight': 1, 'Normal': 2, 'Overweight': 3, 'Obese': 4}\n",
    "shl_data['BMI Category Ord'] = shl_data['BMI Category'].map(bmi_mapping)\n"
   ]
  },
  {
   "cell_type": "markdown",
   "id": "15a74d79",
   "metadata": {},
   "source": [
    "### Blood Pressure Variables: Systolic BP and Diastolic BP\n",
    "\n",
    "In this analysis, we extracted two new variables from the original **'Blood Pressure'** column, which stored readings in the format `\"Systolic/Diastolic\"` (e.g., `\"120/80\"`). The extraction process allowed us to separately analyze the systolic and diastolic components of blood pressure.\n",
    "\n",
    "- **Systolic BP**:\n",
    "  - **Definition**: Systolic blood pressure is the top number in a blood pressure reading. It measures the pressure in the arteries when the heart beats (contracts). For example, in the reading `\"120/80\"`, `120` represents the systolic BP.\n",
    "  \n",
    "- **Diastolic BP**:\n",
    "  - **Definition**: Diastolic blood pressure is the bottom number in a blood pressure reading. It measures the pressure in the arteries when the heart is at rest between beats. In the reading `\"120/80\"`, `80` represents the diastolic BP.\n",
    "\n",
    "\n"
   ]
  },
  {
   "cell_type": "code",
   "execution_count": 13,
   "id": "205409df",
   "metadata": {},
   "outputs": [],
   "source": [
    "# Extracting systolic and diastolic blood pressure from the 'Blood Pressure' column\n",
    "shl_data['Systolic BP'] = shl_data['Blood Pressure'].apply(lambda x: int(x.split('/')[0]))\n",
    "shl_data['Diastolic BP'] = shl_data['Blood Pressure'].apply(lambda x: int(x.split('/')[1]))"
   ]
  },
  {
   "cell_type": "markdown",
   "id": "f5a3d4ab",
   "metadata": {},
   "source": [
    "# Exploratory Data Analysis "
   ]
  },
  {
   "cell_type": "markdown",
   "id": "41ad97e0",
   "metadata": {},
   "source": [
    "## Correlation Analysis "
   ]
  },
  {
   "cell_type": "code",
   "execution_count": 14,
   "id": "b06b74b8",
   "metadata": {},
   "outputs": [
    {
     "data": {
      "image/png": "[encoded data removed]",
      "text/plain": [
       "<Figure size 720x576 with 2 Axes>"
      ]
     },
     "metadata": {
      "needs_background": "light"
     },
     "output_type": "display_data"
    }
   ],
   "source": [
    "# checking for correlation between columns\n",
    "Corr_Colum = ['Daily Steps', 'BMI Category Ord', 'Systolic BP', 'Diastolic BP', 'Heart Rate','Occupation_Numerical']\n",
    "correlation_data = shl_data[Corr_Colum].corr()\n",
    "\n",
    "# Plotting the correlation matrix\n",
    "plt.figure(figsize=(10, 8))\n",
    "sns.heatmap(correlation_data, annot=True, cmap='coolwarm', fmt=\".2f\")\n",
    "plt.title('Correlation Matrix for Daily Steps and Health Metrics')\n",
    "plt.show()\n"
   ]
  },
  {
   "cell_type": "markdown",
   "id": "e8027fa7",
   "metadata": {},
   "source": [
    "### Explanation of the Correlation Matrix Output\n",
    "\n",
    "The correlation matrix visualizes the relationships between various health metrics, including **Daily Steps**, **BMI Category**, **Systolic BP** (Blood Pressure), **Diastolic BP**, and **Heart Rate**. The values in the matrix range from -1 to 1, where:\n",
    "\n",
    "- **1** indicates a perfect positive correlation.\n",
    "- **-1** indicates a perfect negative correlation.\n",
    "- **0** indicates no correlation.\n",
    "\n",
    "#### Key Insights:\n",
    "1. **Strong Positive Correlations**:\n",
    "   - **Systolic BP and Diastolic BP**: These two blood pressure measurements are highly correlated (0.97), which is expected since they are two components of the blood pressure reading.\n",
    "   - **BMI Category and Both Blood Pressure Metrics**: BMI has a moderate positive correlation with both Systolic BP (0.74) and Diastolic BP (0.74). This suggests that higher BMI categories tend to be associated with higher blood pressure.\n",
    "\n",
    "2. **Moderate Positive Correlation**:\n",
    "   - **Daily Steps and Systolic BP/Diastolic BP**: There's a moderate positive correlation between daily steps and both systolic (0.24) and diastolic (0.24) blood pressure. This could indicate that individuals who walk more might have slightly higher blood pressure, which could be linked to other lifestyle factors.\n",
    "   - **Heart Rate and Diastolic BP**: A moderate correlation of 0.51 suggests that as heart rate increases, diastolic blood pressure may also increase.\n",
    "\n",
    "3. **Weak or No Correlation**:\n",
    "   - **Daily Steps and Heart Rate**: The correlation between daily steps and heart rate is weak (0.10), indicating little to no linear relationship.\n",
    "   - **BMI Category and Heart Rate**: There’s also a weak correlation (-0.03) between BMI and heart rate, suggesting that BMI does not strongly influence heart rate directly.\n",
    "\n",
    "#### Important Variables:\n",
    "- **BMI Category**: Correlates moderately with both systolic and diastolic blood pressure, making it an important variable to consider when analyzing cardiovascular health.\n",
    "- **Blood Pressure (Systolic and Diastolic)**: These metrics are closely related and both show meaningful correlations with BMI, making them crucial indicators of cardiovascular health.\n",
    "- **Heart Rate**: While heart rate shows weaker correlations with other variables, it remains an important metric to monitor, especially in relation to blood pressure.\n",
    "\n",
    "In summary, the matrix highlights the close relationship between BMI and blood pressure, with daily steps showing moderate correlations with blood pressure metrics. Heart rate appears less correlated with these factors but is still a valuable health indicator.\n"
   ]
  },
  {
   "cell_type": "code",
   "execution_count": 15,
   "id": "825e2d0d",
   "metadata": {},
   "outputs": [
    {
     "data": {
      "text/html": [
       "<div>\n",
       "<style scoped>\n",
       "    .dataframe tbody tr th:only-of-type {\n",
       "        vertical-align: middle;\n",
       "    }\n",
       "\n",
       "    .dataframe tbody tr th {\n",
       "        vertical-align: top;\n",
       "    }\n",
       "\n",
       "    .dataframe thead th {\n",
       "        text-align: right;\n",
       "    }\n",
       "</style>\n",
       "<table border=\"1\" class=\"dataframe\">\n",
       "  <thead>\n",
       "    <tr style=\"text-align: right;\">\n",
       "      <th></th>\n",
       "      <th>Age</th>\n",
       "      <th>Sleep Duration</th>\n",
       "      <th>Quality of Sleep</th>\n",
       "      <th>Physical Activity Level</th>\n",
       "      <th>Stress Level</th>\n",
       "      <th>Heart Rate</th>\n",
       "      <th>Daily Steps</th>\n",
       "      <th>Occupation_Numerical</th>\n",
       "      <th>BMI Category Ord</th>\n",
       "      <th>Systolic BP</th>\n",
       "      <th>Diastolic BP</th>\n",
       "    </tr>\n",
       "  </thead>\n",
       "  <tbody>\n",
       "    <tr>\n",
       "      <th>count</th>\n",
       "      <td>374.000000</td>\n",
       "      <td>374.000000</td>\n",
       "      <td>374.000000</td>\n",
       "      <td>374.000000</td>\n",
       "      <td>374.000000</td>\n",
       "      <td>374.000000</td>\n",
       "      <td>374.000000</td>\n",
       "      <td>374.000000</td>\n",
       "      <td>353.000000</td>\n",
       "      <td>374.000000</td>\n",
       "      <td>374.000000</td>\n",
       "    </tr>\n",
       "    <tr>\n",
       "      <th>mean</th>\n",
       "      <td>42.184492</td>\n",
       "      <td>7.132086</td>\n",
       "      <td>7.312834</td>\n",
       "      <td>59.171123</td>\n",
       "      <td>5.385027</td>\n",
       "      <td>70.165775</td>\n",
       "      <td>6816.844920</td>\n",
       "      <td>4.994652</td>\n",
       "      <td>2.475921</td>\n",
       "      <td>128.553476</td>\n",
       "      <td>84.649733</td>\n",
       "    </tr>\n",
       "    <tr>\n",
       "      <th>std</th>\n",
       "      <td>8.673133</td>\n",
       "      <td>0.795657</td>\n",
       "      <td>1.196956</td>\n",
       "      <td>20.830804</td>\n",
       "      <td>1.774526</td>\n",
       "      <td>4.135676</td>\n",
       "      <td>1617.915679</td>\n",
       "      <td>2.246230</td>\n",
       "      <td>0.554028</td>\n",
       "      <td>7.748118</td>\n",
       "      <td>6.161611</td>\n",
       "    </tr>\n",
       "    <tr>\n",
       "      <th>min</th>\n",
       "      <td>27.000000</td>\n",
       "      <td>5.800000</td>\n",
       "      <td>4.000000</td>\n",
       "      <td>30.000000</td>\n",
       "      <td>3.000000</td>\n",
       "      <td>65.000000</td>\n",
       "      <td>3000.000000</td>\n",
       "      <td>1.000000</td>\n",
       "      <td>2.000000</td>\n",
       "      <td>115.000000</td>\n",
       "      <td>75.000000</td>\n",
       "    </tr>\n",
       "    <tr>\n",
       "      <th>25%</th>\n",
       "      <td>35.250000</td>\n",
       "      <td>6.400000</td>\n",
       "      <td>6.000000</td>\n",
       "      <td>45.000000</td>\n",
       "      <td>4.000000</td>\n",
       "      <td>68.000000</td>\n",
       "      <td>5600.000000</td>\n",
       "      <td>3.000000</td>\n",
       "      <td>2.000000</td>\n",
       "      <td>125.000000</td>\n",
       "      <td>80.000000</td>\n",
       "    </tr>\n",
       "    <tr>\n",
       "      <th>50%</th>\n",
       "      <td>43.000000</td>\n",
       "      <td>7.200000</td>\n",
       "      <td>7.000000</td>\n",
       "      <td>60.000000</td>\n",
       "      <td>5.000000</td>\n",
       "      <td>70.000000</td>\n",
       "      <td>7000.000000</td>\n",
       "      <td>5.000000</td>\n",
       "      <td>2.000000</td>\n",
       "      <td>130.000000</td>\n",
       "      <td>85.000000</td>\n",
       "    </tr>\n",
       "    <tr>\n",
       "      <th>75%</th>\n",
       "      <td>50.000000</td>\n",
       "      <td>7.800000</td>\n",
       "      <td>8.000000</td>\n",
       "      <td>75.000000</td>\n",
       "      <td>7.000000</td>\n",
       "      <td>72.000000</td>\n",
       "      <td>8000.000000</td>\n",
       "      <td>6.000000</td>\n",
       "      <td>3.000000</td>\n",
       "      <td>135.000000</td>\n",
       "      <td>90.000000</td>\n",
       "    </tr>\n",
       "    <tr>\n",
       "      <th>max</th>\n",
       "      <td>59.000000</td>\n",
       "      <td>8.500000</td>\n",
       "      <td>9.000000</td>\n",
       "      <td>90.000000</td>\n",
       "      <td>8.000000</td>\n",
       "      <td>86.000000</td>\n",
       "      <td>10000.000000</td>\n",
       "      <td>9.000000</td>\n",
       "      <td>4.000000</td>\n",
       "      <td>142.000000</td>\n",
       "      <td>95.000000</td>\n",
       "    </tr>\n",
       "  </tbody>\n",
       "</table>\n",
       "</div>"
      ],
      "text/plain": [
       "              Age  Sleep Duration  Quality of Sleep  Physical Activity Level  \\\n",
       "count  374.000000      374.000000        374.000000               374.000000   \n",
       "mean    42.184492        7.132086          7.312834                59.171123   \n",
       "std      8.673133        0.795657          1.196956                20.830804   \n",
       "min     27.000000        5.800000          4.000000                30.000000   \n",
       "25%     35.250000        6.400000          6.000000                45.000000   \n",
       "50%     43.000000        7.200000          7.000000                60.000000   \n",
       "75%     50.000000        7.800000          8.000000                75.000000   \n",
       "max     59.000000        8.500000          9.000000                90.000000   \n",
       "\n",
       "       Stress Level  Heart Rate   Daily Steps  Occupation_Numerical  \\\n",
       "count    374.000000  374.000000    374.000000            374.000000   \n",
       "mean       5.385027   70.165775   6816.844920              4.994652   \n",
       "std        1.774526    4.135676   1617.915679              2.246230   \n",
       "min        3.000000   65.000000   3000.000000              1.000000   \n",
       "25%        4.000000   68.000000   5600.000000              3.000000   \n",
       "50%        5.000000   70.000000   7000.000000              5.000000   \n",
       "75%        7.000000   72.000000   8000.000000              6.000000   \n",
       "max        8.000000   86.000000  10000.000000              9.000000   \n",
       "\n",
       "       BMI Category Ord  Systolic BP  Diastolic BP  \n",
       "count        353.000000   374.000000    374.000000  \n",
       "mean           2.475921   128.553476     84.649733  \n",
       "std            0.554028     7.748118      6.161611  \n",
       "min            2.000000   115.000000     75.000000  \n",
       "25%            2.000000   125.000000     80.000000  \n",
       "50%            2.000000   130.000000     85.000000  \n",
       "75%            3.000000   135.000000     90.000000  \n",
       "max            4.000000   142.000000     95.000000  "
      ]
     },
     "execution_count": 15,
     "metadata": {},
     "output_type": "execute_result"
    }
   ],
   "source": [
    "#summary statistics of data set \n",
    "shl_data.describe()"
   ]
  },
  {
   "cell_type": "markdown",
   "id": "5614d5c6",
   "metadata": {},
   "source": [
    "### Pair plots "
   ]
  },
  {
   "cell_type": "code",
   "execution_count": 16,
   "id": "7ff54979",
   "metadata": {},
   "outputs": [
    {
     "name": "stderr",
     "output_type": "stream",
     "text": [
      "C:\\Users\\ASUS\\anaconda3\\lib\\site-packages\\seaborn\\axisgrid.py:64: UserWarning:\n",
      "\n",
      "The figure layout has changed to tight\n",
      "\n"
     ]
    },
    {
     "data": {
      "image/png": "[encoded data removed]",
      "text/plain": [
       "<Figure size 1260x1260 with 56 Axes>"
      ]
     },
     "metadata": {
      "needs_background": "light"
     },
     "output_type": "display_data"
    }
   ],
   "source": [
    "#Creatint a variable including health metrics\n",
    "pairplot_variables = [\n",
    "    'Sleep Duration',\n",
    "    'Quality of Sleep',\n",
    "    'Physical Activity Level',\n",
    "    'Stress Level',\n",
    "    'Heart Rate',\n",
    "    'Daily Steps',\n",
    "    'Occupation_Numerical'\n",
    "]\n",
    "\n",
    "# Creating pairwise plots\n",
    "sns.pairplot(shl_data[pairplot_variables])\n",
    "plt.show()"
   ]
  },
  {
   "cell_type": "markdown",
   "id": "c4217b0c",
   "metadata": {},
   "source": [
    "Relationships Between Variables:\n",
    "\n",
    "**Sleep Duration vs. Quality of Sleep:**  There appears to be some positive correlation, as higher sleep duration may be associated with better sleep quality, though the relationship is not very strong.<br>\n",
    "**Physical Activity Level vs. Daily Steps:** There is a positive relationship here, indicating that as physical activity increases, so do daily steps, which makes intuitive sense.<br>\n",
    "**Stress Level vs. Quality of Sleep:**  There appears to be some negative correlation, where higher stress levels may be associated with lower sleep quality, although this relationship is weak."
   ]
  },
  {
   "cell_type": "markdown",
   "id": "5668fb4c",
   "metadata": {},
   "source": [
    "### Box plots "
   ]
  },
  {
   "cell_type": "markdown",
   "id": "f0264601",
   "metadata": {},
   "source": [
    "## Health Metrics Analysis Based on Daily Steps\n",
    "\n",
    "This section presents an analysis of various health metrics in relation to daily physical activity measured in steps. Five key health metrics are considered: sleep duration, sleep quality, systolic blood pressure, diastolic blood pressure, and heart rate.\n",
    "\n",
    "1. **Sleep Duration**: Shows a positive correlation between increased daily steps and longer sleep duration.\n",
    "2. **Sleep Quality**: Indicates an improvement in sleep quality with an increase in daily steps up to a certain point.\n",
    "3. **Systolic Blood Pressure**: Demonstrates a decrease in systolic blood pressure with an increase in daily steps, suggesting cardiovascular benefits from moderate exercise.\n",
    "4. **Diastolic Blood Pressure**: Similar trend as systolic blood pressure, with improvements up to a moderate level of daily steps.\n",
    "5. **Heart Rate**: Heart rate increases slightly with higher daily steps, reflecting higher cardiac activity at increased levels of exercise.\n",
    "\n",
    "These insights underscore the importance of physical activity in maintaining and improving overall health, particularly sleep and cardiovascular function.\n"
   ]
  },
  {
   "cell_type": "code",
   "execution_count": 17,
   "id": "6f5013db",
   "metadata": {},
   "outputs": [
    {
     "data": {
      "image/png": "[encoded data removed]",
      "text/plain": [
       "<Figure size 720x432 with 1 Axes>"
      ]
     },
     "metadata": {
      "needs_background": "light"
     },
     "output_type": "display_data"
    },
    {
     "data": {
      "image/png": "[encoded data removed]",
      "text/plain": [
       "<Figure size 720x432 with 1 Axes>"
      ]
     },
     "metadata": {
      "needs_background": "light"
     },
     "output_type": "display_data"
    },
    {
     "data": {
      "image/png": "[encoded data removed]",
      "text/plain": [
       "<Figure size 720x432 with 1 Axes>"
      ]
     },
     "metadata": {
      "needs_background": "light"
     },
     "output_type": "display_data"
    },
    {
     "data": {
      "image/png": "[encoded data removed]",
      "text/plain": [
       "<Figure size 720x432 with 1 Axes>"
      ]
     },
     "metadata": {
      "needs_background": "light"
     },
     "output_type": "display_data"
    },
    {
     "data": {
      "image/png": "[encoded data removed]",
      "text/plain": [
       "<Figure size 720x432 with 1 Axes>"
      ]
     },
     "metadata": {
      "needs_background": "light"
     },
     "output_type": "display_data"
    },
    {
     "data": {
      "image/png": "[encoded data removed]",
      "text/plain": [
       "<Figure size 720x432 with 1 Axes>"
      ]
     },
     "metadata": {
      "needs_background": "light"
     },
     "output_type": "display_data"
    }
   ],
   "source": [
    "# Key metrics to analyze by occupation\n",
    "key_metrics = [\n",
    "    'Sleep Duration', \n",
    "    'Quality of Sleep', \n",
    "    'Physical Activity Level', \n",
    "    'Stress Level', \n",
    "    'Heart Rate', \n",
    "    'Daily Steps'\n",
    "]\n",
    "\n",
    "# Create boxplots for each metric by occupation\n",
    "for metric in key_metrics:\n",
    "    plt.figure(figsize=(10, 6))\n",
    "    sns.boxplot(x='Occupation', y=metric, data=shl_data)\n",
    "    plt.xticks(rotation=90)\n",
    "    plt.title(f'{metric} by Occupation')\n",
    "    plt.show()"
   ]
  },
  {
   "cell_type": "markdown",
   "id": "e3aadee5",
   "metadata": {},
   "source": [
    "<Strong>Insights from box plots</Strong><br>\n",
    "Occupations with more active roles (e.g., Nurses, Doctors) tend to have higher physical activity levels, better sleep quality, and more daily steps.\n",
    "Occupations with higher stress (e.g., Sales Representatives, Managers) tend to have poorer sleep quality, higher stress levels, and higher heart rates.\n",
    "Teachers consistently show better sleep duration and quality, lower stress, and moderate physical activity."
   ]
  },
  {
   "cell_type": "code",
   "execution_count": 18,
   "id": "21f20b78",
   "metadata": {},
   "outputs": [
    {
     "data": {
      "text/html": [
       "        <script type=\"text/javascript\">\n",
       "        window.PlotlyConfig = {MathJaxConfig: 'local'};\n",
       "        if (window.MathJax) {MathJax.Hub.Config({SVG: {font: \"STIX-Web\"}});}\n",
       "        if (typeof require !== 'undefined') {\n",
       "        require.undef(\"plotly\");\n",
       "        requirejs.config({\n",
       "            paths: {\n",
       "                'plotly': ['https://cdn.plot.ly/plotly-2.1.0.min']\n",
       "            }\n",
       "        });\n",
       "        require(['plotly'], function(Plotly) {\n",
       "            window._Plotly = Plotly;\n",
       "        });\n",
       "        }\n",
       "        </script>\n",
       "        "
      ]
     },
     "metadata": {},
     "output_type": "display_data"
    },
    {
     "data": {
      "application/vnd.plotly.v1+json": {
       "config": {
        "linkText": "Export to plot.ly",
        "plotlyServerURL": "https://plot.ly",
        "showLink": false
       },
       "data": [
        {
         "hovertemplate": "Daily Steps=%{x}<br>BMI Category Ord=%{y}<extra></extra>",
         "legendgroup": "",
         "marker": {
          "color": "#636efa",
          "symbol": "circle"
         },
         "mode": "markers",
         "name": "",
         "orientation": "v",
         "showlegend": false,
         "type": "scatter",
         "x": [
          4200,
          10000,
          10000,
          3000,
          3000,
          3000,
          3500,
          8000,
          8000,
          8000,
          8000,
          8000,
          8000,
          8000,
          8000,
          8000,
          4000,
          8000,
          4000,
          8000,
          8000,
          8000,
          8000,
          8000,
          8000,
          8000,
          8000,
          8000,
          8000,
          8000,
          4100,
          4100,
          6800,
          5000,
          8000,
          5000,
          5000,
          8000,
          8000,
          8000,
          8000,
          8000,
          8000,
          8000,
          8000,
          8000,
          8000,
          8000,
          8000,
          8000,
          8000,
          8000,
          5000,
          8000,
          5000,
          5000,
          8000,
          5000,
          5000,
          8000,
          5000,
          5000,
          5000,
          5000,
          5000,
          5000,
          7000,
          5000,
          5500,
          5500,
          5000,
          5000,
          5000,
          5000,
          5000,
          5000,
          5000,
          5000,
          5000,
          5000,
          5200,
          5200,
          5600,
          5600,
          8000,
          7000,
          5000,
          5000,
          5000,
          5000,
          5000,
          5000,
          8000,
          3300,
          7000,
          7000,
          7000,
          7000,
          7000,
          7000,
          7000,
          7000,
          7000,
          4800,
          7000,
          4800,
          4200,
          7000,
          7000,
          8000,
          7000,
          8000,
          7000,
          8000,
          7000,
          7000,
          7000,
          7000,
          7000,
          7000,
          7000,
          7000,
          7000,
          7000,
          7000,
          8000,
          8000,
          7000,
          8000,
          8000,
          7000,
          8000,
          8000,
          7000,
          8000,
          8000,
          7000,
          8000,
          7000,
          8000,
          7000,
          8000,
          7000,
          7000,
          8000,
          3300,
          8000,
          4000,
          5500,
          7500,
          7500,
          8000,
          8000,
          8000,
          8000,
          8000,
          8000,
          8000,
          8000,
          8000,
          8000,
          7300,
          7300,
          8000,
          8000,
          8000,
          6200,
          6000,
          6000,
          8000,
          8000,
          8000,
          8000,
          8000,
          8000,
          8000,
          8000,
          6000,
          8000,
          8000,
          8000,
          8000,
          8000,
          8000,
          5000,
          5000,
          6000,
          6000,
          6000,
          6000,
          6000,
          6000,
          6000,
          6000,
          6000,
          6000,
          6000,
          6000,
          6000,
          6000,
          6000,
          8000,
          8000,
          6800,
          6800,
          8000,
          8000,
          8000,
          8000,
          8000,
          8000,
          8000,
          8000,
          8000,
          8000,
          8000,
          8000,
          8000,
          8000,
          6000,
          6000,
          6000,
          6000,
          6000,
          6000,
          6000,
          6000,
          6000,
          6000,
          6000,
          6000,
          6000,
          6000,
          6000,
          6000,
          6000,
          6000,
          6000,
          6000,
          6000,
          6000,
          6000,
          6000,
          6000,
          6000,
          6000,
          6000,
          5000,
          6000,
          6000,
          6000,
          6000,
          6000,
          6000,
          6000,
          6000,
          6000,
          6000,
          6000,
          6000,
          6000,
          6000,
          6000,
          5500,
          3500,
          10000,
          3500,
          10000,
          10000,
          10000,
          10000,
          10000,
          10000,
          10000,
          10000,
          10000,
          3700,
          3700,
          10000,
          5000,
          10000,
          10000,
          10000,
          10000,
          10000,
          10000,
          10000,
          10000,
          10000,
          10000,
          10000,
          10000,
          10000,
          10000,
          10000,
          10000,
          10000,
          10000,
          5000,
          5000,
          5000,
          5000,
          6000,
          10000,
          10000,
          10000,
          6000,
          6000,
          6000,
          6000,
          6000,
          6000,
          5000,
          5000,
          5000,
          5000,
          5000,
          5000,
          5000,
          5000,
          5000,
          5000,
          5000,
          5000,
          5000,
          5000,
          5000,
          5000,
          5000,
          5000,
          5000,
          5000,
          5000,
          5000,
          5000,
          5000,
          5000,
          5000,
          5000,
          5000,
          5000,
          10000,
          10000,
          7000,
          7000,
          7000,
          7000,
          7000,
          7000,
          7000,
          7000,
          7000,
          7000,
          7000,
          7000,
          7000,
          7000,
          7000,
          7000,
          7000,
          7000,
          7000,
          7000,
          7000,
          7000,
          7000,
          7000,
          7000,
          7000,
          7000,
          7000,
          7000,
          7000,
          7000
         ],
         "xaxis": "x",
         "y": [
          3,
          2,
          2,
          4,
          4,
          4,
          4,
          2,
          2,
          2,
          2,
          2,
          2,
          2,
          2,
          2,
          null,
          2,
          null,
          2,
          2,
          2,
          2,
          2,
          2,
          2,
          2,
          2,
          2,
          2,
          null,
          null,
          null,
          2,
          2,
          2,
          2,
          2,
          2,
          2,
          2,
          2,
          2,
          2,
          2,
          2,
          2,
          2,
          2,
          2,
          2,
          2,
          2,
          2,
          2,
          2,
          2,
          2,
          2,
          2,
          2,
          2,
          2,
          2,
          2,
          2,
          null,
          2,
          3,
          3,
          2,
          2,
          2,
          2,
          2,
          2,
          2,
          2,
          2,
          2,
          3,
          3,
          3,
          3,
          null,
          2,
          2,
          2,
          2,
          2,
          2,
          2,
          null,
          4,
          2,
          2,
          2,
          2,
          2,
          2,
          2,
          2,
          2,
          3,
          2,
          3,
          3,
          null,
          null,
          2,
          2,
          2,
          2,
          2,
          2,
          2,
          2,
          2,
          2,
          2,
          2,
          2,
          2,
          2,
          2,
          null,
          2,
          2,
          2,
          2,
          2,
          2,
          2,
          2,
          2,
          2,
          2,
          2,
          2,
          2,
          2,
          2,
          2,
          2,
          2,
          4,
          2,
          3,
          null,
          null,
          null,
          2,
          2,
          2,
          2,
          2,
          2,
          2,
          2,
          2,
          2,
          null,
          null,
          2,
          2,
          2,
          null,
          3,
          3,
          2,
          2,
          2,
          2,
          2,
          2,
          2,
          2,
          3,
          2,
          2,
          2,
          2,
          2,
          2,
          3,
          3,
          3,
          3,
          3,
          3,
          3,
          3,
          3,
          3,
          3,
          3,
          3,
          3,
          3,
          3,
          3,
          2,
          2,
          null,
          3,
          2,
          2,
          2,
          2,
          2,
          2,
          2,
          2,
          2,
          2,
          2,
          2,
          2,
          2,
          3,
          3,
          3,
          3,
          3,
          3,
          3,
          3,
          3,
          3,
          3,
          3,
          3,
          3,
          3,
          3,
          3,
          3,
          3,
          3,
          3,
          3,
          3,
          3,
          3,
          3,
          3,
          3,
          3,
          3,
          3,
          3,
          3,
          3,
          3,
          3,
          3,
          3,
          3,
          3,
          3,
          3,
          3,
          3,
          3,
          4,
          3,
          4,
          3,
          3,
          3,
          3,
          3,
          3,
          3,
          3,
          3,
          4,
          4,
          3,
          2,
          3,
          3,
          3,
          3,
          3,
          3,
          3,
          3,
          3,
          3,
          3,
          3,
          3,
          3,
          3,
          3,
          3,
          3,
          2,
          2,
          2,
          2,
          null,
          3,
          3,
          3,
          3,
          3,
          3,
          3,
          3,
          3,
          2,
          2,
          2,
          2,
          2,
          2,
          2,
          2,
          2,
          2,
          2,
          2,
          2,
          2,
          2,
          2,
          2,
          2,
          2,
          2,
          2,
          2,
          2,
          2,
          2,
          2,
          2,
          3,
          3,
          null,
          null,
          3,
          3,
          3,
          3,
          3,
          3,
          3,
          3,
          3,
          3,
          3,
          3,
          3,
          3,
          3,
          3,
          3,
          3,
          3,
          3,
          3,
          3,
          3,
          3,
          3,
          3,
          3,
          3,
          3,
          3,
          3
         ],
         "yaxis": "y"
        },
        {
         "hovertemplate": "<b>OLS trendline</b><br>BMI Category Ord = -5.21607e-05 * Daily Steps + 2.83165<br>R<sup>2</sup>=0.023091<br><br>Daily Steps=%{x}<br>BMI Category Ord=%{y} <b>(trend)</b><extra></extra>",
         "legendgroup": "",
         "marker": {
          "color": "#636efa",
          "symbol": "circle"
         },
         "mode": "lines",
         "name": "",
         "showlegend": false,
         "type": "scatter",
         "x": [
          3000,
          3000,
          3000,
          3300,
          3300,
          3500,
          3500,
          3500,
          3700,
          3700,
          4000,
          4200,
          4200,
          4800,
          4800,
          5000,
          5000,
          5000,
          5000,
          5000,
          5000,
          5000,
          5000,
          5000,
          5000,
          5000,
          5000,
          5000,
          5000,
          5000,
          5000,
          5000,
          5000,
          5000,
          5000,
          5000,
          5000,
          5000,
          5000,
          5000,
          5000,
          5000,
          5000,
          5000,
          5000,
          5000,
          5000,
          5000,
          5000,
          5000,
          5000,
          5000,
          5000,
          5000,
          5000,
          5000,
          5000,
          5000,
          5000,
          5000,
          5000,
          5000,
          5000,
          5000,
          5000,
          5000,
          5000,
          5000,
          5000,
          5000,
          5000,
          5000,
          5000,
          5000,
          5000,
          5000,
          5000,
          5000,
          5000,
          5000,
          5000,
          5000,
          5000,
          5200,
          5200,
          5500,
          5500,
          5500,
          5600,
          5600,
          6000,
          6000,
          6000,
          6000,
          6000,
          6000,
          6000,
          6000,
          6000,
          6000,
          6000,
          6000,
          6000,
          6000,
          6000,
          6000,
          6000,
          6000,
          6000,
          6000,
          6000,
          6000,
          6000,
          6000,
          6000,
          6000,
          6000,
          6000,
          6000,
          6000,
          6000,
          6000,
          6000,
          6000,
          6000,
          6000,
          6000,
          6000,
          6000,
          6000,
          6000,
          6000,
          6000,
          6000,
          6000,
          6000,
          6000,
          6000,
          6000,
          6000,
          6000,
          6000,
          6000,
          6000,
          6000,
          6000,
          6000,
          6000,
          6000,
          6000,
          6000,
          6000,
          6000,
          6000,
          6000,
          6000,
          6000,
          6800,
          7000,
          7000,
          7000,
          7000,
          7000,
          7000,
          7000,
          7000,
          7000,
          7000,
          7000,
          7000,
          7000,
          7000,
          7000,
          7000,
          7000,
          7000,
          7000,
          7000,
          7000,
          7000,
          7000,
          7000,
          7000,
          7000,
          7000,
          7000,
          7000,
          7000,
          7000,
          7000,
          7000,
          7000,
          7000,
          7000,
          7000,
          7000,
          7000,
          7000,
          7000,
          7000,
          7000,
          7000,
          7000,
          7000,
          7000,
          7000,
          7000,
          7000,
          7000,
          7000,
          7000,
          7000,
          7000,
          7000,
          7000,
          7000,
          7000,
          7000,
          7000,
          7000,
          7000,
          8000,
          8000,
          8000,
          8000,
          8000,
          8000,
          8000,
          8000,
          8000,
          8000,
          8000,
          8000,
          8000,
          8000,
          8000,
          8000,
          8000,
          8000,
          8000,
          8000,
          8000,
          8000,
          8000,
          8000,
          8000,
          8000,
          8000,
          8000,
          8000,
          8000,
          8000,
          8000,
          8000,
          8000,
          8000,
          8000,
          8000,
          8000,
          8000,
          8000,
          8000,
          8000,
          8000,
          8000,
          8000,
          8000,
          8000,
          8000,
          8000,
          8000,
          8000,
          8000,
          8000,
          8000,
          8000,
          8000,
          8000,
          8000,
          8000,
          8000,
          8000,
          8000,
          8000,
          8000,
          8000,
          8000,
          8000,
          8000,
          8000,
          8000,
          8000,
          8000,
          8000,
          8000,
          8000,
          8000,
          8000,
          8000,
          8000,
          8000,
          8000,
          8000,
          8000,
          8000,
          8000,
          8000,
          8000,
          8000,
          8000,
          8000,
          8000,
          8000,
          8000,
          8000,
          8000,
          8000,
          8000,
          8000,
          10000,
          10000,
          10000,
          10000,
          10000,
          10000,
          10000,
          10000,
          10000,
          10000,
          10000,
          10000,
          10000,
          10000,
          10000,
          10000,
          10000,
          10000,
          10000,
          10000,
          10000,
          10000,
          10000,
          10000,
          10000,
          10000,
          10000,
          10000,
          10000,
          10000,
          10000,
          10000,
          10000,
          10000
         ],
         "xaxis": "x",
         "y": [
          2.6751657746821182,
          2.6751657746821182,
          2.6751657746821182,
          2.659517557877879,
          2.659517557877879,
          2.64908541334172,
          2.64908541334172,
          2.64908541334172,
          2.638653268805561,
          2.638653268805561,
          2.623005052001322,
          2.6125729074651627,
          2.6125729074651627,
          2.5812764738566853,
          2.5812764738566853,
          2.570844329320526,
          2.570844329320526,
          2.570844329320526,
          2.570844329320526,
          2.570844329320526,
          2.570844329320526,
          2.570844329320526,
          2.570844329320526,
          2.570844329320526,
          2.570844329320526,
          2.570844329320526,
          2.570844329320526,
          2.570844329320526,
          2.570844329320526,
          2.570844329320526,
          2.570844329320526,
          2.570844329320526,
          2.570844329320526,
          2.570844329320526,
          2.570844329320526,
          2.570844329320526,
          2.570844329320526,
          2.570844329320526,
          2.570844329320526,
          2.570844329320526,
          2.570844329320526,
          2.570844329320526,
          2.570844329320526,
          2.570844329320526,
          2.570844329320526,
          2.570844329320526,
          2.570844329320526,
          2.570844329320526,
          2.570844329320526,
          2.570844329320526,
          2.570844329320526,
          2.570844329320526,
          2.570844329320526,
          2.570844329320526,
          2.570844329320526,
          2.570844329320526,
          2.570844329320526,
          2.570844329320526,
          2.570844329320526,
          2.570844329320526,
          2.570844329320526,
          2.570844329320526,
          2.570844329320526,
          2.570844329320526,
          2.570844329320526,
          2.570844329320526,
          2.570844329320526,
          2.570844329320526,
          2.570844329320526,
          2.570844329320526,
          2.570844329320526,
          2.570844329320526,
          2.570844329320526,
          2.570844329320526,
          2.570844329320526,
          2.570844329320526,
          2.570844329320526,
          2.570844329320526,
          2.570844329320526,
          2.570844329320526,
          2.570844329320526,
          2.570844329320526,
          2.570844329320526,
          2.560412184784367,
          2.560412184784367,
          2.544763967980128,
          2.544763967980128,
          2.544763967980128,
          2.5395478957120488,
          2.5395478957120488,
          2.5186836066397302,
          2.5186836066397302,
          2.5186836066397302,
          2.5186836066397302,
          2.5186836066397302,
          2.5186836066397302,
          2.5186836066397302,
          2.5186836066397302,
          2.5186836066397302,
          2.5186836066397302,
          2.5186836066397302,
          2.5186836066397302,
          2.5186836066397302,
          2.5186836066397302,
          2.5186836066397302,
          2.5186836066397302,
          2.5186836066397302,
          2.5186836066397302,
          2.5186836066397302,
          2.5186836066397302,
          2.5186836066397302,
          2.5186836066397302,
          2.5186836066397302,
          2.5186836066397302,
          2.5186836066397302,
          2.5186836066397302,
          2.5186836066397302,
          2.5186836066397302,
          2.5186836066397302,
          2.5186836066397302,
          2.5186836066397302,
          2.5186836066397302,
          2.5186836066397302,
          2.5186836066397302,
          2.5186836066397302,
          2.5186836066397302,
          2.5186836066397302,
          2.5186836066397302,
          2.5186836066397302,
          2.5186836066397302,
          2.5186836066397302,
          2.5186836066397302,
          2.5186836066397302,
          2.5186836066397302,
          2.5186836066397302,
          2.5186836066397302,
          2.5186836066397302,
          2.5186836066397302,
          2.5186836066397302,
          2.5186836066397302,
          2.5186836066397302,
          2.5186836066397302,
          2.5186836066397302,
          2.5186836066397302,
          2.5186836066397302,
          2.5186836066397302,
          2.5186836066397302,
          2.5186836066397302,
          2.5186836066397302,
          2.5186836066397302,
          2.5186836066397302,
          2.5186836066397302,
          2.5186836066397302,
          2.5186836066397302,
          2.5186836066397302,
          2.5186836066397302,
          2.5186836066397302,
          2.4769550284950936,
          2.4665228839589344,
          2.4665228839589344,
          2.4665228839589344,
          2.4665228839589344,
          2.4665228839589344,
          2.4665228839589344,
          2.4665228839589344,
          2.4665228839589344,
          2.4665228839589344,
          2.4665228839589344,
          2.4665228839589344,
          2.4665228839589344,
          2.4665228839589344,
          2.4665228839589344,
          2.4665228839589344,
          2.4665228839589344,
          2.4665228839589344,
          2.4665228839589344,
          2.4665228839589344,
          2.4665228839589344,
          2.4665228839589344,
          2.4665228839589344,
          2.4665228839589344,
          2.4665228839589344,
          2.4665228839589344,
          2.4665228839589344,
          2.4665228839589344,
          2.4665228839589344,
          2.4665228839589344,
          2.4665228839589344,
          2.4665228839589344,
          2.4665228839589344,
          2.4665228839589344,
          2.4665228839589344,
          2.4665228839589344,
          2.4665228839589344,
          2.4665228839589344,
          2.4665228839589344,
          2.4665228839589344,
          2.4665228839589344,
          2.4665228839589344,
          2.4665228839589344,
          2.4665228839589344,
          2.4665228839589344,
          2.4665228839589344,
          2.4665228839589344,
          2.4665228839589344,
          2.4665228839589344,
          2.4665228839589344,
          2.4665228839589344,
          2.4665228839589344,
          2.4665228839589344,
          2.4665228839589344,
          2.4665228839589344,
          2.4665228839589344,
          2.4665228839589344,
          2.4665228839589344,
          2.4665228839589344,
          2.4665228839589344,
          2.4665228839589344,
          2.4665228839589344,
          2.4665228839589344,
          2.4665228839589344,
          2.4143621612781385,
          2.4143621612781385,
          2.4143621612781385,
          2.4143621612781385,
          2.4143621612781385,
          2.4143621612781385,
          2.4143621612781385,
          2.4143621612781385,
          2.4143621612781385,
          2.4143621612781385,
          2.4143621612781385,
          2.4143621612781385,
          2.4143621612781385,
          2.4143621612781385,
          2.4143621612781385,
          2.4143621612781385,
          2.4143621612781385,
          2.4143621612781385,
          2.4143621612781385,
          2.4143621612781385,
          2.4143621612781385,
          2.4143621612781385,
          2.4143621612781385,
          2.4143621612781385,
          2.4143621612781385,
          2.4143621612781385,
          2.4143621612781385,
          2.4143621612781385,
          2.4143621612781385,
          2.4143621612781385,
          2.4143621612781385,
          2.4143621612781385,
          2.4143621612781385,
          2.4143621612781385,
          2.4143621612781385,
          2.4143621612781385,
          2.4143621612781385,
          2.4143621612781385,
          2.4143621612781385,
          2.4143621612781385,
          2.4143621612781385,
          2.4143621612781385,
          2.4143621612781385,
          2.4143621612781385,
          2.4143621612781385,
          2.4143621612781385,
          2.4143621612781385,
          2.4143621612781385,
          2.4143621612781385,
          2.4143621612781385,
          2.4143621612781385,
          2.4143621612781385,
          2.4143621612781385,
          2.4143621612781385,
          2.4143621612781385,
          2.4143621612781385,
          2.4143621612781385,
          2.4143621612781385,
          2.4143621612781385,
          2.4143621612781385,
          2.4143621612781385,
          2.4143621612781385,
          2.4143621612781385,
          2.4143621612781385,
          2.4143621612781385,
          2.4143621612781385,
          2.4143621612781385,
          2.4143621612781385,
          2.4143621612781385,
          2.4143621612781385,
          2.4143621612781385,
          2.4143621612781385,
          2.4143621612781385,
          2.4143621612781385,
          2.4143621612781385,
          2.4143621612781385,
          2.4143621612781385,
          2.4143621612781385,
          2.4143621612781385,
          2.4143621612781385,
          2.4143621612781385,
          2.4143621612781385,
          2.4143621612781385,
          2.4143621612781385,
          2.4143621612781385,
          2.4143621612781385,
          2.4143621612781385,
          2.4143621612781385,
          2.4143621612781385,
          2.4143621612781385,
          2.4143621612781385,
          2.4143621612781385,
          2.4143621612781385,
          2.4143621612781385,
          2.4143621612781385,
          2.4143621612781385,
          2.4143621612781385,
          2.4143621612781385,
          2.3100407159165464,
          2.3100407159165464,
          2.3100407159165464,
          2.3100407159165464,
          2.3100407159165464,
          2.3100407159165464,
          2.3100407159165464,
          2.3100407159165464,
          2.3100407159165464,
          2.3100407159165464,
          2.3100407159165464,
          2.3100407159165464,
          2.3100407159165464,
          2.3100407159165464,
          2.3100407159165464,
          2.3100407159165464,
          2.3100407159165464,
          2.3100407159165464,
          2.3100407159165464,
          2.3100407159165464,
          2.3100407159165464,
          2.3100407159165464,
          2.3100407159165464,
          2.3100407159165464,
          2.3100407159165464,
          2.3100407159165464,
          2.3100407159165464,
          2.3100407159165464,
          2.3100407159165464,
          2.3100407159165464,
          2.3100407159165464,
          2.3100407159165464,
          2.3100407159165464,
          2.3100407159165464
         ],
         "yaxis": "y"
        }
       ],
       "layout": {
        "legend": {
         "tracegroupgap": 0
        },
        "template": {
         "data": {
          "bar": [
           {
            "error_x": {
             "color": "#2a3f5f"
            },
            "error_y": {
             "color": "#2a3f5f"
            },
            "marker": {
             "line": {
              "color": "#E5ECF6",
              "width": 0.5
             },
             "pattern": {
              "fillmode": "overlay",
              "size": 10,
              "solidity": 0.2
             }
            },
            "type": "bar"
           }
          ],
          "barpolar": [
           {
            "marker": {
             "line": {
              "color": "#E5ECF6",
              "width": 0.5
             },
             "pattern": {
              "fillmode": "overlay",
              "size": 10,
              "solidity": 0.2
             }
            },
            "type": "barpolar"
           }
          ],
          "carpet": [
           {
            "aaxis": {
             "endlinecolor": "#2a3f5f",
             "gridcolor": "white",
             "linecolor": "white",
             "minorgridcolor": "white",
             "startlinecolor": "#2a3f5f"
            },
            "baxis": {
             "endlinecolor": "#2a3f5f",
             "gridcolor": "white",
             "linecolor": "white",
             "minorgridcolor": "white",
             "startlinecolor": "#2a3f5f"
            },
            "type": "carpet"
           }
          ],
          "choropleth": [
           {
            "colorbar": {
             "outlinewidth": 0,
             "ticks": ""
            },
            "type": "choropleth"
           }
          ],
          "contour": [
           {
            "colorbar": {
             "outlinewidth": 0,
             "ticks": ""
            },
            "colorscale": [
             [
              0,
              "#0d0887"
             ],
             [
              0.1111111111111111,
              "#46039f"
             ],
             [
              0.2222222222222222,
              "#7201a8"
             ],
             [
              0.3333333333333333,
              "#9c179e"
             ],
             [
              0.4444444444444444,
              "#bd3786"
             ],
             [
              0.5555555555555556,
              "#d8576b"
             ],
             [
              0.6666666666666666,
              "#ed7953"
             ],
             [
              0.7777777777777778,
              "#fb9f3a"
             ],
             [
              0.8888888888888888,
              "#fdca26"
             ],
             [
              1,
              "#f0f921"
             ]
            ],
            "type": "contour"
           }
          ],
          "contourcarpet": [
           {
            "colorbar": {
             "outlinewidth": 0,
             "ticks": ""
            },
            "type": "contourcarpet"
           }
          ],
          "heatmap": [
           {
            "colorbar": {
             "outlinewidth": 0,
             "ticks": ""
            },
            "colorscale": [
             [
              0,
              "#0d0887"
             ],
             [
              0.1111111111111111,
              "#46039f"
             ],
             [
              0.2222222222222222,
              "#7201a8"
             ],
             [
              0.3333333333333333,
              "#9c179e"
             ],
             [
              0.4444444444444444,
              "#bd3786"
             ],
             [
              0.5555555555555556,
              "#d8576b"
             ],
             [
              0.6666666666666666,
              "#ed7953"
             ],
             [
              0.7777777777777778,
              "#fb9f3a"
             ],
             [
              0.8888888888888888,
              "#fdca26"
             ],
             [
              1,
              "#f0f921"
             ]
            ],
            "type": "heatmap"
           }
          ],
          "heatmapgl": [
           {
            "colorbar": {
             "outlinewidth": 0,
             "ticks": ""
            },
            "colorscale": [
             [
              0,
              "#0d0887"
             ],
             [
              0.1111111111111111,
              "#46039f"
             ],
             [
              0.2222222222222222,
              "#7201a8"
             ],
             [
              0.3333333333333333,
              "#9c179e"
             ],
             [
              0.4444444444444444,
              "#bd3786"
             ],
             [
              0.5555555555555556,
              "#d8576b"
             ],
             [
              0.6666666666666666,
              "#ed7953"
             ],
             [
              0.7777777777777778,
              "#fb9f3a"
             ],
             [
              0.8888888888888888,
              "#fdca26"
             ],
             [
              1,
              "#f0f921"
             ]
            ],
            "type": "heatmapgl"
           }
          ],
          "histogram": [
           {
            "marker": {
             "pattern": {
              "fillmode": "overlay",
              "size": 10,
              "solidity": 0.2
             }
            },
            "type": "histogram"
           }
          ],
          "histogram2d": [
           {
            "colorbar": {
             "outlinewidth": 0,
             "ticks": ""
            },
            "colorscale": [
             [
              0,
              "#0d0887"
             ],
             [
              0.1111111111111111,
              "#46039f"
             ],
             [
              0.2222222222222222,
              "#7201a8"
             ],
             [
              0.3333333333333333,
              "#9c179e"
             ],
             [
              0.4444444444444444,
              "#bd3786"
             ],
             [
              0.5555555555555556,
              "#d8576b"
             ],
             [
              0.6666666666666666,
              "#ed7953"
             ],
             [
              0.7777777777777778,
              "#fb9f3a"
             ],
             [
              0.8888888888888888,
              "#fdca26"
             ],
             [
              1,
              "#f0f921"
             ]
            ],
            "type": "histogram2d"
           }
          ],
          "histogram2dcontour": [
           {
            "colorbar": {
             "outlinewidth": 0,
             "ticks": ""
            },
            "colorscale": [
             [
              0,
              "#0d0887"
             ],
             [
              0.1111111111111111,
              "#46039f"
             ],
             [
              0.2222222222222222,
              "#7201a8"
             ],
             [
              0.3333333333333333,
              "#9c179e"
             ],
             [
              0.4444444444444444,
              "#bd3786"
             ],
             [
              0.5555555555555556,
              "#d8576b"
             ],
             [
              0.6666666666666666,
              "#ed7953"
             ],
             [
              0.7777777777777778,
              "#fb9f3a"
             ],
             [
              0.8888888888888888,
              "#fdca26"
             ],
             [
              1,
              "#f0f921"
             ]
            ],
            "type": "histogram2dcontour"
           }
          ],
          "mesh3d": [
           {
            "colorbar": {
             "outlinewidth": 0,
             "ticks": ""
            },
            "type": "mesh3d"
           }
          ],
          "parcoords": [
           {
            "line": {
             "colorbar": {
              "outlinewidth": 0,
              "ticks": ""
             }
            },
            "type": "parcoords"
           }
          ],
          "pie": [
           {
            "automargin": true,
            "type": "pie"
           }
          ],
          "scatter": [
           {
            "marker": {
             "colorbar": {
              "outlinewidth": 0,
              "ticks": ""
             }
            },
            "type": "scatter"
           }
          ],
          "scatter3d": [
           {
            "line": {
             "colorbar": {
              "outlinewidth": 0,
              "ticks": ""
             }
            },
            "marker": {
             "colorbar": {
              "outlinewidth": 0,
              "ticks": ""
             }
            },
            "type": "scatter3d"
           }
          ],
          "scattercarpet": [
           {
            "marker": {
             "colorbar": {
              "outlinewidth": 0,
              "ticks": ""
             }
            },
            "type": "scattercarpet"
           }
          ],
          "scattergeo": [
           {
            "marker": {
             "colorbar": {
              "outlinewidth": 0,
              "ticks": ""
             }
            },
            "type": "scattergeo"
           }
          ],
          "scattergl": [
           {
            "marker": {
             "colorbar": {
              "outlinewidth": 0,
              "ticks": ""
             }
            },
            "type": "scattergl"
           }
          ],
          "scattermapbox": [
           {
            "marker": {
             "colorbar": {
              "outlinewidth": 0,
              "ticks": ""
             }
            },
            "type": "scattermapbox"
           }
          ],
          "scatterpolar": [
           {
            "marker": {
             "colorbar": {
              "outlinewidth": 0,
              "ticks": ""
             }
            },
            "type": "scatterpolar"
           }
          ],
          "scatterpolargl": [
           {
            "marker": {
             "colorbar": {
              "outlinewidth": 0,
              "ticks": ""
             }
            },
            "type": "scatterpolargl"
           }
          ],
          "scatterternary": [
           {
            "marker": {
             "colorbar": {
              "outlinewidth": 0,
              "ticks": ""
             }
            },
            "type": "scatterternary"
           }
          ],
          "surface": [
           {
            "colorbar": {
             "outlinewidth": 0,
             "ticks": ""
            },
            "colorscale": [
             [
              0,
              "#0d0887"
             ],
             [
              0.1111111111111111,
              "#46039f"
             ],
             [
              0.2222222222222222,
              "#7201a8"
             ],
             [
              0.3333333333333333,
              "#9c179e"
             ],
             [
              0.4444444444444444,
              "#bd3786"
             ],
             [
              0.5555555555555556,
              "#d8576b"
             ],
             [
              0.6666666666666666,
              "#ed7953"
             ],
             [
              0.7777777777777778,
              "#fb9f3a"
             ],
             [
              0.8888888888888888,
              "#fdca26"
             ],
             [
              1,
              "#f0f921"
             ]
            ],
            "type": "surface"
           }
          ],
          "table": [
           {
            "cells": {
             "fill": {
              "color": "#EBF0F8"
             },
             "line": {
              "color": "white"
             }
            },
            "header": {
             "fill": {
              "color": "#C8D4E3"
             },
             "line": {
              "color": "white"
             }
            },
            "type": "table"
           }
          ]
         },
         "layout": {
          "annotationdefaults": {
           "arrowcolor": "#2a3f5f",
           "arrowhead": 0,
           "arrowwidth": 1
          },
          "autotypenumbers": "strict",
          "coloraxis": {
           "colorbar": {
            "outlinewidth": 0,
            "ticks": ""
           }
          },
          "colorscale": {
           "diverging": [
            [
             0,
             "#8e0152"
            ],
            [
             0.1,
             "#c51b7d"
            ],
            [
             0.2,
             "#de77ae"
            ],
            [
             0.3,
             "#f1b6da"
            ],
            [
             0.4,
             "#fde0ef"
            ],
            [
             0.5,
             "#f7f7f7"
            ],
            [
             0.6,
             "#e6f5d0"
            ],
            [
             0.7,
             "#b8e186"
            ],
            [
             0.8,
             "#7fbc41"
            ],
            [
             0.9,
             "#4d9221"
            ],
            [
             1,
             "#276419"
            ]
           ],
           "sequential": [
            [
             0,
             "#0d0887"
            ],
            [
             0.1111111111111111,
             "#46039f"
            ],
            [
             0.2222222222222222,
             "#7201a8"
            ],
            [
             0.3333333333333333,
             "#9c179e"
            ],
            [
             0.4444444444444444,
             "#bd3786"
            ],
            [
             0.5555555555555556,
             "#d8576b"
            ],
            [
             0.6666666666666666,
             "#ed7953"
            ],
            [
             0.7777777777777778,
             "#fb9f3a"
            ],
            [
             0.8888888888888888,
             "#fdca26"
            ],
            [
             1,
             "#f0f921"
            ]
           ],
           "sequentialminus": [
            [
             0,
             "#0d0887"
            ],
            [
             0.1111111111111111,
             "#46039f"
            ],
            [
             0.2222222222222222,
             "#7201a8"
            ],
            [
             0.3333333333333333,
             "#9c179e"
            ],
            [
             0.4444444444444444,
             "#bd3786"
            ],
            [
             0.5555555555555556,
             "#d8576b"
            ],
            [
             0.6666666666666666,
             "#ed7953"
            ],
            [
             0.7777777777777778,
             "#fb9f3a"
            ],
            [
             0.8888888888888888,
             "#fdca26"
            ],
            [
             1,
             "#f0f921"
            ]
           ]
          },
          "colorway": [
           "#636efa",
           "#EF553B",
           "#00cc96",
           "#ab63fa",
           "#FFA15A",
           "#19d3f3",
           "#FF6692",
           "#B6E880",
           "#FF97FF",
           "#FECB52"
          ],
          "font": {
           "color": "#2a3f5f"
          },
          "geo": {
           "bgcolor": "white",
           "lakecolor": "white",
           "landcolor": "#E5ECF6",
           "showlakes": true,
           "showland": true,
           "subunitcolor": "white"
          },
          "hoverlabel": {
           "align": "left"
          },
          "hovermode": "closest",
          "mapbox": {
           "style": "light"
          },
          "paper_bgcolor": "white",
          "plot_bgcolor": "#E5ECF6",
          "polar": {
           "angularaxis": {
            "gridcolor": "white",
            "linecolor": "white",
            "ticks": ""
           },
           "bgcolor": "#E5ECF6",
           "radialaxis": {
            "gridcolor": "white",
            "linecolor": "white",
            "ticks": ""
           }
          },
          "scene": {
           "xaxis": {
            "backgroundcolor": "#E5ECF6",
            "gridcolor": "white",
            "gridwidth": 2,
            "linecolor": "white",
            "showbackground": true,
            "ticks": "",
            "zerolinecolor": "white"
           },
           "yaxis": {
            "backgroundcolor": "#E5ECF6",
            "gridcolor": "white",
            "gridwidth": 2,
            "linecolor": "white",
            "showbackground": true,
            "ticks": "",
            "zerolinecolor": "white"
           },
           "zaxis": {
            "backgroundcolor": "#E5ECF6",
            "gridcolor": "white",
            "gridwidth": 2,
            "linecolor": "white",
            "showbackground": true,
            "ticks": "",
            "zerolinecolor": "white"
           }
          },
          "shapedefaults": {
           "line": {
            "color": "#2a3f5f"
           }
          },
          "ternary": {
           "aaxis": {
            "gridcolor": "white",
            "linecolor": "white",
            "ticks": ""
           },
           "baxis": {
            "gridcolor": "white",
            "linecolor": "white",
            "ticks": ""
           },
           "bgcolor": "#E5ECF6",
           "caxis": {
            "gridcolor": "white",
            "linecolor": "white",
            "ticks": ""
           }
          },
          "title": {
           "x": 0.05
          },
          "xaxis": {
           "automargin": true,
           "gridcolor": "white",
           "linecolor": "white",
           "ticks": "",
           "title": {
            "standoff": 15
           },
           "zerolinecolor": "white",
           "zerolinewidth": 2
          },
          "yaxis": {
           "automargin": true,
           "gridcolor": "white",
           "linecolor": "white",
           "ticks": "",
           "title": {
            "standoff": 15
           },
           "zerolinecolor": "white",
           "zerolinewidth": 2
          }
         }
        },
        "title": {
         "text": "Daily Steps vs BMI Category Ord"
        },
        "xaxis": {
         "anchor": "y",
         "domain": [
          0,
          1
         ],
         "title": {
          "text": "Daily Steps"
         }
        },
        "yaxis": {
         "anchor": "x",
         "domain": [
          0,
          1
         ],
         "title": {
          "text": "BMI Category Ord"
         }
        }
       }
      },
      "text/html": [
       "<div>                            <div id=\"3a7f98ae-b28e-4c50-9d57-2338693f3b02\" class=\"plotly-graph-div\" style=\"height:525px; width:100%;\"></div>            <script type=\"text/javascript\">                require([\"plotly\"], function(Plotly) {                    window.PLOTLYENV=window.PLOTLYENV || {};                                    if (document.getElementById(\"3a7f98ae-b28e-4c50-9d57-2338693f3b02\")) {                    Plotly.newPlot(                        \"3a7f98ae-b28e-4c50-9d57-2338693f3b02\",                        [{\"hovertemplate\":\"Daily Steps=%{x}<br>BMI Category Ord=%{y}<extra></extra>\",\"legendgroup\":\"\",\"marker\":{\"color\":\"#636efa\",\"symbol\":\"circle\"},\"mode\":\"markers\",\"name\":\"\",\"orientation\":\"v\",\"showlegend\":false,\"type\":\"scatter\",\"x\":[4200,10000,10000,3000,3000,3000,3500,8000,8000,8000,8000,8000,8000,8000,8000,8000,4000,8000,4000,8000,8000,8000,8000,8000,8000,8000,8000,8000,8000,8000,4100,4100,6800,5000,8000,5000,5000,8000,8000,8000,8000,8000,8000,8000,8000,8000,8000,8000,8000,8000,8000,8000,5000,8000,5000,5000,8000,5000,5000,8000,5000,5000,5000,5000,5000,5000,7000,5000,5500,5500,5000,5000,5000,5000,5000,5000,5000,5000,5000,5000,5200,5200,5600,5600,8000,7000,5000,5000,5000,5000,5000,5000,8000,3300,7000,7000,7000,7000,7000,7000,7000,7000,7000,4800,7000,4800,4200,7000,7000,8000,7000,8000,7000,8000,7000,7000,7000,7000,7000,7000,7000,7000,7000,7000,7000,8000,8000,7000,8000,8000,7000,8000,8000,7000,8000,8000,7000,8000,7000,8000,7000,8000,7000,7000,8000,3300,8000,4000,5500,7500,7500,8000,8000,8000,8000,8000,8000,8000,8000,8000,8000,7300,7300,8000,8000,8000,6200,6000,6000,8000,8000,8000,8000,8000,8000,8000,8000,6000,8000,8000,8000,8000,8000,8000,5000,5000,6000,6000,6000,6000,6000,6000,6000,6000,6000,6000,6000,6000,6000,6000,6000,8000,8000,6800,6800,8000,8000,8000,8000,8000,8000,8000,8000,8000,8000,8000,8000,8000,8000,6000,6000,6000,6000,6000,6000,6000,6000,6000,6000,6000,6000,6000,6000,6000,6000,6000,6000,6000,6000,6000,6000,6000,6000,6000,6000,6000,6000,5000,6000,6000,6000,6000,6000,6000,6000,6000,6000,6000,6000,6000,6000,6000,6000,5500,3500,10000,3500,10000,10000,10000,10000,10000,10000,10000,10000,10000,3700,3700,10000,5000,10000,10000,10000,10000,10000,10000,10000,10000,10000,10000,10000,10000,10000,10000,10000,10000,10000,10000,5000,5000,5000,5000,6000,10000,10000,10000,6000,6000,6000,6000,6000,6000,5000,5000,5000,5000,5000,5000,5000,5000,5000,5000,5000,5000,5000,5000,5000,5000,5000,5000,5000,5000,5000,5000,5000,5000,5000,5000,5000,5000,5000,10000,10000,7000,7000,7000,7000,7000,7000,7000,7000,7000,7000,7000,7000,7000,7000,7000,7000,7000,7000,7000,7000,7000,7000,7000,7000,7000,7000,7000,7000,7000,7000,7000],\"xaxis\":\"x\",\"y\":[3.0,2.0,2.0,4.0,4.0,4.0,4.0,2.0,2.0,2.0,2.0,2.0,2.0,2.0,2.0,2.0,null,2.0,null,2.0,2.0,2.0,2.0,2.0,2.0,2.0,2.0,2.0,2.0,2.0,null,null,null,2.0,2.0,2.0,2.0,2.0,2.0,2.0,2.0,2.0,2.0,2.0,2.0,2.0,2.0,2.0,2.0,2.0,2.0,2.0,2.0,2.0,2.0,2.0,2.0,2.0,2.0,2.0,2.0,2.0,2.0,2.0,2.0,2.0,null,2.0,3.0,3.0,2.0,2.0,2.0,2.0,2.0,2.0,2.0,2.0,2.0,2.0,3.0,3.0,3.0,3.0,null,2.0,2.0,2.0,2.0,2.0,2.0,2.0,null,4.0,2.0,2.0,2.0,2.0,2.0,2.0,2.0,2.0,2.0,3.0,2.0,3.0,3.0,null,null,2.0,2.0,2.0,2.0,2.0,2.0,2.0,2.0,2.0,2.0,2.0,2.0,2.0,2.0,2.0,2.0,null,2.0,2.0,2.0,2.0,2.0,2.0,2.0,2.0,2.0,2.0,2.0,2.0,2.0,2.0,2.0,2.0,2.0,2.0,2.0,4.0,2.0,3.0,null,null,null,2.0,2.0,2.0,2.0,2.0,2.0,2.0,2.0,2.0,2.0,null,null,2.0,2.0,2.0,null,3.0,3.0,2.0,2.0,2.0,2.0,2.0,2.0,2.0,2.0,3.0,2.0,2.0,2.0,2.0,2.0,2.0,3.0,3.0,3.0,3.0,3.0,3.0,3.0,3.0,3.0,3.0,3.0,3.0,3.0,3.0,3.0,3.0,3.0,2.0,2.0,null,3.0,2.0,2.0,2.0,2.0,2.0,2.0,2.0,2.0,2.0,2.0,2.0,2.0,2.0,2.0,3.0,3.0,3.0,3.0,3.0,3.0,3.0,3.0,3.0,3.0,3.0,3.0,3.0,3.0,3.0,3.0,3.0,3.0,3.0,3.0,3.0,3.0,3.0,3.0,3.0,3.0,3.0,3.0,3.0,3.0,3.0,3.0,3.0,3.0,3.0,3.0,3.0,3.0,3.0,3.0,3.0,3.0,3.0,3.0,3.0,4.0,3.0,4.0,3.0,3.0,3.0,3.0,3.0,3.0,3.0,3.0,3.0,4.0,4.0,3.0,2.0,3.0,3.0,3.0,3.0,3.0,3.0,3.0,3.0,3.0,3.0,3.0,3.0,3.0,3.0,3.0,3.0,3.0,3.0,2.0,2.0,2.0,2.0,null,3.0,3.0,3.0,3.0,3.0,3.0,3.0,3.0,3.0,2.0,2.0,2.0,2.0,2.0,2.0,2.0,2.0,2.0,2.0,2.0,2.0,2.0,2.0,2.0,2.0,2.0,2.0,2.0,2.0,2.0,2.0,2.0,2.0,2.0,2.0,2.0,3.0,3.0,null,null,3.0,3.0,3.0,3.0,3.0,3.0,3.0,3.0,3.0,3.0,3.0,3.0,3.0,3.0,3.0,3.0,3.0,3.0,3.0,3.0,3.0,3.0,3.0,3.0,3.0,3.0,3.0,3.0,3.0,3.0,3.0],\"yaxis\":\"y\"},{\"hovertemplate\":\"<b>OLS trendline</b><br>BMI Category Ord = -5.21607e-05 * Daily Steps + 2.83165<br>R<sup>2</sup>=0.023091<br><br>Daily Steps=%{x}<br>BMI Category Ord=%{y} <b>(trend)</b><extra></extra>\",\"legendgroup\":\"\",\"marker\":{\"color\":\"#636efa\",\"symbol\":\"circle\"},\"mode\":\"lines\",\"name\":\"\",\"showlegend\":false,\"type\":\"scatter\",\"x\":[3000,3000,3000,3300,3300,3500,3500,3500,3700,3700,4000,4200,4200,4800,4800,5000,5000,5000,5000,5000,5000,5000,5000,5000,5000,5000,5000,5000,5000,5000,5000,5000,5000,5000,5000,5000,5000,5000,5000,5000,5000,5000,5000,5000,5000,5000,5000,5000,5000,5000,5000,5000,5000,5000,5000,5000,5000,5000,5000,5000,5000,5000,5000,5000,5000,5000,5000,5000,5000,5000,5000,5000,5000,5000,5000,5000,5000,5000,5000,5000,5000,5000,5000,5200,5200,5500,5500,5500,5600,5600,6000,6000,6000,6000,6000,6000,6000,6000,6000,6000,6000,6000,6000,6000,6000,6000,6000,6000,6000,6000,6000,6000,6000,6000,6000,6000,6000,6000,6000,6000,6000,6000,6000,6000,6000,6000,6000,6000,6000,6000,6000,6000,6000,6000,6000,6000,6000,6000,6000,6000,6000,6000,6000,6000,6000,6000,6000,6000,6000,6000,6000,6000,6000,6000,6000,6000,6000,6800,7000,7000,7000,7000,7000,7000,7000,7000,7000,7000,7000,7000,7000,7000,7000,7000,7000,7000,7000,7000,7000,7000,7000,7000,7000,7000,7000,7000,7000,7000,7000,7000,7000,7000,7000,7000,7000,7000,7000,7000,7000,7000,7000,7000,7000,7000,7000,7000,7000,7000,7000,7000,7000,7000,7000,7000,7000,7000,7000,7000,7000,7000,7000,8000,8000,8000,8000,8000,8000,8000,8000,8000,8000,8000,8000,8000,8000,8000,8000,8000,8000,8000,8000,8000,8000,8000,8000,8000,8000,8000,8000,8000,8000,8000,8000,8000,8000,8000,8000,8000,8000,8000,8000,8000,8000,8000,8000,8000,8000,8000,8000,8000,8000,8000,8000,8000,8000,8000,8000,8000,8000,8000,8000,8000,8000,8000,8000,8000,8000,8000,8000,8000,8000,8000,8000,8000,8000,8000,8000,8000,8000,8000,8000,8000,8000,8000,8000,8000,8000,8000,8000,8000,8000,8000,8000,8000,8000,8000,8000,8000,8000,10000,10000,10000,10000,10000,10000,10000,10000,10000,10000,10000,10000,10000,10000,10000,10000,10000,10000,10000,10000,10000,10000,10000,10000,10000,10000,10000,10000,10000,10000,10000,10000,10000,10000],\"xaxis\":\"x\",\"y\":[2.6751657746821182,2.6751657746821182,2.6751657746821182,2.659517557877879,2.659517557877879,2.64908541334172,2.64908541334172,2.64908541334172,2.638653268805561,2.638653268805561,2.623005052001322,2.6125729074651627,2.6125729074651627,2.5812764738566853,2.5812764738566853,2.570844329320526,2.570844329320526,2.570844329320526,2.570844329320526,2.570844329320526,2.570844329320526,2.570844329320526,2.570844329320526,2.570844329320526,2.570844329320526,2.570844329320526,2.570844329320526,2.570844329320526,2.570844329320526,2.570844329320526,2.570844329320526,2.570844329320526,2.570844329320526,2.570844329320526,2.570844329320526,2.570844329320526,2.570844329320526,2.570844329320526,2.570844329320526,2.570844329320526,2.570844329320526,2.570844329320526,2.570844329320526,2.570844329320526,2.570844329320526,2.570844329320526,2.570844329320526,2.570844329320526,2.570844329320526,2.570844329320526,2.570844329320526,2.570844329320526,2.570844329320526,2.570844329320526,2.570844329320526,2.570844329320526,2.570844329320526,2.570844329320526,2.570844329320526,2.570844329320526,2.570844329320526,2.570844329320526,2.570844329320526,2.570844329320526,2.570844329320526,2.570844329320526,2.570844329320526,2.570844329320526,2.570844329320526,2.570844329320526,2.570844329320526,2.570844329320526,2.570844329320526,2.570844329320526,2.570844329320526,2.570844329320526,2.570844329320526,2.570844329320526,2.570844329320526,2.570844329320526,2.570844329320526,2.570844329320526,2.570844329320526,2.560412184784367,2.560412184784367,2.544763967980128,2.544763967980128,2.544763967980128,2.5395478957120488,2.5395478957120488,2.5186836066397302,2.5186836066397302,2.5186836066397302,2.5186836066397302,2.5186836066397302,2.5186836066397302,2.5186836066397302,2.5186836066397302,2.5186836066397302,2.5186836066397302,2.5186836066397302,2.5186836066397302,2.5186836066397302,2.5186836066397302,2.5186836066397302,2.5186836066397302,2.5186836066397302,2.5186836066397302,2.5186836066397302,2.5186836066397302,2.5186836066397302,2.5186836066397302,2.5186836066397302,2.5186836066397302,2.5186836066397302,2.5186836066397302,2.5186836066397302,2.5186836066397302,2.5186836066397302,2.5186836066397302,2.5186836066397302,2.5186836066397302,2.5186836066397302,2.5186836066397302,2.5186836066397302,2.5186836066397302,2.5186836066397302,2.5186836066397302,2.5186836066397302,2.5186836066397302,2.5186836066397302,2.5186836066397302,2.5186836066397302,2.5186836066397302,2.5186836066397302,2.5186836066397302,2.5186836066397302,2.5186836066397302,2.5186836066397302,2.5186836066397302,2.5186836066397302,2.5186836066397302,2.5186836066397302,2.5186836066397302,2.5186836066397302,2.5186836066397302,2.5186836066397302,2.5186836066397302,2.5186836066397302,2.5186836066397302,2.5186836066397302,2.5186836066397302,2.5186836066397302,2.5186836066397302,2.5186836066397302,2.5186836066397302,2.5186836066397302,2.4769550284950936,2.4665228839589344,2.4665228839589344,2.4665228839589344,2.4665228839589344,2.4665228839589344,2.4665228839589344,2.4665228839589344,2.4665228839589344,2.4665228839589344,2.4665228839589344,2.4665228839589344,2.4665228839589344,2.4665228839589344,2.4665228839589344,2.4665228839589344,2.4665228839589344,2.4665228839589344,2.4665228839589344,2.4665228839589344,2.4665228839589344,2.4665228839589344,2.4665228839589344,2.4665228839589344,2.4665228839589344,2.4665228839589344,2.4665228839589344,2.4665228839589344,2.4665228839589344,2.4665228839589344,2.4665228839589344,2.4665228839589344,2.4665228839589344,2.4665228839589344,2.4665228839589344,2.4665228839589344,2.4665228839589344,2.4665228839589344,2.4665228839589344,2.4665228839589344,2.4665228839589344,2.4665228839589344,2.4665228839589344,2.4665228839589344,2.4665228839589344,2.4665228839589344,2.4665228839589344,2.4665228839589344,2.4665228839589344,2.4665228839589344,2.4665228839589344,2.4665228839589344,2.4665228839589344,2.4665228839589344,2.4665228839589344,2.4665228839589344,2.4665228839589344,2.4665228839589344,2.4665228839589344,2.4665228839589344,2.4665228839589344,2.4665228839589344,2.4665228839589344,2.4665228839589344,2.4143621612781385,2.4143621612781385,2.4143621612781385,2.4143621612781385,2.4143621612781385,2.4143621612781385,2.4143621612781385,2.4143621612781385,2.4143621612781385,2.4143621612781385,2.4143621612781385,2.4143621612781385,2.4143621612781385,2.4143621612781385,2.4143621612781385,2.4143621612781385,2.4143621612781385,2.4143621612781385,2.4143621612781385,2.4143621612781385,2.4143621612781385,2.4143621612781385,2.4143621612781385,2.4143621612781385,2.4143621612781385,2.4143621612781385,2.4143621612781385,2.4143621612781385,2.4143621612781385,2.4143621612781385,2.4143621612781385,2.4143621612781385,2.4143621612781385,2.4143621612781385,2.4143621612781385,2.4143621612781385,2.4143621612781385,2.4143621612781385,2.4143621612781385,2.4143621612781385,2.4143621612781385,2.4143621612781385,2.4143621612781385,2.4143621612781385,2.4143621612781385,2.4143621612781385,2.4143621612781385,2.4143621612781385,2.4143621612781385,2.4143621612781385,2.4143621612781385,2.4143621612781385,2.4143621612781385,2.4143621612781385,2.4143621612781385,2.4143621612781385,2.4143621612781385,2.4143621612781385,2.4143621612781385,2.4143621612781385,2.4143621612781385,2.4143621612781385,2.4143621612781385,2.4143621612781385,2.4143621612781385,2.4143621612781385,2.4143621612781385,2.4143621612781385,2.4143621612781385,2.4143621612781385,2.4143621612781385,2.4143621612781385,2.4143621612781385,2.4143621612781385,2.4143621612781385,2.4143621612781385,2.4143621612781385,2.4143621612781385,2.4143621612781385,2.4143621612781385,2.4143621612781385,2.4143621612781385,2.4143621612781385,2.4143621612781385,2.4143621612781385,2.4143621612781385,2.4143621612781385,2.4143621612781385,2.4143621612781385,2.4143621612781385,2.4143621612781385,2.4143621612781385,2.4143621612781385,2.4143621612781385,2.4143621612781385,2.4143621612781385,2.4143621612781385,2.4143621612781385,2.3100407159165464,2.3100407159165464,2.3100407159165464,2.3100407159165464,2.3100407159165464,2.3100407159165464,2.3100407159165464,2.3100407159165464,2.3100407159165464,2.3100407159165464,2.3100407159165464,2.3100407159165464,2.3100407159165464,2.3100407159165464,2.3100407159165464,2.3100407159165464,2.3100407159165464,2.3100407159165464,2.3100407159165464,2.3100407159165464,2.3100407159165464,2.3100407159165464,2.3100407159165464,2.3100407159165464,2.3100407159165464,2.3100407159165464,2.3100407159165464,2.3100407159165464,2.3100407159165464,2.3100407159165464,2.3100407159165464,2.3100407159165464,2.3100407159165464,2.3100407159165464],\"yaxis\":\"y\"}],                        {\"legend\":{\"tracegroupgap\":0},\"template\":{\"data\":{\"bar\":[{\"error_x\":{\"color\":\"#2a3f5f\"},\"error_y\":{\"color\":\"#2a3f5f\"},\"marker\":{\"line\":{\"color\":\"#E5ECF6\",\"width\":0.5},\"pattern\":{\"fillmode\":\"overlay\",\"size\":10,\"solidity\":0.2}},\"type\":\"bar\"}],\"barpolar\":[{\"marker\":{\"line\":{\"color\":\"#E5ECF6\",\"width\":0.5},\"pattern\":{\"fillmode\":\"overlay\",\"size\":10,\"solidity\":0.2}},\"type\":\"barpolar\"}],\"carpet\":[{\"aaxis\":{\"endlinecolor\":\"#2a3f5f\",\"gridcolor\":\"white\",\"linecolor\":\"white\",\"minorgridcolor\":\"white\",\"startlinecolor\":\"#2a3f5f\"},\"baxis\":{\"endlinecolor\":\"#2a3f5f\",\"gridcolor\":\"white\",\"linecolor\":\"white\",\"minorgridcolor\":\"white\",\"startlinecolor\":\"#2a3f5f\"},\"type\":\"carpet\"}],\"choropleth\":[{\"colorbar\":{\"outlinewidth\":0,\"ticks\":\"\"},\"type\":\"choropleth\"}],\"contour\":[{\"colorbar\":{\"outlinewidth\":0,\"ticks\":\"\"},\"colorscale\":[[0.0,\"#0d0887\"],[0.1111111111111111,\"#46039f\"],[0.2222222222222222,\"#7201a8\"],[0.3333333333333333,\"#9c179e\"],[0.4444444444444444,\"#bd3786\"],[0.5555555555555556,\"#d8576b\"],[0.6666666666666666,\"#ed7953\"],[0.7777777777777778,\"#fb9f3a\"],[0.8888888888888888,\"#fdca26\"],[1.0,\"#f0f921\"]],\"type\":\"contour\"}],\"contourcarpet\":[{\"colorbar\":{\"outlinewidth\":0,\"ticks\":\"\"},\"type\":\"contourcarpet\"}],\"heatmap\":[{\"colorbar\":{\"outlinewidth\":0,\"ticks\":\"\"},\"colorscale\":[[0.0,\"#0d0887\"],[0.1111111111111111,\"#46039f\"],[0.2222222222222222,\"#7201a8\"],[0.3333333333333333,\"#9c179e\"],[0.4444444444444444,\"#bd3786\"],[0.5555555555555556,\"#d8576b\"],[0.6666666666666666,\"#ed7953\"],[0.7777777777777778,\"#fb9f3a\"],[0.8888888888888888,\"#fdca26\"],[1.0,\"#f0f921\"]],\"type\":\"heatmap\"}],\"heatmapgl\":[{\"colorbar\":{\"outlinewidth\":0,\"ticks\":\"\"},\"colorscale\":[[0.0,\"#0d0887\"],[0.1111111111111111,\"#46039f\"],[0.2222222222222222,\"#7201a8\"],[0.3333333333333333,\"#9c179e\"],[0.4444444444444444,\"#bd3786\"],[0.5555555555555556,\"#d8576b\"],[0.6666666666666666,\"#ed7953\"],[0.7777777777777778,\"#fb9f3a\"],[0.8888888888888888,\"#fdca26\"],[1.0,\"#f0f921\"]],\"type\":\"heatmapgl\"}],\"histogram\":[{\"marker\":{\"pattern\":{\"fillmode\":\"overlay\",\"size\":10,\"solidity\":0.2}},\"type\":\"histogram\"}],\"histogram2d\":[{\"colorbar\":{\"outlinewidth\":0,\"ticks\":\"\"},\"colorscale\":[[0.0,\"#0d0887\"],[0.1111111111111111,\"#46039f\"],[0.2222222222222222,\"#7201a8\"],[0.3333333333333333,\"#9c179e\"],[0.4444444444444444,\"#bd3786\"],[0.5555555555555556,\"#d8576b\"],[0.6666666666666666,\"#ed7953\"],[0.7777777777777778,\"#fb9f3a\"],[0.8888888888888888,\"#fdca26\"],[1.0,\"#f0f921\"]],\"type\":\"histogram2d\"}],\"histogram2dcontour\":[{\"colorbar\":{\"outlinewidth\":0,\"ticks\":\"\"},\"colorscale\":[[0.0,\"#0d0887\"],[0.1111111111111111,\"#46039f\"],[0.2222222222222222,\"#7201a8\"],[0.3333333333333333,\"#9c179e\"],[0.4444444444444444,\"#bd3786\"],[0.5555555555555556,\"#d8576b\"],[0.6666666666666666,\"#ed7953\"],[0.7777777777777778,\"#fb9f3a\"],[0.8888888888888888,\"#fdca26\"],[1.0,\"#f0f921\"]],\"type\":\"histogram2dcontour\"}],\"mesh3d\":[{\"colorbar\":{\"outlinewidth\":0,\"ticks\":\"\"},\"type\":\"mesh3d\"}],\"parcoords\":[{\"line\":{\"colorbar\":{\"outlinewidth\":0,\"ticks\":\"\"}},\"type\":\"parcoords\"}],\"pie\":[{\"automargin\":true,\"type\":\"pie\"}],\"scatter\":[{\"marker\":{\"colorbar\":{\"outlinewidth\":0,\"ticks\":\"\"}},\"type\":\"scatter\"}],\"scatter3d\":[{\"line\":{\"colorbar\":{\"outlinewidth\":0,\"ticks\":\"\"}},\"marker\":{\"colorbar\":{\"outlinewidth\":0,\"ticks\":\"\"}},\"type\":\"scatter3d\"}],\"scattercarpet\":[{\"marker\":{\"colorbar\":{\"outlinewidth\":0,\"ticks\":\"\"}},\"type\":\"scattercarpet\"}],\"scattergeo\":[{\"marker\":{\"colorbar\":{\"outlinewidth\":0,\"ticks\":\"\"}},\"type\":\"scattergeo\"}],\"scattergl\":[{\"marker\":{\"colorbar\":{\"outlinewidth\":0,\"ticks\":\"\"}},\"type\":\"scattergl\"}],\"scattermapbox\":[{\"marker\":{\"colorbar\":{\"outlinewidth\":0,\"ticks\":\"\"}},\"type\":\"scattermapbox\"}],\"scatterpolar\":[{\"marker\":{\"colorbar\":{\"outlinewidth\":0,\"ticks\":\"\"}},\"type\":\"scatterpolar\"}],\"scatterpolargl\":[{\"marker\":{\"colorbar\":{\"outlinewidth\":0,\"ticks\":\"\"}},\"type\":\"scatterpolargl\"}],\"scatterternary\":[{\"marker\":{\"colorbar\":{\"outlinewidth\":0,\"ticks\":\"\"}},\"type\":\"scatterternary\"}],\"surface\":[{\"colorbar\":{\"outlinewidth\":0,\"ticks\":\"\"},\"colorscale\":[[0.0,\"#0d0887\"],[0.1111111111111111,\"#46039f\"],[0.2222222222222222,\"#7201a8\"],[0.3333333333333333,\"#9c179e\"],[0.4444444444444444,\"#bd3786\"],[0.5555555555555556,\"#d8576b\"],[0.6666666666666666,\"#ed7953\"],[0.7777777777777778,\"#fb9f3a\"],[0.8888888888888888,\"#fdca26\"],[1.0,\"#f0f921\"]],\"type\":\"surface\"}],\"table\":[{\"cells\":{\"fill\":{\"color\":\"#EBF0F8\"},\"line\":{\"color\":\"white\"}},\"header\":{\"fill\":{\"color\":\"#C8D4E3\"},\"line\":{\"color\":\"white\"}},\"type\":\"table\"}]},\"layout\":{\"annotationdefaults\":{\"arrowcolor\":\"#2a3f5f\",\"arrowhead\":0,\"arrowwidth\":1},\"autotypenumbers\":\"strict\",\"coloraxis\":{\"colorbar\":{\"outlinewidth\":0,\"ticks\":\"\"}},\"colorscale\":{\"diverging\":[[0,\"#8e0152\"],[0.1,\"#c51b7d\"],[0.2,\"#de77ae\"],[0.3,\"#f1b6da\"],[0.4,\"#fde0ef\"],[0.5,\"#f7f7f7\"],[0.6,\"#e6f5d0\"],[0.7,\"#b8e186\"],[0.8,\"#7fbc41\"],[0.9,\"#4d9221\"],[1,\"#276419\"]],\"sequential\":[[0.0,\"#0d0887\"],[0.1111111111111111,\"#46039f\"],[0.2222222222222222,\"#7201a8\"],[0.3333333333333333,\"#9c179e\"],[0.4444444444444444,\"#bd3786\"],[0.5555555555555556,\"#d8576b\"],[0.6666666666666666,\"#ed7953\"],[0.7777777777777778,\"#fb9f3a\"],[0.8888888888888888,\"#fdca26\"],[1.0,\"#f0f921\"]],\"sequentialminus\":[[0.0,\"#0d0887\"],[0.1111111111111111,\"#46039f\"],[0.2222222222222222,\"#7201a8\"],[0.3333333333333333,\"#9c179e\"],[0.4444444444444444,\"#bd3786\"],[0.5555555555555556,\"#d8576b\"],[0.6666666666666666,\"#ed7953\"],[0.7777777777777778,\"#fb9f3a\"],[0.8888888888888888,\"#fdca26\"],[1.0,\"#f0f921\"]]},\"colorway\":[\"#636efa\",\"#EF553B\",\"#00cc96\",\"#ab63fa\",\"#FFA15A\",\"#19d3f3\",\"#FF6692\",\"#B6E880\",\"#FF97FF\",\"#FECB52\"],\"font\":{\"color\":\"#2a3f5f\"},\"geo\":{\"bgcolor\":\"white\",\"lakecolor\":\"white\",\"landcolor\":\"#E5ECF6\",\"showlakes\":true,\"showland\":true,\"subunitcolor\":\"white\"},\"hoverlabel\":{\"align\":\"left\"},\"hovermode\":\"closest\",\"mapbox\":{\"style\":\"light\"},\"paper_bgcolor\":\"white\",\"plot_bgcolor\":\"#E5ECF6\",\"polar\":{\"angularaxis\":{\"gridcolor\":\"white\",\"linecolor\":\"white\",\"ticks\":\"\"},\"bgcolor\":\"#E5ECF6\",\"radialaxis\":{\"gridcolor\":\"white\",\"linecolor\":\"white\",\"ticks\":\"\"}},\"scene\":{\"xaxis\":{\"backgroundcolor\":\"#E5ECF6\",\"gridcolor\":\"white\",\"gridwidth\":2,\"linecolor\":\"white\",\"showbackground\":true,\"ticks\":\"\",\"zerolinecolor\":\"white\"},\"yaxis\":{\"backgroundcolor\":\"#E5ECF6\",\"gridcolor\":\"white\",\"gridwidth\":2,\"linecolor\":\"white\",\"showbackground\":true,\"ticks\":\"\",\"zerolinecolor\":\"white\"},\"zaxis\":{\"backgroundcolor\":\"#E5ECF6\",\"gridcolor\":\"white\",\"gridwidth\":2,\"linecolor\":\"white\",\"showbackground\":true,\"ticks\":\"\",\"zerolinecolor\":\"white\"}},\"shapedefaults\":{\"line\":{\"color\":\"#2a3f5f\"}},\"ternary\":{\"aaxis\":{\"gridcolor\":\"white\",\"linecolor\":\"white\",\"ticks\":\"\"},\"baxis\":{\"gridcolor\":\"white\",\"linecolor\":\"white\",\"ticks\":\"\"},\"bgcolor\":\"#E5ECF6\",\"caxis\":{\"gridcolor\":\"white\",\"linecolor\":\"white\",\"ticks\":\"\"}},\"title\":{\"x\":0.05},\"xaxis\":{\"automargin\":true,\"gridcolor\":\"white\",\"linecolor\":\"white\",\"ticks\":\"\",\"title\":{\"standoff\":15},\"zerolinecolor\":\"white\",\"zerolinewidth\":2},\"yaxis\":{\"automargin\":true,\"gridcolor\":\"white\",\"linecolor\":\"white\",\"ticks\":\"\",\"title\":{\"standoff\":15},\"zerolinecolor\":\"white\",\"zerolinewidth\":2}}},\"title\":{\"text\":\"Daily Steps vs BMI Category Ord\"},\"xaxis\":{\"anchor\":\"y\",\"domain\":[0.0,1.0],\"title\":{\"text\":\"Daily Steps\"}},\"yaxis\":{\"anchor\":\"x\",\"domain\":[0.0,1.0],\"title\":{\"text\":\"BMI Category Ord\"}}},                        {\"responsive\": true}                    ).then(function(){\n",
       "                            \n",
       "var gd = document.getElementById('3a7f98ae-b28e-4c50-9d57-2338693f3b02');\n",
       "var x = new MutationObserver(function (mutations, observer) {{\n",
       "        var display = window.getComputedStyle(gd).display;\n",
       "        if (!display || display === 'none') {{\n",
       "            console.log([gd, 'removed!']);\n",
       "            Plotly.purge(gd);\n",
       "            observer.disconnect();\n",
       "        }}\n",
       "}});\n",
       "\n",
       "// Listen for the removal of the full notebook cells\n",
       "var notebookContainer = gd.closest('#notebook-container');\n",
       "if (notebookContainer) {{\n",
       "    x.observe(notebookContainer, {childList: true});\n",
       "}}\n",
       "\n",
       "// Listen for the clearing of the current output cell\n",
       "var outputEl = gd.closest('.output');\n",
       "if (outputEl) {{\n",
       "    x.observe(outputEl, {childList: true});\n",
       "}}\n",
       "\n",
       "                        })                };                });            </script>        </div>"
      ]
     },
     "metadata": {},
     "output_type": "display_data"
    },
    {
     "data": {
      "application/vnd.plotly.v1+json": {
       "config": {
        "linkText": "Export to plot.ly",
        "plotlyServerURL": "https://plot.ly",
        "showLink": false
       },
       "data": [
        {
         "hovertemplate": "Daily Steps=%{x}<br>Systolic BP=%{y}<extra></extra>",
         "legendgroup": "",
         "marker": {
          "color": "#636efa",
          "symbol": "circle"
         },
         "mode": "markers",
         "name": "",
         "orientation": "v",
         "showlegend": false,
         "type": "scatter",
         "x": [
          4200,
          10000,
          10000,
          3000,
          3000,
          3000,
          3500,
          8000,
          8000,
          8000,
          8000,
          8000,
          8000,
          8000,
          8000,
          8000,
          4000,
          8000,
          4000,
          8000,
          8000,
          8000,
          8000,
          8000,
          8000,
          8000,
          8000,
          8000,
          8000,
          8000,
          4100,
          4100,
          6800,
          5000,
          8000,
          5000,
          5000,
          8000,
          8000,
          8000,
          8000,
          8000,
          8000,
          8000,
          8000,
          8000,
          8000,
          8000,
          8000,
          8000,
          8000,
          8000,
          5000,
          8000,
          5000,
          5000,
          8000,
          5000,
          5000,
          8000,
          5000,
          5000,
          5000,
          5000,
          5000,
          5000,
          7000,
          5000,
          5500,
          5500,
          5000,
          5000,
          5000,
          5000,
          5000,
          5000,
          5000,
          5000,
          5000,
          5000,
          5200,
          5200,
          5600,
          5600,
          8000,
          7000,
          5000,
          5000,
          5000,
          5000,
          5000,
          5000,
          8000,
          3300,
          7000,
          7000,
          7000,
          7000,
          7000,
          7000,
          7000,
          7000,
          7000,
          4800,
          7000,
          4800,
          4200,
          7000,
          7000,
          8000,
          7000,
          8000,
          7000,
          8000,
          7000,
          7000,
          7000,
          7000,
          7000,
          7000,
          7000,
          7000,
          7000,
          7000,
          7000,
          8000,
          8000,
          7000,
          8000,
          8000,
          7000,
          8000,
          8000,
          7000,
          8000,
          8000,
          7000,
          8000,
          7000,
          8000,
          7000,
          8000,
          7000,
          7000,
          8000,
          3300,
          8000,
          4000,
          5500,
          7500,
          7500,
          8000,
          8000,
          8000,
          8000,
          8000,
          8000,
          8000,
          8000,
          8000,
          8000,
          7300,
          7300,
          8000,
          8000,
          8000,
          6200,
          6000,
          6000,
          8000,
          8000,
          8000,
          8000,
          8000,
          8000,
          8000,
          8000,
          6000,
          8000,
          8000,
          8000,
          8000,
          8000,
          8000,
          5000,
          5000,
          6000,
          6000,
          6000,
          6000,
          6000,
          6000,
          6000,
          6000,
          6000,
          6000,
          6000,
          6000,
          6000,
          6000,
          6000,
          8000,
          8000,
          6800,
          6800,
          8000,
          8000,
          8000,
          8000,
          8000,
          8000,
          8000,
          8000,
          8000,
          8000,
          8000,
          8000,
          8000,
          8000,
          6000,
          6000,
          6000,
          6000,
          6000,
          6000,
          6000,
          6000,
          6000,
          6000,
          6000,
          6000,
          6000,
          6000,
          6000,
          6000,
          6000,
          6000,
          6000,
          6000,
          6000,
          6000,
          6000,
          6000,
          6000,
          6000,
          6000,
          6000,
          5000,
          6000,
          6000,
          6000,
          6000,
          6000,
          6000,
          6000,
          6000,
          6000,
          6000,
          6000,
          6000,
          6000,
          6000,
          6000,
          5500,
          3500,
          10000,
          3500,
          10000,
          10000,
          10000,
          10000,
          10000,
          10000,
          10000,
          10000,
          10000,
          3700,
          3700,
          10000,
          5000,
          10000,
          10000,
          10000,
          10000,
          10000,
          10000,
          10000,
          10000,
          10000,
          10000,
          10000,
          10000,
          10000,
          10000,
          10000,
          10000,
          10000,
          10000,
          5000,
          5000,
          5000,
          5000,
          6000,
          10000,
          10000,
          10000,
          6000,
          6000,
          6000,
          6000,
          6000,
          6000,
          5000,
          5000,
          5000,
          5000,
          5000,
          5000,
          5000,
          5000,
          5000,
          5000,
          5000,
          5000,
          5000,
          5000,
          5000,
          5000,
          5000,
          5000,
          5000,
          5000,
          5000,
          5000,
          5000,
          5000,
          5000,
          5000,
          5000,
          5000,
          5000,
          10000,
          10000,
          7000,
          7000,
          7000,
          7000,
          7000,
          7000,
          7000,
          7000,
          7000,
          7000,
          7000,
          7000,
          7000,
          7000,
          7000,
          7000,
          7000,
          7000,
          7000,
          7000,
          7000,
          7000,
          7000,
          7000,
          7000,
          7000,
          7000,
          7000,
          7000,
          7000,
          7000
         ],
         "xaxis": "x",
         "y": [
          126,
          125,
          125,
          140,
          140,
          140,
          140,
          120,
          120,
          120,
          120,
          120,
          120,
          120,
          120,
          120,
          132,
          120,
          132,
          120,
          120,
          120,
          120,
          120,
          120,
          120,
          120,
          120,
          120,
          120,
          130,
          130,
          117,
          125,
          120,
          125,
          125,
          120,
          120,
          120,
          120,
          120,
          120,
          120,
          120,
          120,
          120,
          120,
          120,
          120,
          120,
          120,
          125,
          120,
          125,
          125,
          120,
          125,
          125,
          120,
          125,
          125,
          125,
          125,
          125,
          125,
          118,
          125,
          128,
          128,
          125,
          125,
          125,
          125,
          125,
          125,
          125,
          125,
          125,
          125,
          131,
          131,
          128,
          128,
          120,
          115,
          125,
          125,
          125,
          125,
          125,
          125,
          120,
          135,
          115,
          115,
          115,
          115,
          115,
          115,
          115,
          115,
          115,
          129,
          115,
          129,
          126,
          120,
          120,
          130,
          115,
          130,
          115,
          130,
          115,
          115,
          115,
          115,
          115,
          115,
          115,
          115,
          115,
          115,
          115,
          120,
          130,
          115,
          130,
          130,
          115,
          130,
          130,
          115,
          130,
          130,
          115,
          130,
          115,
          130,
          115,
          130,
          115,
          115,
          130,
          135,
          130,
          132,
          128,
          115,
          115,
          130,
          130,
          130,
          130,
          130,
          130,
          130,
          130,
          130,
          130,
          119,
          119,
          130,
          130,
          130,
          121,
          125,
          125,
          130,
          130,
          130,
          130,
          130,
          130,
          130,
          130,
          130,
          130,
          130,
          130,
          130,
          130,
          130,
          130,
          130,
          135,
          130,
          135,
          130,
          135,
          130,
          130,
          130,
          130,
          130,
          130,
          130,
          130,
          130,
          130,
          130,
          130,
          117,
          122,
          130,
          130,
          130,
          130,
          130,
          130,
          130,
          130,
          130,
          130,
          130,
          130,
          130,
          130,
          130,
          135,
          130,
          130,
          130,
          135,
          130,
          135,
          130,
          135,
          130,
          135,
          130,
          135,
          130,
          135,
          130,
          130,
          135,
          130,
          130,
          135,
          130,
          130,
          135,
          130,
          135,
          130,
          130,
          130,
          130,
          135,
          135,
          135,
          135,
          135,
          135,
          135,
          135,
          135,
          135,
          135,
          135,
          135,
          125,
          142,
          140,
          142,
          140,
          140,
          140,
          140,
          140,
          140,
          140,
          140,
          140,
          139,
          139,
          140,
          125,
          140,
          140,
          140,
          140,
          140,
          140,
          140,
          140,
          140,
          140,
          140,
          140,
          140,
          140,
          140,
          140,
          140,
          140,
          125,
          125,
          125,
          125,
          125,
          140,
          140,
          140,
          130,
          130,
          130,
          130,
          130,
          130,
          125,
          125,
          125,
          125,
          125,
          125,
          125,
          125,
          125,
          125,
          125,
          125,
          125,
          125,
          125,
          125,
          125,
          125,
          125,
          125,
          125,
          125,
          125,
          125,
          125,
          125,
          125,
          140,
          140,
          118,
          118,
          140,
          140,
          140,
          140,
          140,
          140,
          140,
          140,
          140,
          140,
          140,
          140,
          140,
          140,
          140,
          140,
          140,
          140,
          140,
          140,
          140,
          140,
          140,
          140,
          140,
          140,
          140,
          140,
          140,
          140,
          140
         ],
         "yaxis": "y"
        },
        {
         "hovertemplate": "<b>OLS trendline</b><br>Systolic BP = 0.000494901 * Daily Steps + 125.18<br>R<sup>2</sup>=0.010680<br><br>Daily Steps=%{x}<br>Systolic BP=%{y} <b>(trend)</b><extra></extra>",
         "legendgroup": "",
         "marker": {
          "color": "#636efa",
          "symbol": "circle"
         },
         "mode": "lines",
         "name": "",
         "showlegend": false,
         "type": "scatter",
         "x": [
          3000,
          3000,
          3000,
          3300,
          3300,
          3500,
          3500,
          3500,
          3700,
          3700,
          4000,
          4000,
          4000,
          4100,
          4100,
          4200,
          4200,
          4800,
          4800,
          5000,
          5000,
          5000,
          5000,
          5000,
          5000,
          5000,
          5000,
          5000,
          5000,
          5000,
          5000,
          5000,
          5000,
          5000,
          5000,
          5000,
          5000,
          5000,
          5000,
          5000,
          5000,
          5000,
          5000,
          5000,
          5000,
          5000,
          5000,
          5000,
          5000,
          5000,
          5000,
          5000,
          5000,
          5000,
          5000,
          5000,
          5000,
          5000,
          5000,
          5000,
          5000,
          5000,
          5000,
          5000,
          5000,
          5000,
          5000,
          5000,
          5000,
          5000,
          5000,
          5000,
          5000,
          5000,
          5000,
          5000,
          5000,
          5000,
          5000,
          5000,
          5000,
          5000,
          5000,
          5000,
          5000,
          5000,
          5000,
          5200,
          5200,
          5500,
          5500,
          5500,
          5500,
          5600,
          5600,
          6000,
          6000,
          6000,
          6000,
          6000,
          6000,
          6000,
          6000,
          6000,
          6000,
          6000,
          6000,
          6000,
          6000,
          6000,
          6000,
          6000,
          6000,
          6000,
          6000,
          6000,
          6000,
          6000,
          6000,
          6000,
          6000,
          6000,
          6000,
          6000,
          6000,
          6000,
          6000,
          6000,
          6000,
          6000,
          6000,
          6000,
          6000,
          6000,
          6000,
          6000,
          6000,
          6000,
          6000,
          6000,
          6000,
          6000,
          6000,
          6000,
          6000,
          6000,
          6000,
          6000,
          6000,
          6000,
          6000,
          6000,
          6000,
          6000,
          6000,
          6000,
          6000,
          6000,
          6000,
          6000,
          6000,
          6000,
          6000,
          6200,
          6800,
          6800,
          6800,
          7000,
          7000,
          7000,
          7000,
          7000,
          7000,
          7000,
          7000,
          7000,
          7000,
          7000,
          7000,
          7000,
          7000,
          7000,
          7000,
          7000,
          7000,
          7000,
          7000,
          7000,
          7000,
          7000,
          7000,
          7000,
          7000,
          7000,
          7000,
          7000,
          7000,
          7000,
          7000,
          7000,
          7000,
          7000,
          7000,
          7000,
          7000,
          7000,
          7000,
          7000,
          7000,
          7000,
          7000,
          7000,
          7000,
          7000,
          7000,
          7000,
          7000,
          7000,
          7000,
          7000,
          7000,
          7000,
          7000,
          7000,
          7000,
          7000,
          7000,
          7000,
          7000,
          7000,
          7000,
          7000,
          7000,
          7300,
          7300,
          7500,
          7500,
          8000,
          8000,
          8000,
          8000,
          8000,
          8000,
          8000,
          8000,
          8000,
          8000,
          8000,
          8000,
          8000,
          8000,
          8000,
          8000,
          8000,
          8000,
          8000,
          8000,
          8000,
          8000,
          8000,
          8000,
          8000,
          8000,
          8000,
          8000,
          8000,
          8000,
          8000,
          8000,
          8000,
          8000,
          8000,
          8000,
          8000,
          8000,
          8000,
          8000,
          8000,
          8000,
          8000,
          8000,
          8000,
          8000,
          8000,
          8000,
          8000,
          8000,
          8000,
          8000,
          8000,
          8000,
          8000,
          8000,
          8000,
          8000,
          8000,
          8000,
          8000,
          8000,
          8000,
          8000,
          8000,
          8000,
          8000,
          8000,
          8000,
          8000,
          8000,
          8000,
          8000,
          8000,
          8000,
          8000,
          8000,
          8000,
          8000,
          8000,
          8000,
          8000,
          8000,
          8000,
          8000,
          8000,
          8000,
          8000,
          8000,
          8000,
          8000,
          8000,
          8000,
          8000,
          8000,
          8000,
          8000,
          8000,
          8000,
          8000,
          8000,
          10000,
          10000,
          10000,
          10000,
          10000,
          10000,
          10000,
          10000,
          10000,
          10000,
          10000,
          10000,
          10000,
          10000,
          10000,
          10000,
          10000,
          10000,
          10000,
          10000,
          10000,
          10000,
          10000,
          10000,
          10000,
          10000,
          10000,
          10000,
          10000,
          10000,
          10000,
          10000,
          10000,
          10000,
          10000,
          10000
         ],
         "xaxis": "x",
         "y": [
          126.66451656701048,
          126.66451656701048,
          126.66451656701048,
          126.8129867885036,
          126.8129867885036,
          126.91196693616567,
          126.91196693616567,
          126.91196693616567,
          127.01094708382774,
          127.01094708382774,
          127.15941730532086,
          127.15941730532086,
          127.15941730532086,
          127.20890737915188,
          127.20890737915188,
          127.25839745298292,
          127.25839745298292,
          127.55533789596915,
          127.55533789596915,
          127.65431804363122,
          127.65431804363122,
          127.65431804363122,
          127.65431804363122,
          127.65431804363122,
          127.65431804363122,
          127.65431804363122,
          127.65431804363122,
          127.65431804363122,
          127.65431804363122,
          127.65431804363122,
          127.65431804363122,
          127.65431804363122,
          127.65431804363122,
          127.65431804363122,
          127.65431804363122,
          127.65431804363122,
          127.65431804363122,
          127.65431804363122,
          127.65431804363122,
          127.65431804363122,
          127.65431804363122,
          127.65431804363122,
          127.65431804363122,
          127.65431804363122,
          127.65431804363122,
          127.65431804363122,
          127.65431804363122,
          127.65431804363122,
          127.65431804363122,
          127.65431804363122,
          127.65431804363122,
          127.65431804363122,
          127.65431804363122,
          127.65431804363122,
          127.65431804363122,
          127.65431804363122,
          127.65431804363122,
          127.65431804363122,
          127.65431804363122,
          127.65431804363122,
          127.65431804363122,
          127.65431804363122,
          127.65431804363122,
          127.65431804363122,
          127.65431804363122,
          127.65431804363122,
          127.65431804363122,
          127.65431804363122,
          127.65431804363122,
          127.65431804363122,
          127.65431804363122,
          127.65431804363122,
          127.65431804363122,
          127.65431804363122,
          127.65431804363122,
          127.65431804363122,
          127.65431804363122,
          127.65431804363122,
          127.65431804363122,
          127.65431804363122,
          127.65431804363122,
          127.65431804363122,
          127.65431804363122,
          127.65431804363122,
          127.65431804363122,
          127.65431804363122,
          127.65431804363122,
          127.7532981912933,
          127.7532981912933,
          127.90176841278641,
          127.90176841278641,
          127.90176841278641,
          127.90176841278641,
          127.95125848661743,
          127.95125848661743,
          128.14921878194158,
          128.14921878194158,
          128.14921878194158,
          128.14921878194158,
          128.14921878194158,
          128.14921878194158,
          128.14921878194158,
          128.14921878194158,
          128.14921878194158,
          128.14921878194158,
          128.14921878194158,
          128.14921878194158,
          128.14921878194158,
          128.14921878194158,
          128.14921878194158,
          128.14921878194158,
          128.14921878194158,
          128.14921878194158,
          128.14921878194158,
          128.14921878194158,
          128.14921878194158,
          128.14921878194158,
          128.14921878194158,
          128.14921878194158,
          128.14921878194158,
          128.14921878194158,
          128.14921878194158,
          128.14921878194158,
          128.14921878194158,
          128.14921878194158,
          128.14921878194158,
          128.14921878194158,
          128.14921878194158,
          128.14921878194158,
          128.14921878194158,
          128.14921878194158,
          128.14921878194158,
          128.14921878194158,
          128.14921878194158,
          128.14921878194158,
          128.14921878194158,
          128.14921878194158,
          128.14921878194158,
          128.14921878194158,
          128.14921878194158,
          128.14921878194158,
          128.14921878194158,
          128.14921878194158,
          128.14921878194158,
          128.14921878194158,
          128.14921878194158,
          128.14921878194158,
          128.14921878194158,
          128.14921878194158,
          128.14921878194158,
          128.14921878194158,
          128.14921878194158,
          128.14921878194158,
          128.14921878194158,
          128.14921878194158,
          128.14921878194158,
          128.14921878194158,
          128.14921878194158,
          128.14921878194158,
          128.14921878194158,
          128.14921878194158,
          128.14921878194158,
          128.14921878194158,
          128.24819892960366,
          128.5451393725899,
          128.5451393725899,
          128.5451393725899,
          128.64411952025196,
          128.64411952025196,
          128.64411952025196,
          128.64411952025196,
          128.64411952025196,
          128.64411952025196,
          128.64411952025196,
          128.64411952025196,
          128.64411952025196,
          128.64411952025196,
          128.64411952025196,
          128.64411952025196,
          128.64411952025196,
          128.64411952025196,
          128.64411952025196,
          128.64411952025196,
          128.64411952025196,
          128.64411952025196,
          128.64411952025196,
          128.64411952025196,
          128.64411952025196,
          128.64411952025196,
          128.64411952025196,
          128.64411952025196,
          128.64411952025196,
          128.64411952025196,
          128.64411952025196,
          128.64411952025196,
          128.64411952025196,
          128.64411952025196,
          128.64411952025196,
          128.64411952025196,
          128.64411952025196,
          128.64411952025196,
          128.64411952025196,
          128.64411952025196,
          128.64411952025196,
          128.64411952025196,
          128.64411952025196,
          128.64411952025196,
          128.64411952025196,
          128.64411952025196,
          128.64411952025196,
          128.64411952025196,
          128.64411952025196,
          128.64411952025196,
          128.64411952025196,
          128.64411952025196,
          128.64411952025196,
          128.64411952025196,
          128.64411952025196,
          128.64411952025196,
          128.64411952025196,
          128.64411952025196,
          128.64411952025196,
          128.64411952025196,
          128.64411952025196,
          128.64411952025196,
          128.64411952025196,
          128.64411952025196,
          128.64411952025196,
          128.64411952025196,
          128.64411952025196,
          128.64411952025196,
          128.64411952025196,
          128.64411952025196,
          128.79258974174508,
          128.79258974174508,
          128.89156988940715,
          128.89156988940715,
          129.1390202585623,
          129.1390202585623,
          129.1390202585623,
          129.1390202585623,
          129.1390202585623,
          129.1390202585623,
          129.1390202585623,
          129.1390202585623,
          129.1390202585623,
          129.1390202585623,
          129.1390202585623,
          129.1390202585623,
          129.1390202585623,
          129.1390202585623,
          129.1390202585623,
          129.1390202585623,
          129.1390202585623,
          129.1390202585623,
          129.1390202585623,
          129.1390202585623,
          129.1390202585623,
          129.1390202585623,
          129.1390202585623,
          129.1390202585623,
          129.1390202585623,
          129.1390202585623,
          129.1390202585623,
          129.1390202585623,
          129.1390202585623,
          129.1390202585623,
          129.1390202585623,
          129.1390202585623,
          129.1390202585623,
          129.1390202585623,
          129.1390202585623,
          129.1390202585623,
          129.1390202585623,
          129.1390202585623,
          129.1390202585623,
          129.1390202585623,
          129.1390202585623,
          129.1390202585623,
          129.1390202585623,
          129.1390202585623,
          129.1390202585623,
          129.1390202585623,
          129.1390202585623,
          129.1390202585623,
          129.1390202585623,
          129.1390202585623,
          129.1390202585623,
          129.1390202585623,
          129.1390202585623,
          129.1390202585623,
          129.1390202585623,
          129.1390202585623,
          129.1390202585623,
          129.1390202585623,
          129.1390202585623,
          129.1390202585623,
          129.1390202585623,
          129.1390202585623,
          129.1390202585623,
          129.1390202585623,
          129.1390202585623,
          129.1390202585623,
          129.1390202585623,
          129.1390202585623,
          129.1390202585623,
          129.1390202585623,
          129.1390202585623,
          129.1390202585623,
          129.1390202585623,
          129.1390202585623,
          129.1390202585623,
          129.1390202585623,
          129.1390202585623,
          129.1390202585623,
          129.1390202585623,
          129.1390202585623,
          129.1390202585623,
          129.1390202585623,
          129.1390202585623,
          129.1390202585623,
          129.1390202585623,
          129.1390202585623,
          129.1390202585623,
          129.1390202585623,
          129.1390202585623,
          129.1390202585623,
          129.1390202585623,
          129.1390202585623,
          129.1390202585623,
          129.1390202585623,
          129.1390202585623,
          129.1390202585623,
          129.1390202585623,
          129.1390202585623,
          129.1390202585623,
          129.1390202585623,
          129.1390202585623,
          130.12882173518307,
          130.12882173518307,
          130.12882173518307,
          130.12882173518307,
          130.12882173518307,
          130.12882173518307,
          130.12882173518307,
          130.12882173518307,
          130.12882173518307,
          130.12882173518307,
          130.12882173518307,
          130.12882173518307,
          130.12882173518307,
          130.12882173518307,
          130.12882173518307,
          130.12882173518307,
          130.12882173518307,
          130.12882173518307,
          130.12882173518307,
          130.12882173518307,
          130.12882173518307,
          130.12882173518307,
          130.12882173518307,
          130.12882173518307,
          130.12882173518307,
          130.12882173518307,
          130.12882173518307,
          130.12882173518307,
          130.12882173518307,
          130.12882173518307,
          130.12882173518307,
          130.12882173518307,
          130.12882173518307,
          130.12882173518307,
          130.12882173518307,
          130.12882173518307
         ],
         "yaxis": "y"
        }
       ],
       "layout": {
        "legend": {
         "tracegroupgap": 0
        },
        "template": {
         "data": {
          "bar": [
           {
            "error_x": {
             "color": "#2a3f5f"
            },
            "error_y": {
             "color": "#2a3f5f"
            },
            "marker": {
             "line": {
              "color": "#E5ECF6",
              "width": 0.5
             },
             "pattern": {
              "fillmode": "overlay",
              "size": 10,
              "solidity": 0.2
             }
            },
            "type": "bar"
           }
          ],
          "barpolar": [
           {
            "marker": {
             "line": {
              "color": "#E5ECF6",
              "width": 0.5
             },
             "pattern": {
              "fillmode": "overlay",
              "size": 10,
              "solidity": 0.2
             }
            },
            "type": "barpolar"
           }
          ],
          "carpet": [
           {
            "aaxis": {
             "endlinecolor": "#2a3f5f",
             "gridcolor": "white",
             "linecolor": "white",
             "minorgridcolor": "white",
             "startlinecolor": "#2a3f5f"
            },
            "baxis": {
             "endlinecolor": "#2a3f5f",
             "gridcolor": "white",
             "linecolor": "white",
             "minorgridcolor": "white",
             "startlinecolor": "#2a3f5f"
            },
            "type": "carpet"
           }
          ],
          "choropleth": [
           {
            "colorbar": {
             "outlinewidth": 0,
             "ticks": ""
            },
            "type": "choropleth"
           }
          ],
          "contour": [
           {
            "colorbar": {
             "outlinewidth": 0,
             "ticks": ""
            },
            "colorscale": [
             [
              0,
              "#0d0887"
             ],
             [
              0.1111111111111111,
              "#46039f"
             ],
             [
              0.2222222222222222,
              "#7201a8"
             ],
             [
              0.3333333333333333,
              "#9c179e"
             ],
             [
              0.4444444444444444,
              "#bd3786"
             ],
             [
              0.5555555555555556,
              "#d8576b"
             ],
             [
              0.6666666666666666,
              "#ed7953"
             ],
             [
              0.7777777777777778,
              "#fb9f3a"
             ],
             [
              0.8888888888888888,
              "#fdca26"
             ],
             [
              1,
              "#f0f921"
             ]
            ],
            "type": "contour"
           }
          ],
          "contourcarpet": [
           {
            "colorbar": {
             "outlinewidth": 0,
             "ticks": ""
            },
            "type": "contourcarpet"
           }
          ],
          "heatmap": [
           {
            "colorbar": {
             "outlinewidth": 0,
             "ticks": ""
            },
            "colorscale": [
             [
              0,
              "#0d0887"
             ],
             [
              0.1111111111111111,
              "#46039f"
             ],
             [
              0.2222222222222222,
              "#7201a8"
             ],
             [
              0.3333333333333333,
              "#9c179e"
             ],
             [
              0.4444444444444444,
              "#bd3786"
             ],
             [
              0.5555555555555556,
              "#d8576b"
             ],
             [
              0.6666666666666666,
              "#ed7953"
             ],
             [
              0.7777777777777778,
              "#fb9f3a"
             ],
             [
              0.8888888888888888,
              "#fdca26"
             ],
             [
              1,
              "#f0f921"
             ]
            ],
            "type": "heatmap"
           }
          ],
          "heatmapgl": [
           {
            "colorbar": {
             "outlinewidth": 0,
             "ticks": ""
            },
            "colorscale": [
             [
              0,
              "#0d0887"
             ],
             [
              0.1111111111111111,
              "#46039f"
             ],
             [
              0.2222222222222222,
              "#7201a8"
             ],
             [
              0.3333333333333333,
              "#9c179e"
             ],
             [
              0.4444444444444444,
              "#bd3786"
             ],
             [
              0.5555555555555556,
              "#d8576b"
             ],
             [
              0.6666666666666666,
              "#ed7953"
             ],
             [
              0.7777777777777778,
              "#fb9f3a"
             ],
             [
              0.8888888888888888,
              "#fdca26"
             ],
             [
              1,
              "#f0f921"
             ]
            ],
            "type": "heatmapgl"
           }
          ],
          "histogram": [
           {
            "marker": {
             "pattern": {
              "fillmode": "overlay",
              "size": 10,
              "solidity": 0.2
             }
            },
            "type": "histogram"
           }
          ],
          "histogram2d": [
           {
            "colorbar": {
             "outlinewidth": 0,
             "ticks": ""
            },
            "colorscale": [
             [
              0,
              "#0d0887"
             ],
             [
              0.1111111111111111,
              "#46039f"
             ],
             [
              0.2222222222222222,
              "#7201a8"
             ],
             [
              0.3333333333333333,
              "#9c179e"
             ],
             [
              0.4444444444444444,
              "#bd3786"
             ],
             [
              0.5555555555555556,
              "#d8576b"
             ],
             [
              0.6666666666666666,
              "#ed7953"
             ],
             [
              0.7777777777777778,
              "#fb9f3a"
             ],
             [
              0.8888888888888888,
              "#fdca26"
             ],
             [
              1,
              "#f0f921"
             ]
            ],
            "type": "histogram2d"
           }
          ],
          "histogram2dcontour": [
           {
            "colorbar": {
             "outlinewidth": 0,
             "ticks": ""
            },
            "colorscale": [
             [
              0,
              "#0d0887"
             ],
             [
              0.1111111111111111,
              "#46039f"
             ],
             [
              0.2222222222222222,
              "#7201a8"
             ],
             [
              0.3333333333333333,
              "#9c179e"
             ],
             [
              0.4444444444444444,
              "#bd3786"
             ],
             [
              0.5555555555555556,
              "#d8576b"
             ],
             [
              0.6666666666666666,
              "#ed7953"
             ],
             [
              0.7777777777777778,
              "#fb9f3a"
             ],
             [
              0.8888888888888888,
              "#fdca26"
             ],
             [
              1,
              "#f0f921"
             ]
            ],
            "type": "histogram2dcontour"
           }
          ],
          "mesh3d": [
           {
            "colorbar": {
             "outlinewidth": 0,
             "ticks": ""
            },
            "type": "mesh3d"
           }
          ],
          "parcoords": [
           {
            "line": {
             "colorbar": {
              "outlinewidth": 0,
              "ticks": ""
             }
            },
            "type": "parcoords"
           }
          ],
          "pie": [
           {
            "automargin": true,
            "type": "pie"
           }
          ],
          "scatter": [
           {
            "marker": {
             "colorbar": {
              "outlinewidth": 0,
              "ticks": ""
             }
            },
            "type": "scatter"
           }
          ],
          "scatter3d": [
           {
            "line": {
             "colorbar": {
              "outlinewidth": 0,
              "ticks": ""
             }
            },
            "marker": {
             "colorbar": {
              "outlinewidth": 0,
              "ticks": ""
             }
            },
            "type": "scatter3d"
           }
          ],
          "scattercarpet": [
           {
            "marker": {
             "colorbar": {
              "outlinewidth": 0,
              "ticks": ""
             }
            },
            "type": "scattercarpet"
           }
          ],
          "scattergeo": [
           {
            "marker": {
             "colorbar": {
              "outlinewidth": 0,
              "ticks": ""
             }
            },
            "type": "scattergeo"
           }
          ],
          "scattergl": [
           {
            "marker": {
             "colorbar": {
              "outlinewidth": 0,
              "ticks": ""
             }
            },
            "type": "scattergl"
           }
          ],
          "scattermapbox": [
           {
            "marker": {
             "colorbar": {
              "outlinewidth": 0,
              "ticks": ""
             }
            },
            "type": "scattermapbox"
           }
          ],
          "scatterpolar": [
           {
            "marker": {
             "colorbar": {
              "outlinewidth": 0,
              "ticks": ""
             }
            },
            "type": "scatterpolar"
           }
          ],
          "scatterpolargl": [
           {
            "marker": {
             "colorbar": {
              "outlinewidth": 0,
              "ticks": ""
             }
            },
            "type": "scatterpolargl"
           }
          ],
          "scatterternary": [
           {
            "marker": {
             "colorbar": {
              "outlinewidth": 0,
              "ticks": ""
             }
            },
            "type": "scatterternary"
           }
          ],
          "surface": [
           {
            "colorbar": {
             "outlinewidth": 0,
             "ticks": ""
            },
            "colorscale": [
             [
              0,
              "#0d0887"
             ],
             [
              0.1111111111111111,
              "#46039f"
             ],
             [
              0.2222222222222222,
              "#7201a8"
             ],
             [
              0.3333333333333333,
              "#9c179e"
             ],
             [
              0.4444444444444444,
              "#bd3786"
             ],
             [
              0.5555555555555556,
              "#d8576b"
             ],
             [
              0.6666666666666666,
              "#ed7953"
             ],
             [
              0.7777777777777778,
              "#fb9f3a"
             ],
             [
              0.8888888888888888,
              "#fdca26"
             ],
             [
              1,
              "#f0f921"
             ]
            ],
            "type": "surface"
           }
          ],
          "table": [
           {
            "cells": {
             "fill": {
              "color": "#EBF0F8"
             },
             "line": {
              "color": "white"
             }
            },
            "header": {
             "fill": {
              "color": "#C8D4E3"
             },
             "line": {
              "color": "white"
             }
            },
            "type": "table"
           }
          ]
         },
         "layout": {
          "annotationdefaults": {
           "arrowcolor": "#2a3f5f",
           "arrowhead": 0,
           "arrowwidth": 1
          },
          "autotypenumbers": "strict",
          "coloraxis": {
           "colorbar": {
            "outlinewidth": 0,
            "ticks": ""
           }
          },
          "colorscale": {
           "diverging": [
            [
             0,
             "#8e0152"
            ],
            [
             0.1,
             "#c51b7d"
            ],
            [
             0.2,
             "#de77ae"
            ],
            [
             0.3,
             "#f1b6da"
            ],
            [
             0.4,
             "#fde0ef"
            ],
            [
             0.5,
             "#f7f7f7"
            ],
            [
             0.6,
             "#e6f5d0"
            ],
            [
             0.7,
             "#b8e186"
            ],
            [
             0.8,
             "#7fbc41"
            ],
            [
             0.9,
             "#4d9221"
            ],
            [
             1,
             "#276419"
            ]
           ],
           "sequential": [
            [
             0,
             "#0d0887"
            ],
            [
             0.1111111111111111,
             "#46039f"
            ],
            [
             0.2222222222222222,
             "#7201a8"
            ],
            [
             0.3333333333333333,
             "#9c179e"
            ],
            [
             0.4444444444444444,
             "#bd3786"
            ],
            [
             0.5555555555555556,
             "#d8576b"
            ],
            [
             0.6666666666666666,
             "#ed7953"
            ],
            [
             0.7777777777777778,
             "#fb9f3a"
            ],
            [
             0.8888888888888888,
             "#fdca26"
            ],
            [
             1,
             "#f0f921"
            ]
           ],
           "sequentialminus": [
            [
             0,
             "#0d0887"
            ],
            [
             0.1111111111111111,
             "#46039f"
            ],
            [
             0.2222222222222222,
             "#7201a8"
            ],
            [
             0.3333333333333333,
             "#9c179e"
            ],
            [
             0.4444444444444444,
             "#bd3786"
            ],
            [
             0.5555555555555556,
             "#d8576b"
            ],
            [
             0.6666666666666666,
             "#ed7953"
            ],
            [
             0.7777777777777778,
             "#fb9f3a"
            ],
            [
             0.8888888888888888,
             "#fdca26"
            ],
            [
             1,
             "#f0f921"
            ]
           ]
          },
          "colorway": [
           "#636efa",
           "#EF553B",
           "#00cc96",
           "#ab63fa",
           "#FFA15A",
           "#19d3f3",
           "#FF6692",
           "#B6E880",
           "#FF97FF",
           "#FECB52"
          ],
          "font": {
           "color": "#2a3f5f"
          },
          "geo": {
           "bgcolor": "white",
           "lakecolor": "white",
           "landcolor": "#E5ECF6",
           "showlakes": true,
           "showland": true,
           "subunitcolor": "white"
          },
          "hoverlabel": {
           "align": "left"
          },
          "hovermode": "closest",
          "mapbox": {
           "style": "light"
          },
          "paper_bgcolor": "white",
          "plot_bgcolor": "#E5ECF6",
          "polar": {
           "angularaxis": {
            "gridcolor": "white",
            "linecolor": "white",
            "ticks": ""
           },
           "bgcolor": "#E5ECF6",
           "radialaxis": {
            "gridcolor": "white",
            "linecolor": "white",
            "ticks": ""
           }
          },
          "scene": {
           "xaxis": {
            "backgroundcolor": "#E5ECF6",
            "gridcolor": "white",
            "gridwidth": 2,
            "linecolor": "white",
            "showbackground": true,
            "ticks": "",
            "zerolinecolor": "white"
           },
           "yaxis": {
            "backgroundcolor": "#E5ECF6",
            "gridcolor": "white",
            "gridwidth": 2,
            "linecolor": "white",
            "showbackground": true,
            "ticks": "",
            "zerolinecolor": "white"
           },
           "zaxis": {
            "backgroundcolor": "#E5ECF6",
            "gridcolor": "white",
            "gridwidth": 2,
            "linecolor": "white",
            "showbackground": true,
            "ticks": "",
            "zerolinecolor": "white"
           }
          },
          "shapedefaults": {
           "line": {
            "color": "#2a3f5f"
           }
          },
          "ternary": {
           "aaxis": {
            "gridcolor": "white",
            "linecolor": "white",
            "ticks": ""
           },
           "baxis": {
            "gridcolor": "white",
            "linecolor": "white",
            "ticks": ""
           },
           "bgcolor": "#E5ECF6",
           "caxis": {
            "gridcolor": "white",
            "linecolor": "white",
            "ticks": ""
           }
          },
          "title": {
           "x": 0.05
          },
          "xaxis": {
           "automargin": true,
           "gridcolor": "white",
           "linecolor": "white",
           "ticks": "",
           "title": {
            "standoff": 15
           },
           "zerolinecolor": "white",
           "zerolinewidth": 2
          },
          "yaxis": {
           "automargin": true,
           "gridcolor": "white",
           "linecolor": "white",
           "ticks": "",
           "title": {
            "standoff": 15
           },
           "zerolinecolor": "white",
           "zerolinewidth": 2
          }
         }
        },
        "title": {
         "text": "Daily Steps vs Systolic BP"
        },
        "xaxis": {
         "anchor": "y",
         "domain": [
          0,
          1
         ],
         "title": {
          "text": "Daily Steps"
         }
        },
        "yaxis": {
         "anchor": "x",
         "domain": [
          0,
          1
         ],
         "title": {
          "text": "Systolic BP"
         }
        }
       }
      },
      "text/html": [
       "<div>                            <div id=\"26f009f5-1c31-4099-9bcc-8688af0dee8f\" class=\"plotly-graph-div\" style=\"height:525px; width:100%;\"></div>            <script type=\"text/javascript\">                require([\"plotly\"], function(Plotly) {                    window.PLOTLYENV=window.PLOTLYENV || {};                                    if (document.getElementById(\"26f009f5-1c31-4099-9bcc-8688af0dee8f\")) {                    Plotly.newPlot(                        \"26f009f5-1c31-4099-9bcc-8688af0dee8f\",                        [{\"hovertemplate\":\"Daily Steps=%{x}<br>Systolic BP=%{y}<extra></extra>\",\"legendgroup\":\"\",\"marker\":{\"color\":\"#636efa\",\"symbol\":\"circle\"},\"mode\":\"markers\",\"name\":\"\",\"orientation\":\"v\",\"showlegend\":false,\"type\":\"scatter\",\"x\":[4200,10000,10000,3000,3000,3000,3500,8000,8000,8000,8000,8000,8000,8000,8000,8000,4000,8000,4000,8000,8000,8000,8000,8000,8000,8000,8000,8000,8000,8000,4100,4100,6800,5000,8000,5000,5000,8000,8000,8000,8000,8000,8000,8000,8000,8000,8000,8000,8000,8000,8000,8000,5000,8000,5000,5000,8000,5000,5000,8000,5000,5000,5000,5000,5000,5000,7000,5000,5500,5500,5000,5000,5000,5000,5000,5000,5000,5000,5000,5000,5200,5200,5600,5600,8000,7000,5000,5000,5000,5000,5000,5000,8000,3300,7000,7000,7000,7000,7000,7000,7000,7000,7000,4800,7000,4800,4200,7000,7000,8000,7000,8000,7000,8000,7000,7000,7000,7000,7000,7000,7000,7000,7000,7000,7000,8000,8000,7000,8000,8000,7000,8000,8000,7000,8000,8000,7000,8000,7000,8000,7000,8000,7000,7000,8000,3300,8000,4000,5500,7500,7500,8000,8000,8000,8000,8000,8000,8000,8000,8000,8000,7300,7300,8000,8000,8000,6200,6000,6000,8000,8000,8000,8000,8000,8000,8000,8000,6000,8000,8000,8000,8000,8000,8000,5000,5000,6000,6000,6000,6000,6000,6000,6000,6000,6000,6000,6000,6000,6000,6000,6000,8000,8000,6800,6800,8000,8000,8000,8000,8000,8000,8000,8000,8000,8000,8000,8000,8000,8000,6000,6000,6000,6000,6000,6000,6000,6000,6000,6000,6000,6000,6000,6000,6000,6000,6000,6000,6000,6000,6000,6000,6000,6000,6000,6000,6000,6000,5000,6000,6000,6000,6000,6000,6000,6000,6000,6000,6000,6000,6000,6000,6000,6000,5500,3500,10000,3500,10000,10000,10000,10000,10000,10000,10000,10000,10000,3700,3700,10000,5000,10000,10000,10000,10000,10000,10000,10000,10000,10000,10000,10000,10000,10000,10000,10000,10000,10000,10000,5000,5000,5000,5000,6000,10000,10000,10000,6000,6000,6000,6000,6000,6000,5000,5000,5000,5000,5000,5000,5000,5000,5000,5000,5000,5000,5000,5000,5000,5000,5000,5000,5000,5000,5000,5000,5000,5000,5000,5000,5000,5000,5000,10000,10000,7000,7000,7000,7000,7000,7000,7000,7000,7000,7000,7000,7000,7000,7000,7000,7000,7000,7000,7000,7000,7000,7000,7000,7000,7000,7000,7000,7000,7000,7000,7000],\"xaxis\":\"x\",\"y\":[126,125,125,140,140,140,140,120,120,120,120,120,120,120,120,120,132,120,132,120,120,120,120,120,120,120,120,120,120,120,130,130,117,125,120,125,125,120,120,120,120,120,120,120,120,120,120,120,120,120,120,120,125,120,125,125,120,125,125,120,125,125,125,125,125,125,118,125,128,128,125,125,125,125,125,125,125,125,125,125,131,131,128,128,120,115,125,125,125,125,125,125,120,135,115,115,115,115,115,115,115,115,115,129,115,129,126,120,120,130,115,130,115,130,115,115,115,115,115,115,115,115,115,115,115,120,130,115,130,130,115,130,130,115,130,130,115,130,115,130,115,130,115,115,130,135,130,132,128,115,115,130,130,130,130,130,130,130,130,130,130,119,119,130,130,130,121,125,125,130,130,130,130,130,130,130,130,130,130,130,130,130,130,130,130,130,135,130,135,130,135,130,130,130,130,130,130,130,130,130,130,130,130,117,122,130,130,130,130,130,130,130,130,130,130,130,130,130,130,130,135,130,130,130,135,130,135,130,135,130,135,130,135,130,135,130,130,135,130,130,135,130,130,135,130,135,130,130,130,130,135,135,135,135,135,135,135,135,135,135,135,135,135,125,142,140,142,140,140,140,140,140,140,140,140,140,139,139,140,125,140,140,140,140,140,140,140,140,140,140,140,140,140,140,140,140,140,140,125,125,125,125,125,140,140,140,130,130,130,130,130,130,125,125,125,125,125,125,125,125,125,125,125,125,125,125,125,125,125,125,125,125,125,125,125,125,125,125,125,140,140,118,118,140,140,140,140,140,140,140,140,140,140,140,140,140,140,140,140,140,140,140,140,140,140,140,140,140,140,140,140,140,140,140],\"yaxis\":\"y\"},{\"hovertemplate\":\"<b>OLS trendline</b><br>Systolic BP = 0.000494901 * Daily Steps + 125.18<br>R<sup>2</sup>=0.010680<br><br>Daily Steps=%{x}<br>Systolic BP=%{y} <b>(trend)</b><extra></extra>\",\"legendgroup\":\"\",\"marker\":{\"color\":\"#636efa\",\"symbol\":\"circle\"},\"mode\":\"lines\",\"name\":\"\",\"showlegend\":false,\"type\":\"scatter\",\"x\":[3000,3000,3000,3300,3300,3500,3500,3500,3700,3700,4000,4000,4000,4100,4100,4200,4200,4800,4800,5000,5000,5000,5000,5000,5000,5000,5000,5000,5000,5000,5000,5000,5000,5000,5000,5000,5000,5000,5000,5000,5000,5000,5000,5000,5000,5000,5000,5000,5000,5000,5000,5000,5000,5000,5000,5000,5000,5000,5000,5000,5000,5000,5000,5000,5000,5000,5000,5000,5000,5000,5000,5000,5000,5000,5000,5000,5000,5000,5000,5000,5000,5000,5000,5000,5000,5000,5000,5200,5200,5500,5500,5500,5500,5600,5600,6000,6000,6000,6000,6000,6000,6000,6000,6000,6000,6000,6000,6000,6000,6000,6000,6000,6000,6000,6000,6000,6000,6000,6000,6000,6000,6000,6000,6000,6000,6000,6000,6000,6000,6000,6000,6000,6000,6000,6000,6000,6000,6000,6000,6000,6000,6000,6000,6000,6000,6000,6000,6000,6000,6000,6000,6000,6000,6000,6000,6000,6000,6000,6000,6000,6000,6000,6000,6200,6800,6800,6800,7000,7000,7000,7000,7000,7000,7000,7000,7000,7000,7000,7000,7000,7000,7000,7000,7000,7000,7000,7000,7000,7000,7000,7000,7000,7000,7000,7000,7000,7000,7000,7000,7000,7000,7000,7000,7000,7000,7000,7000,7000,7000,7000,7000,7000,7000,7000,7000,7000,7000,7000,7000,7000,7000,7000,7000,7000,7000,7000,7000,7000,7000,7000,7000,7000,7000,7300,7300,7500,7500,8000,8000,8000,8000,8000,8000,8000,8000,8000,8000,8000,8000,8000,8000,8000,8000,8000,8000,8000,8000,8000,8000,8000,8000,8000,8000,8000,8000,8000,8000,8000,8000,8000,8000,8000,8000,8000,8000,8000,8000,8000,8000,8000,8000,8000,8000,8000,8000,8000,8000,8000,8000,8000,8000,8000,8000,8000,8000,8000,8000,8000,8000,8000,8000,8000,8000,8000,8000,8000,8000,8000,8000,8000,8000,8000,8000,8000,8000,8000,8000,8000,8000,8000,8000,8000,8000,8000,8000,8000,8000,8000,8000,8000,8000,8000,8000,8000,8000,8000,8000,8000,10000,10000,10000,10000,10000,10000,10000,10000,10000,10000,10000,10000,10000,10000,10000,10000,10000,10000,10000,10000,10000,10000,10000,10000,10000,10000,10000,10000,10000,10000,10000,10000,10000,10000,10000,10000],\"xaxis\":\"x\",\"y\":[126.66451656701048,126.66451656701048,126.66451656701048,126.8129867885036,126.8129867885036,126.91196693616567,126.91196693616567,126.91196693616567,127.01094708382774,127.01094708382774,127.15941730532086,127.15941730532086,127.15941730532086,127.20890737915188,127.20890737915188,127.25839745298292,127.25839745298292,127.55533789596915,127.55533789596915,127.65431804363122,127.65431804363122,127.65431804363122,127.65431804363122,127.65431804363122,127.65431804363122,127.65431804363122,127.65431804363122,127.65431804363122,127.65431804363122,127.65431804363122,127.65431804363122,127.65431804363122,127.65431804363122,127.65431804363122,127.65431804363122,127.65431804363122,127.65431804363122,127.65431804363122,127.65431804363122,127.65431804363122,127.65431804363122,127.65431804363122,127.65431804363122,127.65431804363122,127.65431804363122,127.65431804363122,127.65431804363122,127.65431804363122,127.65431804363122,127.65431804363122,127.65431804363122,127.65431804363122,127.65431804363122,127.65431804363122,127.65431804363122,127.65431804363122,127.65431804363122,127.65431804363122,127.65431804363122,127.65431804363122,127.65431804363122,127.65431804363122,127.65431804363122,127.65431804363122,127.65431804363122,127.65431804363122,127.65431804363122,127.65431804363122,127.65431804363122,127.65431804363122,127.65431804363122,127.65431804363122,127.65431804363122,127.65431804363122,127.65431804363122,127.65431804363122,127.65431804363122,127.65431804363122,127.65431804363122,127.65431804363122,127.65431804363122,127.65431804363122,127.65431804363122,127.65431804363122,127.65431804363122,127.65431804363122,127.65431804363122,127.7532981912933,127.7532981912933,127.90176841278641,127.90176841278641,127.90176841278641,127.90176841278641,127.95125848661743,127.95125848661743,128.14921878194158,128.14921878194158,128.14921878194158,128.14921878194158,128.14921878194158,128.14921878194158,128.14921878194158,128.14921878194158,128.14921878194158,128.14921878194158,128.14921878194158,128.14921878194158,128.14921878194158,128.14921878194158,128.14921878194158,128.14921878194158,128.14921878194158,128.14921878194158,128.14921878194158,128.14921878194158,128.14921878194158,128.14921878194158,128.14921878194158,128.14921878194158,128.14921878194158,128.14921878194158,128.14921878194158,128.14921878194158,128.14921878194158,128.14921878194158,128.14921878194158,128.14921878194158,128.14921878194158,128.14921878194158,128.14921878194158,128.14921878194158,128.14921878194158,128.14921878194158,128.14921878194158,128.14921878194158,128.14921878194158,128.14921878194158,128.14921878194158,128.14921878194158,128.14921878194158,128.14921878194158,128.14921878194158,128.14921878194158,128.14921878194158,128.14921878194158,128.14921878194158,128.14921878194158,128.14921878194158,128.14921878194158,128.14921878194158,128.14921878194158,128.14921878194158,128.14921878194158,128.14921878194158,128.14921878194158,128.14921878194158,128.14921878194158,128.14921878194158,128.14921878194158,128.14921878194158,128.14921878194158,128.14921878194158,128.14921878194158,128.24819892960366,128.5451393725899,128.5451393725899,128.5451393725899,128.64411952025196,128.64411952025196,128.64411952025196,128.64411952025196,128.64411952025196,128.64411952025196,128.64411952025196,128.64411952025196,128.64411952025196,128.64411952025196,128.64411952025196,128.64411952025196,128.64411952025196,128.64411952025196,128.64411952025196,128.64411952025196,128.64411952025196,128.64411952025196,128.64411952025196,128.64411952025196,128.64411952025196,128.64411952025196,128.64411952025196,128.64411952025196,128.64411952025196,128.64411952025196,128.64411952025196,128.64411952025196,128.64411952025196,128.64411952025196,128.64411952025196,128.64411952025196,128.64411952025196,128.64411952025196,128.64411952025196,128.64411952025196,128.64411952025196,128.64411952025196,128.64411952025196,128.64411952025196,128.64411952025196,128.64411952025196,128.64411952025196,128.64411952025196,128.64411952025196,128.64411952025196,128.64411952025196,128.64411952025196,128.64411952025196,128.64411952025196,128.64411952025196,128.64411952025196,128.64411952025196,128.64411952025196,128.64411952025196,128.64411952025196,128.64411952025196,128.64411952025196,128.64411952025196,128.64411952025196,128.64411952025196,128.64411952025196,128.64411952025196,128.64411952025196,128.64411952025196,128.64411952025196,128.79258974174508,128.79258974174508,128.89156988940715,128.89156988940715,129.1390202585623,129.1390202585623,129.1390202585623,129.1390202585623,129.1390202585623,129.1390202585623,129.1390202585623,129.1390202585623,129.1390202585623,129.1390202585623,129.1390202585623,129.1390202585623,129.1390202585623,129.1390202585623,129.1390202585623,129.1390202585623,129.1390202585623,129.1390202585623,129.1390202585623,129.1390202585623,129.1390202585623,129.1390202585623,129.1390202585623,129.1390202585623,129.1390202585623,129.1390202585623,129.1390202585623,129.1390202585623,129.1390202585623,129.1390202585623,129.1390202585623,129.1390202585623,129.1390202585623,129.1390202585623,129.1390202585623,129.1390202585623,129.1390202585623,129.1390202585623,129.1390202585623,129.1390202585623,129.1390202585623,129.1390202585623,129.1390202585623,129.1390202585623,129.1390202585623,129.1390202585623,129.1390202585623,129.1390202585623,129.1390202585623,129.1390202585623,129.1390202585623,129.1390202585623,129.1390202585623,129.1390202585623,129.1390202585623,129.1390202585623,129.1390202585623,129.1390202585623,129.1390202585623,129.1390202585623,129.1390202585623,129.1390202585623,129.1390202585623,129.1390202585623,129.1390202585623,129.1390202585623,129.1390202585623,129.1390202585623,129.1390202585623,129.1390202585623,129.1390202585623,129.1390202585623,129.1390202585623,129.1390202585623,129.1390202585623,129.1390202585623,129.1390202585623,129.1390202585623,129.1390202585623,129.1390202585623,129.1390202585623,129.1390202585623,129.1390202585623,129.1390202585623,129.1390202585623,129.1390202585623,129.1390202585623,129.1390202585623,129.1390202585623,129.1390202585623,129.1390202585623,129.1390202585623,129.1390202585623,129.1390202585623,129.1390202585623,129.1390202585623,129.1390202585623,129.1390202585623,129.1390202585623,129.1390202585623,129.1390202585623,130.12882173518307,130.12882173518307,130.12882173518307,130.12882173518307,130.12882173518307,130.12882173518307,130.12882173518307,130.12882173518307,130.12882173518307,130.12882173518307,130.12882173518307,130.12882173518307,130.12882173518307,130.12882173518307,130.12882173518307,130.12882173518307,130.12882173518307,130.12882173518307,130.12882173518307,130.12882173518307,130.12882173518307,130.12882173518307,130.12882173518307,130.12882173518307,130.12882173518307,130.12882173518307,130.12882173518307,130.12882173518307,130.12882173518307,130.12882173518307,130.12882173518307,130.12882173518307,130.12882173518307,130.12882173518307,130.12882173518307,130.12882173518307],\"yaxis\":\"y\"}],                        {\"legend\":{\"tracegroupgap\":0},\"template\":{\"data\":{\"bar\":[{\"error_x\":{\"color\":\"#2a3f5f\"},\"error_y\":{\"color\":\"#2a3f5f\"},\"marker\":{\"line\":{\"color\":\"#E5ECF6\",\"width\":0.5},\"pattern\":{\"fillmode\":\"overlay\",\"size\":10,\"solidity\":0.2}},\"type\":\"bar\"}],\"barpolar\":[{\"marker\":{\"line\":{\"color\":\"#E5ECF6\",\"width\":0.5},\"pattern\":{\"fillmode\":\"overlay\",\"size\":10,\"solidity\":0.2}},\"type\":\"barpolar\"}],\"carpet\":[{\"aaxis\":{\"endlinecolor\":\"#2a3f5f\",\"gridcolor\":\"white\",\"linecolor\":\"white\",\"minorgridcolor\":\"white\",\"startlinecolor\":\"#2a3f5f\"},\"baxis\":{\"endlinecolor\":\"#2a3f5f\",\"gridcolor\":\"white\",\"linecolor\":\"white\",\"minorgridcolor\":\"white\",\"startlinecolor\":\"#2a3f5f\"},\"type\":\"carpet\"}],\"choropleth\":[{\"colorbar\":{\"outlinewidth\":0,\"ticks\":\"\"},\"type\":\"choropleth\"}],\"contour\":[{\"colorbar\":{\"outlinewidth\":0,\"ticks\":\"\"},\"colorscale\":[[0.0,\"#0d0887\"],[0.1111111111111111,\"#46039f\"],[0.2222222222222222,\"#7201a8\"],[0.3333333333333333,\"#9c179e\"],[0.4444444444444444,\"#bd3786\"],[0.5555555555555556,\"#d8576b\"],[0.6666666666666666,\"#ed7953\"],[0.7777777777777778,\"#fb9f3a\"],[0.8888888888888888,\"#fdca26\"],[1.0,\"#f0f921\"]],\"type\":\"contour\"}],\"contourcarpet\":[{\"colorbar\":{\"outlinewidth\":0,\"ticks\":\"\"},\"type\":\"contourcarpet\"}],\"heatmap\":[{\"colorbar\":{\"outlinewidth\":0,\"ticks\":\"\"},\"colorscale\":[[0.0,\"#0d0887\"],[0.1111111111111111,\"#46039f\"],[0.2222222222222222,\"#7201a8\"],[0.3333333333333333,\"#9c179e\"],[0.4444444444444444,\"#bd3786\"],[0.5555555555555556,\"#d8576b\"],[0.6666666666666666,\"#ed7953\"],[0.7777777777777778,\"#fb9f3a\"],[0.8888888888888888,\"#fdca26\"],[1.0,\"#f0f921\"]],\"type\":\"heatmap\"}],\"heatmapgl\":[{\"colorbar\":{\"outlinewidth\":0,\"ticks\":\"\"},\"colorscale\":[[0.0,\"#0d0887\"],[0.1111111111111111,\"#46039f\"],[0.2222222222222222,\"#7201a8\"],[0.3333333333333333,\"#9c179e\"],[0.4444444444444444,\"#bd3786\"],[0.5555555555555556,\"#d8576b\"],[0.6666666666666666,\"#ed7953\"],[0.7777777777777778,\"#fb9f3a\"],[0.8888888888888888,\"#fdca26\"],[1.0,\"#f0f921\"]],\"type\":\"heatmapgl\"}],\"histogram\":[{\"marker\":{\"pattern\":{\"fillmode\":\"overlay\",\"size\":10,\"solidity\":0.2}},\"type\":\"histogram\"}],\"histogram2d\":[{\"colorbar\":{\"outlinewidth\":0,\"ticks\":\"\"},\"colorscale\":[[0.0,\"#0d0887\"],[0.1111111111111111,\"#46039f\"],[0.2222222222222222,\"#7201a8\"],[0.3333333333333333,\"#9c179e\"],[0.4444444444444444,\"#bd3786\"],[0.5555555555555556,\"#d8576b\"],[0.6666666666666666,\"#ed7953\"],[0.7777777777777778,\"#fb9f3a\"],[0.8888888888888888,\"#fdca26\"],[1.0,\"#f0f921\"]],\"type\":\"histogram2d\"}],\"histogram2dcontour\":[{\"colorbar\":{\"outlinewidth\":0,\"ticks\":\"\"},\"colorscale\":[[0.0,\"#0d0887\"],[0.1111111111111111,\"#46039f\"],[0.2222222222222222,\"#7201a8\"],[0.3333333333333333,\"#9c179e\"],[0.4444444444444444,\"#bd3786\"],[0.5555555555555556,\"#d8576b\"],[0.6666666666666666,\"#ed7953\"],[0.7777777777777778,\"#fb9f3a\"],[0.8888888888888888,\"#fdca26\"],[1.0,\"#f0f921\"]],\"type\":\"histogram2dcontour\"}],\"mesh3d\":[{\"colorbar\":{\"outlinewidth\":0,\"ticks\":\"\"},\"type\":\"mesh3d\"}],\"parcoords\":[{\"line\":{\"colorbar\":{\"outlinewidth\":0,\"ticks\":\"\"}},\"type\":\"parcoords\"}],\"pie\":[{\"automargin\":true,\"type\":\"pie\"}],\"scatter\":[{\"marker\":{\"colorbar\":{\"outlinewidth\":0,\"ticks\":\"\"}},\"type\":\"scatter\"}],\"scatter3d\":[{\"line\":{\"colorbar\":{\"outlinewidth\":0,\"ticks\":\"\"}},\"marker\":{\"colorbar\":{\"outlinewidth\":0,\"ticks\":\"\"}},\"type\":\"scatter3d\"}],\"scattercarpet\":[{\"marker\":{\"colorbar\":{\"outlinewidth\":0,\"ticks\":\"\"}},\"type\":\"scattercarpet\"}],\"scattergeo\":[{\"marker\":{\"colorbar\":{\"outlinewidth\":0,\"ticks\":\"\"}},\"type\":\"scattergeo\"}],\"scattergl\":[{\"marker\":{\"colorbar\":{\"outlinewidth\":0,\"ticks\":\"\"}},\"type\":\"scattergl\"}],\"scattermapbox\":[{\"marker\":{\"colorbar\":{\"outlinewidth\":0,\"ticks\":\"\"}},\"type\":\"scattermapbox\"}],\"scatterpolar\":[{\"marker\":{\"colorbar\":{\"outlinewidth\":0,\"ticks\":\"\"}},\"type\":\"scatterpolar\"}],\"scatterpolargl\":[{\"marker\":{\"colorbar\":{\"outlinewidth\":0,\"ticks\":\"\"}},\"type\":\"scatterpolargl\"}],\"scatterternary\":[{\"marker\":{\"colorbar\":{\"outlinewidth\":0,\"ticks\":\"\"}},\"type\":\"scatterternary\"}],\"surface\":[{\"colorbar\":{\"outlinewidth\":0,\"ticks\":\"\"},\"colorscale\":[[0.0,\"#0d0887\"],[0.1111111111111111,\"#46039f\"],[0.2222222222222222,\"#7201a8\"],[0.3333333333333333,\"#9c179e\"],[0.4444444444444444,\"#bd3786\"],[0.5555555555555556,\"#d8576b\"],[0.6666666666666666,\"#ed7953\"],[0.7777777777777778,\"#fb9f3a\"],[0.8888888888888888,\"#fdca26\"],[1.0,\"#f0f921\"]],\"type\":\"surface\"}],\"table\":[{\"cells\":{\"fill\":{\"color\":\"#EBF0F8\"},\"line\":{\"color\":\"white\"}},\"header\":{\"fill\":{\"color\":\"#C8D4E3\"},\"line\":{\"color\":\"white\"}},\"type\":\"table\"}]},\"layout\":{\"annotationdefaults\":{\"arrowcolor\":\"#2a3f5f\",\"arrowhead\":0,\"arrowwidth\":1},\"autotypenumbers\":\"strict\",\"coloraxis\":{\"colorbar\":{\"outlinewidth\":0,\"ticks\":\"\"}},\"colorscale\":{\"diverging\":[[0,\"#8e0152\"],[0.1,\"#c51b7d\"],[0.2,\"#de77ae\"],[0.3,\"#f1b6da\"],[0.4,\"#fde0ef\"],[0.5,\"#f7f7f7\"],[0.6,\"#e6f5d0\"],[0.7,\"#b8e186\"],[0.8,\"#7fbc41\"],[0.9,\"#4d9221\"],[1,\"#276419\"]],\"sequential\":[[0.0,\"#0d0887\"],[0.1111111111111111,\"#46039f\"],[0.2222222222222222,\"#7201a8\"],[0.3333333333333333,\"#9c179e\"],[0.4444444444444444,\"#bd3786\"],[0.5555555555555556,\"#d8576b\"],[0.6666666666666666,\"#ed7953\"],[0.7777777777777778,\"#fb9f3a\"],[0.8888888888888888,\"#fdca26\"],[1.0,\"#f0f921\"]],\"sequentialminus\":[[0.0,\"#0d0887\"],[0.1111111111111111,\"#46039f\"],[0.2222222222222222,\"#7201a8\"],[0.3333333333333333,\"#9c179e\"],[0.4444444444444444,\"#bd3786\"],[0.5555555555555556,\"#d8576b\"],[0.6666666666666666,\"#ed7953\"],[0.7777777777777778,\"#fb9f3a\"],[0.8888888888888888,\"#fdca26\"],[1.0,\"#f0f921\"]]},\"colorway\":[\"#636efa\",\"#EF553B\",\"#00cc96\",\"#ab63fa\",\"#FFA15A\",\"#19d3f3\",\"#FF6692\",\"#B6E880\",\"#FF97FF\",\"#FECB52\"],\"font\":{\"color\":\"#2a3f5f\"},\"geo\":{\"bgcolor\":\"white\",\"lakecolor\":\"white\",\"landcolor\":\"#E5ECF6\",\"showlakes\":true,\"showland\":true,\"subunitcolor\":\"white\"},\"hoverlabel\":{\"align\":\"left\"},\"hovermode\":\"closest\",\"mapbox\":{\"style\":\"light\"},\"paper_bgcolor\":\"white\",\"plot_bgcolor\":\"#E5ECF6\",\"polar\":{\"angularaxis\":{\"gridcolor\":\"white\",\"linecolor\":\"white\",\"ticks\":\"\"},\"bgcolor\":\"#E5ECF6\",\"radialaxis\":{\"gridcolor\":\"white\",\"linecolor\":\"white\",\"ticks\":\"\"}},\"scene\":{\"xaxis\":{\"backgroundcolor\":\"#E5ECF6\",\"gridcolor\":\"white\",\"gridwidth\":2,\"linecolor\":\"white\",\"showbackground\":true,\"ticks\":\"\",\"zerolinecolor\":\"white\"},\"yaxis\":{\"backgroundcolor\":\"#E5ECF6\",\"gridcolor\":\"white\",\"gridwidth\":2,\"linecolor\":\"white\",\"showbackground\":true,\"ticks\":\"\",\"zerolinecolor\":\"white\"},\"zaxis\":{\"backgroundcolor\":\"#E5ECF6\",\"gridcolor\":\"white\",\"gridwidth\":2,\"linecolor\":\"white\",\"showbackground\":true,\"ticks\":\"\",\"zerolinecolor\":\"white\"}},\"shapedefaults\":{\"line\":{\"color\":\"#2a3f5f\"}},\"ternary\":{\"aaxis\":{\"gridcolor\":\"white\",\"linecolor\":\"white\",\"ticks\":\"\"},\"baxis\":{\"gridcolor\":\"white\",\"linecolor\":\"white\",\"ticks\":\"\"},\"bgcolor\":\"#E5ECF6\",\"caxis\":{\"gridcolor\":\"white\",\"linecolor\":\"white\",\"ticks\":\"\"}},\"title\":{\"x\":0.05},\"xaxis\":{\"automargin\":true,\"gridcolor\":\"white\",\"linecolor\":\"white\",\"ticks\":\"\",\"title\":{\"standoff\":15},\"zerolinecolor\":\"white\",\"zerolinewidth\":2},\"yaxis\":{\"automargin\":true,\"gridcolor\":\"white\",\"linecolor\":\"white\",\"ticks\":\"\",\"title\":{\"standoff\":15},\"zerolinecolor\":\"white\",\"zerolinewidth\":2}}},\"title\":{\"text\":\"Daily Steps vs Systolic BP\"},\"xaxis\":{\"anchor\":\"y\",\"domain\":[0.0,1.0],\"title\":{\"text\":\"Daily Steps\"}},\"yaxis\":{\"anchor\":\"x\",\"domain\":[0.0,1.0],\"title\":{\"text\":\"Systolic BP\"}}},                        {\"responsive\": true}                    ).then(function(){\n",
       "                            \n",
       "var gd = document.getElementById('26f009f5-1c31-4099-9bcc-8688af0dee8f');\n",
       "var x = new MutationObserver(function (mutations, observer) {{\n",
       "        var display = window.getComputedStyle(gd).display;\n",
       "        if (!display || display === 'none') {{\n",
       "            console.log([gd, 'removed!']);\n",
       "            Plotly.purge(gd);\n",
       "            observer.disconnect();\n",
       "        }}\n",
       "}});\n",
       "\n",
       "// Listen for the removal of the full notebook cells\n",
       "var notebookContainer = gd.closest('#notebook-container');\n",
       "if (notebookContainer) {{\n",
       "    x.observe(notebookContainer, {childList: true});\n",
       "}}\n",
       "\n",
       "// Listen for the clearing of the current output cell\n",
       "var outputEl = gd.closest('.output');\n",
       "if (outputEl) {{\n",
       "    x.observe(outputEl, {childList: true});\n",
       "}}\n",
       "\n",
       "                        })                };                });            </script>        </div>"
      ]
     },
     "metadata": {},
     "output_type": "display_data"
    },
    {
     "data": {
      "application/vnd.plotly.v1+json": {
       "config": {
        "linkText": "Export to plot.ly",
        "plotlyServerURL": "https://plot.ly",
        "showLink": false
       },
       "data": [
        {
         "hovertemplate": "Daily Steps=%{x}<br>Diastolic BP=%{y}<extra></extra>",
         "legendgroup": "",
         "marker": {
          "color": "#636efa",
          "symbol": "circle"
         },
         "mode": "markers",
         "name": "",
         "orientation": "v",
         "showlegend": false,
         "type": "scatter",
         "x": [
          4200,
          10000,
          10000,
          3000,
          3000,
          3000,
          3500,
          8000,
          8000,
          8000,
          8000,
          8000,
          8000,
          8000,
          8000,
          8000,
          4000,
          8000,
          4000,
          8000,
          8000,
          8000,
          8000,
          8000,
          8000,
          8000,
          8000,
          8000,
          8000,
          8000,
          4100,
          4100,
          6800,
          5000,
          8000,
          5000,
          5000,
          8000,
          8000,
          8000,
          8000,
          8000,
          8000,
          8000,
          8000,
          8000,
          8000,
          8000,
          8000,
          8000,
          8000,
          8000,
          5000,
          8000,
          5000,
          5000,
          8000,
          5000,
          5000,
          8000,
          5000,
          5000,
          5000,
          5000,
          5000,
          5000,
          7000,
          5000,
          5500,
          5500,
          5000,
          5000,
          5000,
          5000,
          5000,
          5000,
          5000,
          5000,
          5000,
          5000,
          5200,
          5200,
          5600,
          5600,
          8000,
          7000,
          5000,
          5000,
          5000,
          5000,
          5000,
          5000,
          8000,
          3300,
          7000,
          7000,
          7000,
          7000,
          7000,
          7000,
          7000,
          7000,
          7000,
          4800,
          7000,
          4800,
          4200,
          7000,
          7000,
          8000,
          7000,
          8000,
          7000,
          8000,
          7000,
          7000,
          7000,
          7000,
          7000,
          7000,
          7000,
          7000,
          7000,
          7000,
          7000,
          8000,
          8000,
          7000,
          8000,
          8000,
          7000,
          8000,
          8000,
          7000,
          8000,
          8000,
          7000,
          8000,
          7000,
          8000,
          7000,
          8000,
          7000,
          7000,
          8000,
          3300,
          8000,
          4000,
          5500,
          7500,
          7500,
          8000,
          8000,
          8000,
          8000,
          8000,
          8000,
          8000,
          8000,
          8000,
          8000,
          7300,
          7300,
          8000,
          8000,
          8000,
          6200,
          6000,
          6000,
          8000,
          8000,
          8000,
          8000,
          8000,
          8000,
          8000,
          8000,
          6000,
          8000,
          8000,
          8000,
          8000,
          8000,
          8000,
          5000,
          5000,
          6000,
          6000,
          6000,
          6000,
          6000,
          6000,
          6000,
          6000,
          6000,
          6000,
          6000,
          6000,
          6000,
          6000,
          6000,
          8000,
          8000,
          6800,
          6800,
          8000,
          8000,
          8000,
          8000,
          8000,
          8000,
          8000,
          8000,
          8000,
          8000,
          8000,
          8000,
          8000,
          8000,
          6000,
          6000,
          6000,
          6000,
          6000,
          6000,
          6000,
          6000,
          6000,
          6000,
          6000,
          6000,
          6000,
          6000,
          6000,
          6000,
          6000,
          6000,
          6000,
          6000,
          6000,
          6000,
          6000,
          6000,
          6000,
          6000,
          6000,
          6000,
          5000,
          6000,
          6000,
          6000,
          6000,
          6000,
          6000,
          6000,
          6000,
          6000,
          6000,
          6000,
          6000,
          6000,
          6000,
          6000,
          5500,
          3500,
          10000,
          3500,
          10000,
          10000,
          10000,
          10000,
          10000,
          10000,
          10000,
          10000,
          10000,
          3700,
          3700,
          10000,
          5000,
          10000,
          10000,
          10000,
          10000,
          10000,
          10000,
          10000,
          10000,
          10000,
          10000,
          10000,
          10000,
          10000,
          10000,
          10000,
          10000,
          10000,
          10000,
          5000,
          5000,
          5000,
          5000,
          6000,
          10000,
          10000,
          10000,
          6000,
          6000,
          6000,
          6000,
          6000,
          6000,
          5000,
          5000,
          5000,
          5000,
          5000,
          5000,
          5000,
          5000,
          5000,
          5000,
          5000,
          5000,
          5000,
          5000,
          5000,
          5000,
          5000,
          5000,
          5000,
          5000,
          5000,
          5000,
          5000,
          5000,
          5000,
          5000,
          5000,
          5000,
          5000,
          10000,
          10000,
          7000,
          7000,
          7000,
          7000,
          7000,
          7000,
          7000,
          7000,
          7000,
          7000,
          7000,
          7000,
          7000,
          7000,
          7000,
          7000,
          7000,
          7000,
          7000,
          7000,
          7000,
          7000,
          7000,
          7000,
          7000,
          7000,
          7000,
          7000,
          7000,
          7000,
          7000
         ],
         "xaxis": "x",
         "y": [
          83,
          80,
          80,
          90,
          90,
          90,
          90,
          80,
          80,
          80,
          80,
          80,
          80,
          80,
          80,
          80,
          87,
          80,
          87,
          80,
          80,
          80,
          80,
          80,
          80,
          80,
          80,
          80,
          80,
          80,
          86,
          86,
          76,
          80,
          80,
          80,
          80,
          80,
          80,
          80,
          80,
          80,
          80,
          80,
          80,
          80,
          80,
          80,
          80,
          80,
          80,
          80,
          80,
          80,
          80,
          80,
          80,
          80,
          80,
          80,
          80,
          80,
          80,
          80,
          80,
          80,
          76,
          80,
          85,
          85,
          80,
          80,
          80,
          80,
          80,
          80,
          80,
          80,
          80,
          80,
          86,
          86,
          84,
          84,
          80,
          75,
          80,
          80,
          80,
          80,
          80,
          80,
          80,
          88,
          75,
          75,
          75,
          75,
          75,
          75,
          75,
          75,
          75,
          84,
          75,
          84,
          83,
          80,
          80,
          85,
          75,
          85,
          75,
          85,
          75,
          75,
          75,
          75,
          75,
          75,
          75,
          75,
          75,
          75,
          75,
          80,
          85,
          75,
          85,
          85,
          75,
          85,
          85,
          75,
          85,
          85,
          75,
          85,
          75,
          85,
          75,
          85,
          75,
          75,
          85,
          88,
          85,
          87,
          85,
          78,
          78,
          85,
          85,
          85,
          85,
          85,
          85,
          85,
          85,
          85,
          85,
          77,
          77,
          85,
          85,
          85,
          79,
          82,
          82,
          85,
          85,
          85,
          85,
          85,
          85,
          85,
          85,
          85,
          85,
          85,
          85,
          85,
          85,
          85,
          85,
          85,
          90,
          85,
          90,
          85,
          90,
          85,
          85,
          85,
          85,
          85,
          85,
          85,
          85,
          85,
          85,
          85,
          85,
          76,
          80,
          85,
          85,
          85,
          85,
          85,
          85,
          85,
          85,
          85,
          85,
          85,
          85,
          85,
          85,
          85,
          90,
          85,
          85,
          85,
          90,
          85,
          90,
          85,
          90,
          85,
          90,
          85,
          90,
          85,
          90,
          85,
          85,
          90,
          85,
          85,
          90,
          85,
          85,
          90,
          85,
          90,
          85,
          85,
          85,
          85,
          90,
          90,
          90,
          90,
          90,
          90,
          90,
          90,
          90,
          90,
          90,
          90,
          90,
          82,
          92,
          95,
          92,
          95,
          95,
          95,
          95,
          95,
          95,
          95,
          95,
          95,
          91,
          91,
          95,
          80,
          95,
          95,
          95,
          95,
          95,
          95,
          95,
          95,
          95,
          95,
          95,
          95,
          95,
          95,
          95,
          95,
          95,
          95,
          80,
          80,
          80,
          80,
          82,
          95,
          95,
          95,
          85,
          85,
          85,
          85,
          85,
          85,
          80,
          80,
          80,
          80,
          80,
          80,
          80,
          80,
          80,
          80,
          80,
          80,
          80,
          80,
          80,
          80,
          80,
          80,
          80,
          80,
          80,
          80,
          80,
          80,
          80,
          80,
          80,
          95,
          95,
          75,
          75,
          95,
          95,
          95,
          95,
          95,
          95,
          95,
          95,
          95,
          95,
          95,
          95,
          95,
          95,
          95,
          95,
          95,
          95,
          95,
          95,
          95,
          95,
          95,
          95,
          95,
          95,
          95,
          95,
          95,
          95,
          95
         ],
         "yaxis": "y"
        },
        {
         "hovertemplate": "<b>OLS trendline</b><br>Diastolic BP = 0.000921571 * Daily Steps + 78.3675<br>R<sup>2</sup>=0.058557<br><br>Daily Steps=%{x}<br>Diastolic BP=%{y} <b>(trend)</b><extra></extra>",
         "legendgroup": "",
         "marker": {
          "color": "#636efa",
          "symbol": "circle"
         },
         "mode": "lines",
         "name": "",
         "showlegend": false,
         "type": "scatter",
         "x": [
          3000,
          3000,
          3000,
          3300,
          3300,
          3500,
          3500,
          3500,
          3700,
          3700,
          4000,
          4000,
          4000,
          4100,
          4100,
          4200,
          4200,
          4800,
          4800,
          5000,
          5000,
          5000,
          5000,
          5000,
          5000,
          5000,
          5000,
          5000,
          5000,
          5000,
          5000,
          5000,
          5000,
          5000,
          5000,
          5000,
          5000,
          5000,
          5000,
          5000,
          5000,
          5000,
          5000,
          5000,
          5000,
          5000,
          5000,
          5000,
          5000,
          5000,
          5000,
          5000,
          5000,
          5000,
          5000,
          5000,
          5000,
          5000,
          5000,
          5000,
          5000,
          5000,
          5000,
          5000,
          5000,
          5000,
          5000,
          5000,
          5000,
          5000,
          5000,
          5000,
          5000,
          5000,
          5000,
          5000,
          5000,
          5000,
          5000,
          5000,
          5000,
          5000,
          5000,
          5000,
          5000,
          5000,
          5000,
          5200,
          5200,
          5500,
          5500,
          5500,
          5500,
          5600,
          5600,
          6000,
          6000,
          6000,
          6000,
          6000,
          6000,
          6000,
          6000,
          6000,
          6000,
          6000,
          6000,
          6000,
          6000,
          6000,
          6000,
          6000,
          6000,
          6000,
          6000,
          6000,
          6000,
          6000,
          6000,
          6000,
          6000,
          6000,
          6000,
          6000,
          6000,
          6000,
          6000,
          6000,
          6000,
          6000,
          6000,
          6000,
          6000,
          6000,
          6000,
          6000,
          6000,
          6000,
          6000,
          6000,
          6000,
          6000,
          6000,
          6000,
          6000,
          6000,
          6000,
          6000,
          6000,
          6000,
          6000,
          6000,
          6000,
          6000,
          6000,
          6000,
          6000,
          6000,
          6000,
          6000,
          6000,
          6000,
          6000,
          6200,
          6800,
          6800,
          6800,
          7000,
          7000,
          7000,
          7000,
          7000,
          7000,
          7000,
          7000,
          7000,
          7000,
          7000,
          7000,
          7000,
          7000,
          7000,
          7000,
          7000,
          7000,
          7000,
          7000,
          7000,
          7000,
          7000,
          7000,
          7000,
          7000,
          7000,
          7000,
          7000,
          7000,
          7000,
          7000,
          7000,
          7000,
          7000,
          7000,
          7000,
          7000,
          7000,
          7000,
          7000,
          7000,
          7000,
          7000,
          7000,
          7000,
          7000,
          7000,
          7000,
          7000,
          7000,
          7000,
          7000,
          7000,
          7000,
          7000,
          7000,
          7000,
          7000,
          7000,
          7000,
          7000,
          7000,
          7000,
          7000,
          7000,
          7300,
          7300,
          7500,
          7500,
          8000,
          8000,
          8000,
          8000,
          8000,
          8000,
          8000,
          8000,
          8000,
          8000,
          8000,
          8000,
          8000,
          8000,
          8000,
          8000,
          8000,
          8000,
          8000,
          8000,
          8000,
          8000,
          8000,
          8000,
          8000,
          8000,
          8000,
          8000,
          8000,
          8000,
          8000,
          8000,
          8000,
          8000,
          8000,
          8000,
          8000,
          8000,
          8000,
          8000,
          8000,
          8000,
          8000,
          8000,
          8000,
          8000,
          8000,
          8000,
          8000,
          8000,
          8000,
          8000,
          8000,
          8000,
          8000,
          8000,
          8000,
          8000,
          8000,
          8000,
          8000,
          8000,
          8000,
          8000,
          8000,
          8000,
          8000,
          8000,
          8000,
          8000,
          8000,
          8000,
          8000,
          8000,
          8000,
          8000,
          8000,
          8000,
          8000,
          8000,
          8000,
          8000,
          8000,
          8000,
          8000,
          8000,
          8000,
          8000,
          8000,
          8000,
          8000,
          8000,
          8000,
          8000,
          8000,
          8000,
          8000,
          8000,
          8000,
          8000,
          8000,
          10000,
          10000,
          10000,
          10000,
          10000,
          10000,
          10000,
          10000,
          10000,
          10000,
          10000,
          10000,
          10000,
          10000,
          10000,
          10000,
          10000,
          10000,
          10000,
          10000,
          10000,
          10000,
          10000,
          10000,
          10000,
          10000,
          10000,
          10000,
          10000,
          10000,
          10000,
          10000,
          10000,
          10000,
          10000,
          10000
         ],
         "xaxis": "x",
         "y": [
          81.1322405217966,
          81.1322405217966,
          81.1322405217966,
          81.4087117046018,
          81.4087117046018,
          81.59302582647194,
          81.59302582647194,
          81.59302582647194,
          81.77733994834207,
          81.77733994834207,
          82.05381113114727,
          82.05381113114727,
          82.05381113114727,
          82.14596819208235,
          82.14596819208235,
          82.23812525301742,
          82.23812525301742,
          82.7910676186278,
          82.7910676186278,
          82.97538174049795,
          82.97538174049795,
          82.97538174049795,
          82.97538174049795,
          82.97538174049795,
          82.97538174049795,
          82.97538174049795,
          82.97538174049795,
          82.97538174049795,
          82.97538174049795,
          82.97538174049795,
          82.97538174049795,
          82.97538174049795,
          82.97538174049795,
          82.97538174049795,
          82.97538174049795,
          82.97538174049795,
          82.97538174049795,
          82.97538174049795,
          82.97538174049795,
          82.97538174049795,
          82.97538174049795,
          82.97538174049795,
          82.97538174049795,
          82.97538174049795,
          82.97538174049795,
          82.97538174049795,
          82.97538174049795,
          82.97538174049795,
          82.97538174049795,
          82.97538174049795,
          82.97538174049795,
          82.97538174049795,
          82.97538174049795,
          82.97538174049795,
          82.97538174049795,
          82.97538174049795,
          82.97538174049795,
          82.97538174049795,
          82.97538174049795,
          82.97538174049795,
          82.97538174049795,
          82.97538174049795,
          82.97538174049795,
          82.97538174049795,
          82.97538174049795,
          82.97538174049795,
          82.97538174049795,
          82.97538174049795,
          82.97538174049795,
          82.97538174049795,
          82.97538174049795,
          82.97538174049795,
          82.97538174049795,
          82.97538174049795,
          82.97538174049795,
          82.97538174049795,
          82.97538174049795,
          82.97538174049795,
          82.97538174049795,
          82.97538174049795,
          82.97538174049795,
          82.97538174049795,
          82.97538174049795,
          82.97538174049795,
          82.97538174049795,
          82.97538174049795,
          82.97538174049795,
          83.15969586236808,
          83.15969586236808,
          83.43616704517328,
          83.43616704517328,
          83.43616704517328,
          83.43616704517328,
          83.52832410610836,
          83.52832410610836,
          83.89695234984862,
          83.89695234984862,
          83.89695234984862,
          83.89695234984862,
          83.89695234984862,
          83.89695234984862,
          83.89695234984862,
          83.89695234984862,
          83.89695234984862,
          83.89695234984862,
          83.89695234984862,
          83.89695234984862,
          83.89695234984862,
          83.89695234984862,
          83.89695234984862,
          83.89695234984862,
          83.89695234984862,
          83.89695234984862,
          83.89695234984862,
          83.89695234984862,
          83.89695234984862,
          83.89695234984862,
          83.89695234984862,
          83.89695234984862,
          83.89695234984862,
          83.89695234984862,
          83.89695234984862,
          83.89695234984862,
          83.89695234984862,
          83.89695234984862,
          83.89695234984862,
          83.89695234984862,
          83.89695234984862,
          83.89695234984862,
          83.89695234984862,
          83.89695234984862,
          83.89695234984862,
          83.89695234984862,
          83.89695234984862,
          83.89695234984862,
          83.89695234984862,
          83.89695234984862,
          83.89695234984862,
          83.89695234984862,
          83.89695234984862,
          83.89695234984862,
          83.89695234984862,
          83.89695234984862,
          83.89695234984862,
          83.89695234984862,
          83.89695234984862,
          83.89695234984862,
          83.89695234984862,
          83.89695234984862,
          83.89695234984862,
          83.89695234984862,
          83.89695234984862,
          83.89695234984862,
          83.89695234984862,
          83.89695234984862,
          83.89695234984862,
          83.89695234984862,
          83.89695234984862,
          83.89695234984862,
          83.89695234984862,
          83.89695234984862,
          83.89695234984862,
          83.89695234984862,
          84.08126647171875,
          84.63420883732915,
          84.63420883732915,
          84.63420883732915,
          84.81852295919929,
          84.81852295919929,
          84.81852295919929,
          84.81852295919929,
          84.81852295919929,
          84.81852295919929,
          84.81852295919929,
          84.81852295919929,
          84.81852295919929,
          84.81852295919929,
          84.81852295919929,
          84.81852295919929,
          84.81852295919929,
          84.81852295919929,
          84.81852295919929,
          84.81852295919929,
          84.81852295919929,
          84.81852295919929,
          84.81852295919929,
          84.81852295919929,
          84.81852295919929,
          84.81852295919929,
          84.81852295919929,
          84.81852295919929,
          84.81852295919929,
          84.81852295919929,
          84.81852295919929,
          84.81852295919929,
          84.81852295919929,
          84.81852295919929,
          84.81852295919929,
          84.81852295919929,
          84.81852295919929,
          84.81852295919929,
          84.81852295919929,
          84.81852295919929,
          84.81852295919929,
          84.81852295919929,
          84.81852295919929,
          84.81852295919929,
          84.81852295919929,
          84.81852295919929,
          84.81852295919929,
          84.81852295919929,
          84.81852295919929,
          84.81852295919929,
          84.81852295919929,
          84.81852295919929,
          84.81852295919929,
          84.81852295919929,
          84.81852295919929,
          84.81852295919929,
          84.81852295919929,
          84.81852295919929,
          84.81852295919929,
          84.81852295919929,
          84.81852295919929,
          84.81852295919929,
          84.81852295919929,
          84.81852295919929,
          84.81852295919929,
          84.81852295919929,
          84.81852295919929,
          84.81852295919929,
          84.81852295919929,
          84.81852295919929,
          85.0949941420045,
          85.0949941420045,
          85.27930826387463,
          85.27930826387463,
          85.74009356854997,
          85.74009356854997,
          85.74009356854997,
          85.74009356854997,
          85.74009356854997,
          85.74009356854997,
          85.74009356854997,
          85.74009356854997,
          85.74009356854997,
          85.74009356854997,
          85.74009356854997,
          85.74009356854997,
          85.74009356854997,
          85.74009356854997,
          85.74009356854997,
          85.74009356854997,
          85.74009356854997,
          85.74009356854997,
          85.74009356854997,
          85.74009356854997,
          85.74009356854997,
          85.74009356854997,
          85.74009356854997,
          85.74009356854997,
          85.74009356854997,
          85.74009356854997,
          85.74009356854997,
          85.74009356854997,
          85.74009356854997,
          85.74009356854997,
          85.74009356854997,
          85.74009356854997,
          85.74009356854997,
          85.74009356854997,
          85.74009356854997,
          85.74009356854997,
          85.74009356854997,
          85.74009356854997,
          85.74009356854997,
          85.74009356854997,
          85.74009356854997,
          85.74009356854997,
          85.74009356854997,
          85.74009356854997,
          85.74009356854997,
          85.74009356854997,
          85.74009356854997,
          85.74009356854997,
          85.74009356854997,
          85.74009356854997,
          85.74009356854997,
          85.74009356854997,
          85.74009356854997,
          85.74009356854997,
          85.74009356854997,
          85.74009356854997,
          85.74009356854997,
          85.74009356854997,
          85.74009356854997,
          85.74009356854997,
          85.74009356854997,
          85.74009356854997,
          85.74009356854997,
          85.74009356854997,
          85.74009356854997,
          85.74009356854997,
          85.74009356854997,
          85.74009356854997,
          85.74009356854997,
          85.74009356854997,
          85.74009356854997,
          85.74009356854997,
          85.74009356854997,
          85.74009356854997,
          85.74009356854997,
          85.74009356854997,
          85.74009356854997,
          85.74009356854997,
          85.74009356854997,
          85.74009356854997,
          85.74009356854997,
          85.74009356854997,
          85.74009356854997,
          85.74009356854997,
          85.74009356854997,
          85.74009356854997,
          85.74009356854997,
          85.74009356854997,
          85.74009356854997,
          85.74009356854997,
          85.74009356854997,
          85.74009356854997,
          85.74009356854997,
          85.74009356854997,
          85.74009356854997,
          85.74009356854997,
          85.74009356854997,
          85.74009356854997,
          85.74009356854997,
          85.74009356854997,
          85.74009356854997,
          87.58323478725131,
          87.58323478725131,
          87.58323478725131,
          87.58323478725131,
          87.58323478725131,
          87.58323478725131,
          87.58323478725131,
          87.58323478725131,
          87.58323478725131,
          87.58323478725131,
          87.58323478725131,
          87.58323478725131,
          87.58323478725131,
          87.58323478725131,
          87.58323478725131,
          87.58323478725131,
          87.58323478725131,
          87.58323478725131,
          87.58323478725131,
          87.58323478725131,
          87.58323478725131,
          87.58323478725131,
          87.58323478725131,
          87.58323478725131,
          87.58323478725131,
          87.58323478725131,
          87.58323478725131,
          87.58323478725131,
          87.58323478725131,
          87.58323478725131,
          87.58323478725131,
          87.58323478725131,
          87.58323478725131,
          87.58323478725131,
          87.58323478725131,
          87.58323478725131
         ],
         "yaxis": "y"
        }
       ],
       "layout": {
        "legend": {
         "tracegroupgap": 0
        },
        "template": {
         "data": {
          "bar": [
           {
            "error_x": {
             "color": "#2a3f5f"
            },
            "error_y": {
             "color": "#2a3f5f"
            },
            "marker": {
             "line": {
              "color": "#E5ECF6",
              "width": 0.5
             },
             "pattern": {
              "fillmode": "overlay",
              "size": 10,
              "solidity": 0.2
             }
            },
            "type": "bar"
           }
          ],
          "barpolar": [
           {
            "marker": {
             "line": {
              "color": "#E5ECF6",
              "width": 0.5
             },
             "pattern": {
              "fillmode": "overlay",
              "size": 10,
              "solidity": 0.2
             }
            },
            "type": "barpolar"
           }
          ],
          "carpet": [
           {
            "aaxis": {
             "endlinecolor": "#2a3f5f",
             "gridcolor": "white",
             "linecolor": "white",
             "minorgridcolor": "white",
             "startlinecolor": "#2a3f5f"
            },
            "baxis": {
             "endlinecolor": "#2a3f5f",
             "gridcolor": "white",
             "linecolor": "white",
             "minorgridcolor": "white",
             "startlinecolor": "#2a3f5f"
            },
            "type": "carpet"
           }
          ],
          "choropleth": [
           {
            "colorbar": {
             "outlinewidth": 0,
             "ticks": ""
            },
            "type": "choropleth"
           }
          ],
          "contour": [
           {
            "colorbar": {
             "outlinewidth": 0,
             "ticks": ""
            },
            "colorscale": [
             [
              0,
              "#0d0887"
             ],
             [
              0.1111111111111111,
              "#46039f"
             ],
             [
              0.2222222222222222,
              "#7201a8"
             ],
             [
              0.3333333333333333,
              "#9c179e"
             ],
             [
              0.4444444444444444,
              "#bd3786"
             ],
             [
              0.5555555555555556,
              "#d8576b"
             ],
             [
              0.6666666666666666,
              "#ed7953"
             ],
             [
              0.7777777777777778,
              "#fb9f3a"
             ],
             [
              0.8888888888888888,
              "#fdca26"
             ],
             [
              1,
              "#f0f921"
             ]
            ],
            "type": "contour"
           }
          ],
          "contourcarpet": [
           {
            "colorbar": {
             "outlinewidth": 0,
             "ticks": ""
            },
            "type": "contourcarpet"
           }
          ],
          "heatmap": [
           {
            "colorbar": {
             "outlinewidth": 0,
             "ticks": ""
            },
            "colorscale": [
             [
              0,
              "#0d0887"
             ],
             [
              0.1111111111111111,
              "#46039f"
             ],
             [
              0.2222222222222222,
              "#7201a8"
             ],
             [
              0.3333333333333333,
              "#9c179e"
             ],
             [
              0.4444444444444444,
              "#bd3786"
             ],
             [
              0.5555555555555556,
              "#d8576b"
             ],
             [
              0.6666666666666666,
              "#ed7953"
             ],
             [
              0.7777777777777778,
              "#fb9f3a"
             ],
             [
              0.8888888888888888,
              "#fdca26"
             ],
             [
              1,
              "#f0f921"
             ]
            ],
            "type": "heatmap"
           }
          ],
          "heatmapgl": [
           {
            "colorbar": {
             "outlinewidth": 0,
             "ticks": ""
            },
            "colorscale": [
             [
              0,
              "#0d0887"
             ],
             [
              0.1111111111111111,
              "#46039f"
             ],
             [
              0.2222222222222222,
              "#7201a8"
             ],
             [
              0.3333333333333333,
              "#9c179e"
             ],
             [
              0.4444444444444444,
              "#bd3786"
             ],
             [
              0.5555555555555556,
              "#d8576b"
             ],
             [
              0.6666666666666666,
              "#ed7953"
             ],
             [
              0.7777777777777778,
              "#fb9f3a"
             ],
             [
              0.8888888888888888,
              "#fdca26"
             ],
             [
              1,
              "#f0f921"
             ]
            ],
            "type": "heatmapgl"
           }
          ],
          "histogram": [
           {
            "marker": {
             "pattern": {
              "fillmode": "overlay",
              "size": 10,
              "solidity": 0.2
             }
            },
            "type": "histogram"
           }
          ],
          "histogram2d": [
           {
            "colorbar": {
             "outlinewidth": 0,
             "ticks": ""
            },
            "colorscale": [
             [
              0,
              "#0d0887"
             ],
             [
              0.1111111111111111,
              "#46039f"
             ],
             [
              0.2222222222222222,
              "#7201a8"
             ],
             [
              0.3333333333333333,
              "#9c179e"
             ],
             [
              0.4444444444444444,
              "#bd3786"
             ],
             [
              0.5555555555555556,
              "#d8576b"
             ],
             [
              0.6666666666666666,
              "#ed7953"
             ],
             [
              0.7777777777777778,
              "#fb9f3a"
             ],
             [
              0.8888888888888888,
              "#fdca26"
             ],
             [
              1,
              "#f0f921"
             ]
            ],
            "type": "histogram2d"
           }
          ],
          "histogram2dcontour": [
           {
            "colorbar": {
             "outlinewidth": 0,
             "ticks": ""
            },
            "colorscale": [
             [
              0,
              "#0d0887"
             ],
             [
              0.1111111111111111,
              "#46039f"
             ],
             [
              0.2222222222222222,
              "#7201a8"
             ],
             [
              0.3333333333333333,
              "#9c179e"
             ],
             [
              0.4444444444444444,
              "#bd3786"
             ],
             [
              0.5555555555555556,
              "#d8576b"
             ],
             [
              0.6666666666666666,
              "#ed7953"
             ],
             [
              0.7777777777777778,
              "#fb9f3a"
             ],
             [
              0.8888888888888888,
              "#fdca26"
             ],
             [
              1,
              "#f0f921"
             ]
            ],
            "type": "histogram2dcontour"
           }
          ],
          "mesh3d": [
           {
            "colorbar": {
             "outlinewidth": 0,
             "ticks": ""
            },
            "type": "mesh3d"
           }
          ],
          "parcoords": [
           {
            "line": {
             "colorbar": {
              "outlinewidth": 0,
              "ticks": ""
             }
            },
            "type": "parcoords"
           }
          ],
          "pie": [
           {
            "automargin": true,
            "type": "pie"
           }
          ],
          "scatter": [
           {
            "marker": {
             "colorbar": {
              "outlinewidth": 0,
              "ticks": ""
             }
            },
            "type": "scatter"
           }
          ],
          "scatter3d": [
           {
            "line": {
             "colorbar": {
              "outlinewidth": 0,
              "ticks": ""
             }
            },
            "marker": {
             "colorbar": {
              "outlinewidth": 0,
              "ticks": ""
             }
            },
            "type": "scatter3d"
           }
          ],
          "scattercarpet": [
           {
            "marker": {
             "colorbar": {
              "outlinewidth": 0,
              "ticks": ""
             }
            },
            "type": "scattercarpet"
           }
          ],
          "scattergeo": [
           {
            "marker": {
             "colorbar": {
              "outlinewidth": 0,
              "ticks": ""
             }
            },
            "type": "scattergeo"
           }
          ],
          "scattergl": [
           {
            "marker": {
             "colorbar": {
              "outlinewidth": 0,
              "ticks": ""
             }
            },
            "type": "scattergl"
           }
          ],
          "scattermapbox": [
           {
            "marker": {
             "colorbar": {
              "outlinewidth": 0,
              "ticks": ""
             }
            },
            "type": "scattermapbox"
           }
          ],
          "scatterpolar": [
           {
            "marker": {
             "colorbar": {
              "outlinewidth": 0,
              "ticks": ""
             }
            },
            "type": "scatterpolar"
           }
          ],
          "scatterpolargl": [
           {
            "marker": {
             "colorbar": {
              "outlinewidth": 0,
              "ticks": ""
             }
            },
            "type": "scatterpolargl"
           }
          ],
          "scatterternary": [
           {
            "marker": {
             "colorbar": {
              "outlinewidth": 0,
              "ticks": ""
             }
            },
            "type": "scatterternary"
           }
          ],
          "surface": [
           {
            "colorbar": {
             "outlinewidth": 0,
             "ticks": ""
            },
            "colorscale": [
             [
              0,
              "#0d0887"
             ],
             [
              0.1111111111111111,
              "#46039f"
             ],
             [
              0.2222222222222222,
              "#7201a8"
             ],
             [
              0.3333333333333333,
              "#9c179e"
             ],
             [
              0.4444444444444444,
              "#bd3786"
             ],
             [
              0.5555555555555556,
              "#d8576b"
             ],
             [
              0.6666666666666666,
              "#ed7953"
             ],
             [
              0.7777777777777778,
              "#fb9f3a"
             ],
             [
              0.8888888888888888,
              "#fdca26"
             ],
             [
              1,
              "#f0f921"
             ]
            ],
            "type": "surface"
           }
          ],
          "table": [
           {
            "cells": {
             "fill": {
              "color": "#EBF0F8"
             },
             "line": {
              "color": "white"
             }
            },
            "header": {
             "fill": {
              "color": "#C8D4E3"
             },
             "line": {
              "color": "white"
             }
            },
            "type": "table"
           }
          ]
         },
         "layout": {
          "annotationdefaults": {
           "arrowcolor": "#2a3f5f",
           "arrowhead": 0,
           "arrowwidth": 1
          },
          "autotypenumbers": "strict",
          "coloraxis": {
           "colorbar": {
            "outlinewidth": 0,
            "ticks": ""
           }
          },
          "colorscale": {
           "diverging": [
            [
             0,
             "#8e0152"
            ],
            [
             0.1,
             "#c51b7d"
            ],
            [
             0.2,
             "#de77ae"
            ],
            [
             0.3,
             "#f1b6da"
            ],
            [
             0.4,
             "#fde0ef"
            ],
            [
             0.5,
             "#f7f7f7"
            ],
            [
             0.6,
             "#e6f5d0"
            ],
            [
             0.7,
             "#b8e186"
            ],
            [
             0.8,
             "#7fbc41"
            ],
            [
             0.9,
             "#4d9221"
            ],
            [
             1,
             "#276419"
            ]
           ],
           "sequential": [
            [
             0,
             "#0d0887"
            ],
            [
             0.1111111111111111,
             "#46039f"
            ],
            [
             0.2222222222222222,
             "#7201a8"
            ],
            [
             0.3333333333333333,
             "#9c179e"
            ],
            [
             0.4444444444444444,
             "#bd3786"
            ],
            [
             0.5555555555555556,
             "#d8576b"
            ],
            [
             0.6666666666666666,
             "#ed7953"
            ],
            [
             0.7777777777777778,
             "#fb9f3a"
            ],
            [
             0.8888888888888888,
             "#fdca26"
            ],
            [
             1,
             "#f0f921"
            ]
           ],
           "sequentialminus": [
            [
             0,
             "#0d0887"
            ],
            [
             0.1111111111111111,
             "#46039f"
            ],
            [
             0.2222222222222222,
             "#7201a8"
            ],
            [
             0.3333333333333333,
             "#9c179e"
            ],
            [
             0.4444444444444444,
             "#bd3786"
            ],
            [
             0.5555555555555556,
             "#d8576b"
            ],
            [
             0.6666666666666666,
             "#ed7953"
            ],
            [
             0.7777777777777778,
             "#fb9f3a"
            ],
            [
             0.8888888888888888,
             "#fdca26"
            ],
            [
             1,
             "#f0f921"
            ]
           ]
          },
          "colorway": [
           "#636efa",
           "#EF553B",
           "#00cc96",
           "#ab63fa",
           "#FFA15A",
           "#19d3f3",
           "#FF6692",
           "#B6E880",
           "#FF97FF",
           "#FECB52"
          ],
          "font": {
           "color": "#2a3f5f"
          },
          "geo": {
           "bgcolor": "white",
           "lakecolor": "white",
           "landcolor": "#E5ECF6",
           "showlakes": true,
           "showland": true,
           "subunitcolor": "white"
          },
          "hoverlabel": {
           "align": "left"
          },
          "hovermode": "closest",
          "mapbox": {
           "style": "light"
          },
          "paper_bgcolor": "white",
          "plot_bgcolor": "#E5ECF6",
          "polar": {
           "angularaxis": {
            "gridcolor": "white",
            "linecolor": "white",
            "ticks": ""
           },
           "bgcolor": "#E5ECF6",
           "radialaxis": {
            "gridcolor": "white",
            "linecolor": "white",
            "ticks": ""
           }
          },
          "scene": {
           "xaxis": {
            "backgroundcolor": "#E5ECF6",
            "gridcolor": "white",
            "gridwidth": 2,
            "linecolor": "white",
            "showbackground": true,
            "ticks": "",
            "zerolinecolor": "white"
           },
           "yaxis": {
            "backgroundcolor": "#E5ECF6",
            "gridcolor": "white",
            "gridwidth": 2,
            "linecolor": "white",
            "showbackground": true,
            "ticks": "",
            "zerolinecolor": "white"
           },
           "zaxis": {
            "backgroundcolor": "#E5ECF6",
            "gridcolor": "white",
            "gridwidth": 2,
            "linecolor": "white",
            "showbackground": true,
            "ticks": "",
            "zerolinecolor": "white"
           }
          },
          "shapedefaults": {
           "line": {
            "color": "#2a3f5f"
           }
          },
          "ternary": {
           "aaxis": {
            "gridcolor": "white",
            "linecolor": "white",
            "ticks": ""
           },
           "baxis": {
            "gridcolor": "white",
            "linecolor": "white",
            "ticks": ""
           },
           "bgcolor": "#E5ECF6",
           "caxis": {
            "gridcolor": "white",
            "linecolor": "white",
            "ticks": ""
           }
          },
          "title": {
           "x": 0.05
          },
          "xaxis": {
           "automargin": true,
           "gridcolor": "white",
           "linecolor": "white",
           "ticks": "",
           "title": {
            "standoff": 15
           },
           "zerolinecolor": "white",
           "zerolinewidth": 2
          },
          "yaxis": {
           "automargin": true,
           "gridcolor": "white",
           "linecolor": "white",
           "ticks": "",
           "title": {
            "standoff": 15
           },
           "zerolinecolor": "white",
           "zerolinewidth": 2
          }
         }
        },
        "title": {
         "text": "Daily Steps vs Diastolic BP"
        },
        "xaxis": {
         "anchor": "y",
         "domain": [
          0,
          1
         ],
         "title": {
          "text": "Daily Steps"
         }
        },
        "yaxis": {
         "anchor": "x",
         "domain": [
          0,
          1
         ],
         "title": {
          "text": "Diastolic BP"
         }
        }
       }
      },
      "text/html": [
       "<div>                            <div id=\"7de970a4-2943-4b47-972d-9e35edcf78b1\" class=\"plotly-graph-div\" style=\"height:525px; width:100%;\"></div>            <script type=\"text/javascript\">                require([\"plotly\"], function(Plotly) {                    window.PLOTLYENV=window.PLOTLYENV || {};                                    if (document.getElementById(\"7de970a4-2943-4b47-972d-9e35edcf78b1\")) {                    Plotly.newPlot(                        \"7de970a4-2943-4b47-972d-9e35edcf78b1\",                        [{\"hovertemplate\":\"Daily Steps=%{x}<br>Diastolic BP=%{y}<extra></extra>\",\"legendgroup\":\"\",\"marker\":{\"color\":\"#636efa\",\"symbol\":\"circle\"},\"mode\":\"markers\",\"name\":\"\",\"orientation\":\"v\",\"showlegend\":false,\"type\":\"scatter\",\"x\":[4200,10000,10000,3000,3000,3000,3500,8000,8000,8000,8000,8000,8000,8000,8000,8000,4000,8000,4000,8000,8000,8000,8000,8000,8000,8000,8000,8000,8000,8000,4100,4100,6800,5000,8000,5000,5000,8000,8000,8000,8000,8000,8000,8000,8000,8000,8000,8000,8000,8000,8000,8000,5000,8000,5000,5000,8000,5000,5000,8000,5000,5000,5000,5000,5000,5000,7000,5000,5500,5500,5000,5000,5000,5000,5000,5000,5000,5000,5000,5000,5200,5200,5600,5600,8000,7000,5000,5000,5000,5000,5000,5000,8000,3300,7000,7000,7000,7000,7000,7000,7000,7000,7000,4800,7000,4800,4200,7000,7000,8000,7000,8000,7000,8000,7000,7000,7000,7000,7000,7000,7000,7000,7000,7000,7000,8000,8000,7000,8000,8000,7000,8000,8000,7000,8000,8000,7000,8000,7000,8000,7000,8000,7000,7000,8000,3300,8000,4000,5500,7500,7500,8000,8000,8000,8000,8000,8000,8000,8000,8000,8000,7300,7300,8000,8000,8000,6200,6000,6000,8000,8000,8000,8000,8000,8000,8000,8000,6000,8000,8000,8000,8000,8000,8000,5000,5000,6000,6000,6000,6000,6000,6000,6000,6000,6000,6000,6000,6000,6000,6000,6000,8000,8000,6800,6800,8000,8000,8000,8000,8000,8000,8000,8000,8000,8000,8000,8000,8000,8000,6000,6000,6000,6000,6000,6000,6000,6000,6000,6000,6000,6000,6000,6000,6000,6000,6000,6000,6000,6000,6000,6000,6000,6000,6000,6000,6000,6000,5000,6000,6000,6000,6000,6000,6000,6000,6000,6000,6000,6000,6000,6000,6000,6000,5500,3500,10000,3500,10000,10000,10000,10000,10000,10000,10000,10000,10000,3700,3700,10000,5000,10000,10000,10000,10000,10000,10000,10000,10000,10000,10000,10000,10000,10000,10000,10000,10000,10000,10000,5000,5000,5000,5000,6000,10000,10000,10000,6000,6000,6000,6000,6000,6000,5000,5000,5000,5000,5000,5000,5000,5000,5000,5000,5000,5000,5000,5000,5000,5000,5000,5000,5000,5000,5000,5000,5000,5000,5000,5000,5000,5000,5000,10000,10000,7000,7000,7000,7000,7000,7000,7000,7000,7000,7000,7000,7000,7000,7000,7000,7000,7000,7000,7000,7000,7000,7000,7000,7000,7000,7000,7000,7000,7000,7000,7000],\"xaxis\":\"x\",\"y\":[83,80,80,90,90,90,90,80,80,80,80,80,80,80,80,80,87,80,87,80,80,80,80,80,80,80,80,80,80,80,86,86,76,80,80,80,80,80,80,80,80,80,80,80,80,80,80,80,80,80,80,80,80,80,80,80,80,80,80,80,80,80,80,80,80,80,76,80,85,85,80,80,80,80,80,80,80,80,80,80,86,86,84,84,80,75,80,80,80,80,80,80,80,88,75,75,75,75,75,75,75,75,75,84,75,84,83,80,80,85,75,85,75,85,75,75,75,75,75,75,75,75,75,75,75,80,85,75,85,85,75,85,85,75,85,85,75,85,75,85,75,85,75,75,85,88,85,87,85,78,78,85,85,85,85,85,85,85,85,85,85,77,77,85,85,85,79,82,82,85,85,85,85,85,85,85,85,85,85,85,85,85,85,85,85,85,90,85,90,85,90,85,85,85,85,85,85,85,85,85,85,85,85,76,80,85,85,85,85,85,85,85,85,85,85,85,85,85,85,85,90,85,85,85,90,85,90,85,90,85,90,85,90,85,90,85,85,90,85,85,90,85,85,90,85,90,85,85,85,85,90,90,90,90,90,90,90,90,90,90,90,90,90,82,92,95,92,95,95,95,95,95,95,95,95,95,91,91,95,80,95,95,95,95,95,95,95,95,95,95,95,95,95,95,95,95,95,95,80,80,80,80,82,95,95,95,85,85,85,85,85,85,80,80,80,80,80,80,80,80,80,80,80,80,80,80,80,80,80,80,80,80,80,80,80,80,80,80,80,95,95,75,75,95,95,95,95,95,95,95,95,95,95,95,95,95,95,95,95,95,95,95,95,95,95,95,95,95,95,95,95,95,95,95],\"yaxis\":\"y\"},{\"hovertemplate\":\"<b>OLS trendline</b><br>Diastolic BP = 0.000921571 * Daily Steps + 78.3675<br>R<sup>2</sup>=0.058557<br><br>Daily Steps=%{x}<br>Diastolic BP=%{y} <b>(trend)</b><extra></extra>\",\"legendgroup\":\"\",\"marker\":{\"color\":\"#636efa\",\"symbol\":\"circle\"},\"mode\":\"lines\",\"name\":\"\",\"showlegend\":false,\"type\":\"scatter\",\"x\":[3000,3000,3000,3300,3300,3500,3500,3500,3700,3700,4000,4000,4000,4100,4100,4200,4200,4800,4800,5000,5000,5000,5000,5000,5000,5000,5000,5000,5000,5000,5000,5000,5000,5000,5000,5000,5000,5000,5000,5000,5000,5000,5000,5000,5000,5000,5000,5000,5000,5000,5000,5000,5000,5000,5000,5000,5000,5000,5000,5000,5000,5000,5000,5000,5000,5000,5000,5000,5000,5000,5000,5000,5000,5000,5000,5000,5000,5000,5000,5000,5000,5000,5000,5000,5000,5000,5000,5200,5200,5500,5500,5500,5500,5600,5600,6000,6000,6000,6000,6000,6000,6000,6000,6000,6000,6000,6000,6000,6000,6000,6000,6000,6000,6000,6000,6000,6000,6000,6000,6000,6000,6000,6000,6000,6000,6000,6000,6000,6000,6000,6000,6000,6000,6000,6000,6000,6000,6000,6000,6000,6000,6000,6000,6000,6000,6000,6000,6000,6000,6000,6000,6000,6000,6000,6000,6000,6000,6000,6000,6000,6000,6000,6000,6200,6800,6800,6800,7000,7000,7000,7000,7000,7000,7000,7000,7000,7000,7000,7000,7000,7000,7000,7000,7000,7000,7000,7000,7000,7000,7000,7000,7000,7000,7000,7000,7000,7000,7000,7000,7000,7000,7000,7000,7000,7000,7000,7000,7000,7000,7000,7000,7000,7000,7000,7000,7000,7000,7000,7000,7000,7000,7000,7000,7000,7000,7000,7000,7000,7000,7000,7000,7000,7000,7300,7300,7500,7500,8000,8000,8000,8000,8000,8000,8000,8000,8000,8000,8000,8000,8000,8000,8000,8000,8000,8000,8000,8000,8000,8000,8000,8000,8000,8000,8000,8000,8000,8000,8000,8000,8000,8000,8000,8000,8000,8000,8000,8000,8000,8000,8000,8000,8000,8000,8000,8000,8000,8000,8000,8000,8000,8000,8000,8000,8000,8000,8000,8000,8000,8000,8000,8000,8000,8000,8000,8000,8000,8000,8000,8000,8000,8000,8000,8000,8000,8000,8000,8000,8000,8000,8000,8000,8000,8000,8000,8000,8000,8000,8000,8000,8000,8000,8000,8000,8000,8000,8000,8000,8000,10000,10000,10000,10000,10000,10000,10000,10000,10000,10000,10000,10000,10000,10000,10000,10000,10000,10000,10000,10000,10000,10000,10000,10000,10000,10000,10000,10000,10000,10000,10000,10000,10000,10000,10000,10000],\"xaxis\":\"x\",\"y\":[81.1322405217966,81.1322405217966,81.1322405217966,81.4087117046018,81.4087117046018,81.59302582647194,81.59302582647194,81.59302582647194,81.77733994834207,81.77733994834207,82.05381113114727,82.05381113114727,82.05381113114727,82.14596819208235,82.14596819208235,82.23812525301742,82.23812525301742,82.7910676186278,82.7910676186278,82.97538174049795,82.97538174049795,82.97538174049795,82.97538174049795,82.97538174049795,82.97538174049795,82.97538174049795,82.97538174049795,82.97538174049795,82.97538174049795,82.97538174049795,82.97538174049795,82.97538174049795,82.97538174049795,82.97538174049795,82.97538174049795,82.97538174049795,82.97538174049795,82.97538174049795,82.97538174049795,82.97538174049795,82.97538174049795,82.97538174049795,82.97538174049795,82.97538174049795,82.97538174049795,82.97538174049795,82.97538174049795,82.97538174049795,82.97538174049795,82.97538174049795,82.97538174049795,82.97538174049795,82.97538174049795,82.97538174049795,82.97538174049795,82.97538174049795,82.97538174049795,82.97538174049795,82.97538174049795,82.97538174049795,82.97538174049795,82.97538174049795,82.97538174049795,82.97538174049795,82.97538174049795,82.97538174049795,82.97538174049795,82.97538174049795,82.97538174049795,82.97538174049795,82.97538174049795,82.97538174049795,82.97538174049795,82.97538174049795,82.97538174049795,82.97538174049795,82.97538174049795,82.97538174049795,82.97538174049795,82.97538174049795,82.97538174049795,82.97538174049795,82.97538174049795,82.97538174049795,82.97538174049795,82.97538174049795,82.97538174049795,83.15969586236808,83.15969586236808,83.43616704517328,83.43616704517328,83.43616704517328,83.43616704517328,83.52832410610836,83.52832410610836,83.89695234984862,83.89695234984862,83.89695234984862,83.89695234984862,83.89695234984862,83.89695234984862,83.89695234984862,83.89695234984862,83.89695234984862,83.89695234984862,83.89695234984862,83.89695234984862,83.89695234984862,83.89695234984862,83.89695234984862,83.89695234984862,83.89695234984862,83.89695234984862,83.89695234984862,83.89695234984862,83.89695234984862,83.89695234984862,83.89695234984862,83.89695234984862,83.89695234984862,83.89695234984862,83.89695234984862,83.89695234984862,83.89695234984862,83.89695234984862,83.89695234984862,83.89695234984862,83.89695234984862,83.89695234984862,83.89695234984862,83.89695234984862,83.89695234984862,83.89695234984862,83.89695234984862,83.89695234984862,83.89695234984862,83.89695234984862,83.89695234984862,83.89695234984862,83.89695234984862,83.89695234984862,83.89695234984862,83.89695234984862,83.89695234984862,83.89695234984862,83.89695234984862,83.89695234984862,83.89695234984862,83.89695234984862,83.89695234984862,83.89695234984862,83.89695234984862,83.89695234984862,83.89695234984862,83.89695234984862,83.89695234984862,83.89695234984862,83.89695234984862,83.89695234984862,83.89695234984862,83.89695234984862,83.89695234984862,83.89695234984862,84.08126647171875,84.63420883732915,84.63420883732915,84.63420883732915,84.81852295919929,84.81852295919929,84.81852295919929,84.81852295919929,84.81852295919929,84.81852295919929,84.81852295919929,84.81852295919929,84.81852295919929,84.81852295919929,84.81852295919929,84.81852295919929,84.81852295919929,84.81852295919929,84.81852295919929,84.81852295919929,84.81852295919929,84.81852295919929,84.81852295919929,84.81852295919929,84.81852295919929,84.81852295919929,84.81852295919929,84.81852295919929,84.81852295919929,84.81852295919929,84.81852295919929,84.81852295919929,84.81852295919929,84.81852295919929,84.81852295919929,84.81852295919929,84.81852295919929,84.81852295919929,84.81852295919929,84.81852295919929,84.81852295919929,84.81852295919929,84.81852295919929,84.81852295919929,84.81852295919929,84.81852295919929,84.81852295919929,84.81852295919929,84.81852295919929,84.81852295919929,84.81852295919929,84.81852295919929,84.81852295919929,84.81852295919929,84.81852295919929,84.81852295919929,84.81852295919929,84.81852295919929,84.81852295919929,84.81852295919929,84.81852295919929,84.81852295919929,84.81852295919929,84.81852295919929,84.81852295919929,84.81852295919929,84.81852295919929,84.81852295919929,84.81852295919929,84.81852295919929,85.0949941420045,85.0949941420045,85.27930826387463,85.27930826387463,85.74009356854997,85.74009356854997,85.74009356854997,85.74009356854997,85.74009356854997,85.74009356854997,85.74009356854997,85.74009356854997,85.74009356854997,85.74009356854997,85.74009356854997,85.74009356854997,85.74009356854997,85.74009356854997,85.74009356854997,85.74009356854997,85.74009356854997,85.74009356854997,85.74009356854997,85.74009356854997,85.74009356854997,85.74009356854997,85.74009356854997,85.74009356854997,85.74009356854997,85.74009356854997,85.74009356854997,85.74009356854997,85.74009356854997,85.74009356854997,85.74009356854997,85.74009356854997,85.74009356854997,85.74009356854997,85.74009356854997,85.74009356854997,85.74009356854997,85.74009356854997,85.74009356854997,85.74009356854997,85.74009356854997,85.74009356854997,85.74009356854997,85.74009356854997,85.74009356854997,85.74009356854997,85.74009356854997,85.74009356854997,85.74009356854997,85.74009356854997,85.74009356854997,85.74009356854997,85.74009356854997,85.74009356854997,85.74009356854997,85.74009356854997,85.74009356854997,85.74009356854997,85.74009356854997,85.74009356854997,85.74009356854997,85.74009356854997,85.74009356854997,85.74009356854997,85.74009356854997,85.74009356854997,85.74009356854997,85.74009356854997,85.74009356854997,85.74009356854997,85.74009356854997,85.74009356854997,85.74009356854997,85.74009356854997,85.74009356854997,85.74009356854997,85.74009356854997,85.74009356854997,85.74009356854997,85.74009356854997,85.74009356854997,85.74009356854997,85.74009356854997,85.74009356854997,85.74009356854997,85.74009356854997,85.74009356854997,85.74009356854997,85.74009356854997,85.74009356854997,85.74009356854997,85.74009356854997,85.74009356854997,85.74009356854997,85.74009356854997,85.74009356854997,85.74009356854997,85.74009356854997,85.74009356854997,85.74009356854997,85.74009356854997,87.58323478725131,87.58323478725131,87.58323478725131,87.58323478725131,87.58323478725131,87.58323478725131,87.58323478725131,87.58323478725131,87.58323478725131,87.58323478725131,87.58323478725131,87.58323478725131,87.58323478725131,87.58323478725131,87.58323478725131,87.58323478725131,87.58323478725131,87.58323478725131,87.58323478725131,87.58323478725131,87.58323478725131,87.58323478725131,87.58323478725131,87.58323478725131,87.58323478725131,87.58323478725131,87.58323478725131,87.58323478725131,87.58323478725131,87.58323478725131,87.58323478725131,87.58323478725131,87.58323478725131,87.58323478725131,87.58323478725131,87.58323478725131],\"yaxis\":\"y\"}],                        {\"legend\":{\"tracegroupgap\":0},\"template\":{\"data\":{\"bar\":[{\"error_x\":{\"color\":\"#2a3f5f\"},\"error_y\":{\"color\":\"#2a3f5f\"},\"marker\":{\"line\":{\"color\":\"#E5ECF6\",\"width\":0.5},\"pattern\":{\"fillmode\":\"overlay\",\"size\":10,\"solidity\":0.2}},\"type\":\"bar\"}],\"barpolar\":[{\"marker\":{\"line\":{\"color\":\"#E5ECF6\",\"width\":0.5},\"pattern\":{\"fillmode\":\"overlay\",\"size\":10,\"solidity\":0.2}},\"type\":\"barpolar\"}],\"carpet\":[{\"aaxis\":{\"endlinecolor\":\"#2a3f5f\",\"gridcolor\":\"white\",\"linecolor\":\"white\",\"minorgridcolor\":\"white\",\"startlinecolor\":\"#2a3f5f\"},\"baxis\":{\"endlinecolor\":\"#2a3f5f\",\"gridcolor\":\"white\",\"linecolor\":\"white\",\"minorgridcolor\":\"white\",\"startlinecolor\":\"#2a3f5f\"},\"type\":\"carpet\"}],\"choropleth\":[{\"colorbar\":{\"outlinewidth\":0,\"ticks\":\"\"},\"type\":\"choropleth\"}],\"contour\":[{\"colorbar\":{\"outlinewidth\":0,\"ticks\":\"\"},\"colorscale\":[[0.0,\"#0d0887\"],[0.1111111111111111,\"#46039f\"],[0.2222222222222222,\"#7201a8\"],[0.3333333333333333,\"#9c179e\"],[0.4444444444444444,\"#bd3786\"],[0.5555555555555556,\"#d8576b\"],[0.6666666666666666,\"#ed7953\"],[0.7777777777777778,\"#fb9f3a\"],[0.8888888888888888,\"#fdca26\"],[1.0,\"#f0f921\"]],\"type\":\"contour\"}],\"contourcarpet\":[{\"colorbar\":{\"outlinewidth\":0,\"ticks\":\"\"},\"type\":\"contourcarpet\"}],\"heatmap\":[{\"colorbar\":{\"outlinewidth\":0,\"ticks\":\"\"},\"colorscale\":[[0.0,\"#0d0887\"],[0.1111111111111111,\"#46039f\"],[0.2222222222222222,\"#7201a8\"],[0.3333333333333333,\"#9c179e\"],[0.4444444444444444,\"#bd3786\"],[0.5555555555555556,\"#d8576b\"],[0.6666666666666666,\"#ed7953\"],[0.7777777777777778,\"#fb9f3a\"],[0.8888888888888888,\"#fdca26\"],[1.0,\"#f0f921\"]],\"type\":\"heatmap\"}],\"heatmapgl\":[{\"colorbar\":{\"outlinewidth\":0,\"ticks\":\"\"},\"colorscale\":[[0.0,\"#0d0887\"],[0.1111111111111111,\"#46039f\"],[0.2222222222222222,\"#7201a8\"],[0.3333333333333333,\"#9c179e\"],[0.4444444444444444,\"#bd3786\"],[0.5555555555555556,\"#d8576b\"],[0.6666666666666666,\"#ed7953\"],[0.7777777777777778,\"#fb9f3a\"],[0.8888888888888888,\"#fdca26\"],[1.0,\"#f0f921\"]],\"type\":\"heatmapgl\"}],\"histogram\":[{\"marker\":{\"pattern\":{\"fillmode\":\"overlay\",\"size\":10,\"solidity\":0.2}},\"type\":\"histogram\"}],\"histogram2d\":[{\"colorbar\":{\"outlinewidth\":0,\"ticks\":\"\"},\"colorscale\":[[0.0,\"#0d0887\"],[0.1111111111111111,\"#46039f\"],[0.2222222222222222,\"#7201a8\"],[0.3333333333333333,\"#9c179e\"],[0.4444444444444444,\"#bd3786\"],[0.5555555555555556,\"#d8576b\"],[0.6666666666666666,\"#ed7953\"],[0.7777777777777778,\"#fb9f3a\"],[0.8888888888888888,\"#fdca26\"],[1.0,\"#f0f921\"]],\"type\":\"histogram2d\"}],\"histogram2dcontour\":[{\"colorbar\":{\"outlinewidth\":0,\"ticks\":\"\"},\"colorscale\":[[0.0,\"#0d0887\"],[0.1111111111111111,\"#46039f\"],[0.2222222222222222,\"#7201a8\"],[0.3333333333333333,\"#9c179e\"],[0.4444444444444444,\"#bd3786\"],[0.5555555555555556,\"#d8576b\"],[0.6666666666666666,\"#ed7953\"],[0.7777777777777778,\"#fb9f3a\"],[0.8888888888888888,\"#fdca26\"],[1.0,\"#f0f921\"]],\"type\":\"histogram2dcontour\"}],\"mesh3d\":[{\"colorbar\":{\"outlinewidth\":0,\"ticks\":\"\"},\"type\":\"mesh3d\"}],\"parcoords\":[{\"line\":{\"colorbar\":{\"outlinewidth\":0,\"ticks\":\"\"}},\"type\":\"parcoords\"}],\"pie\":[{\"automargin\":true,\"type\":\"pie\"}],\"scatter\":[{\"marker\":{\"colorbar\":{\"outlinewidth\":0,\"ticks\":\"\"}},\"type\":\"scatter\"}],\"scatter3d\":[{\"line\":{\"colorbar\":{\"outlinewidth\":0,\"ticks\":\"\"}},\"marker\":{\"colorbar\":{\"outlinewidth\":0,\"ticks\":\"\"}},\"type\":\"scatter3d\"}],\"scattercarpet\":[{\"marker\":{\"colorbar\":{\"outlinewidth\":0,\"ticks\":\"\"}},\"type\":\"scattercarpet\"}],\"scattergeo\":[{\"marker\":{\"colorbar\":{\"outlinewidth\":0,\"ticks\":\"\"}},\"type\":\"scattergeo\"}],\"scattergl\":[{\"marker\":{\"colorbar\":{\"outlinewidth\":0,\"ticks\":\"\"}},\"type\":\"scattergl\"}],\"scattermapbox\":[{\"marker\":{\"colorbar\":{\"outlinewidth\":0,\"ticks\":\"\"}},\"type\":\"scattermapbox\"}],\"scatterpolar\":[{\"marker\":{\"colorbar\":{\"outlinewidth\":0,\"ticks\":\"\"}},\"type\":\"scatterpolar\"}],\"scatterpolargl\":[{\"marker\":{\"colorbar\":{\"outlinewidth\":0,\"ticks\":\"\"}},\"type\":\"scatterpolargl\"}],\"scatterternary\":[{\"marker\":{\"colorbar\":{\"outlinewidth\":0,\"ticks\":\"\"}},\"type\":\"scatterternary\"}],\"surface\":[{\"colorbar\":{\"outlinewidth\":0,\"ticks\":\"\"},\"colorscale\":[[0.0,\"#0d0887\"],[0.1111111111111111,\"#46039f\"],[0.2222222222222222,\"#7201a8\"],[0.3333333333333333,\"#9c179e\"],[0.4444444444444444,\"#bd3786\"],[0.5555555555555556,\"#d8576b\"],[0.6666666666666666,\"#ed7953\"],[0.7777777777777778,\"#fb9f3a\"],[0.8888888888888888,\"#fdca26\"],[1.0,\"#f0f921\"]],\"type\":\"surface\"}],\"table\":[{\"cells\":{\"fill\":{\"color\":\"#EBF0F8\"},\"line\":{\"color\":\"white\"}},\"header\":{\"fill\":{\"color\":\"#C8D4E3\"},\"line\":{\"color\":\"white\"}},\"type\":\"table\"}]},\"layout\":{\"annotationdefaults\":{\"arrowcolor\":\"#2a3f5f\",\"arrowhead\":0,\"arrowwidth\":1},\"autotypenumbers\":\"strict\",\"coloraxis\":{\"colorbar\":{\"outlinewidth\":0,\"ticks\":\"\"}},\"colorscale\":{\"diverging\":[[0,\"#8e0152\"],[0.1,\"#c51b7d\"],[0.2,\"#de77ae\"],[0.3,\"#f1b6da\"],[0.4,\"#fde0ef\"],[0.5,\"#f7f7f7\"],[0.6,\"#e6f5d0\"],[0.7,\"#b8e186\"],[0.8,\"#7fbc41\"],[0.9,\"#4d9221\"],[1,\"#276419\"]],\"sequential\":[[0.0,\"#0d0887\"],[0.1111111111111111,\"#46039f\"],[0.2222222222222222,\"#7201a8\"],[0.3333333333333333,\"#9c179e\"],[0.4444444444444444,\"#bd3786\"],[0.5555555555555556,\"#d8576b\"],[0.6666666666666666,\"#ed7953\"],[0.7777777777777778,\"#fb9f3a\"],[0.8888888888888888,\"#fdca26\"],[1.0,\"#f0f921\"]],\"sequentialminus\":[[0.0,\"#0d0887\"],[0.1111111111111111,\"#46039f\"],[0.2222222222222222,\"#7201a8\"],[0.3333333333333333,\"#9c179e\"],[0.4444444444444444,\"#bd3786\"],[0.5555555555555556,\"#d8576b\"],[0.6666666666666666,\"#ed7953\"],[0.7777777777777778,\"#fb9f3a\"],[0.8888888888888888,\"#fdca26\"],[1.0,\"#f0f921\"]]},\"colorway\":[\"#636efa\",\"#EF553B\",\"#00cc96\",\"#ab63fa\",\"#FFA15A\",\"#19d3f3\",\"#FF6692\",\"#B6E880\",\"#FF97FF\",\"#FECB52\"],\"font\":{\"color\":\"#2a3f5f\"},\"geo\":{\"bgcolor\":\"white\",\"lakecolor\":\"white\",\"landcolor\":\"#E5ECF6\",\"showlakes\":true,\"showland\":true,\"subunitcolor\":\"white\"},\"hoverlabel\":{\"align\":\"left\"},\"hovermode\":\"closest\",\"mapbox\":{\"style\":\"light\"},\"paper_bgcolor\":\"white\",\"plot_bgcolor\":\"#E5ECF6\",\"polar\":{\"angularaxis\":{\"gridcolor\":\"white\",\"linecolor\":\"white\",\"ticks\":\"\"},\"bgcolor\":\"#E5ECF6\",\"radialaxis\":{\"gridcolor\":\"white\",\"linecolor\":\"white\",\"ticks\":\"\"}},\"scene\":{\"xaxis\":{\"backgroundcolor\":\"#E5ECF6\",\"gridcolor\":\"white\",\"gridwidth\":2,\"linecolor\":\"white\",\"showbackground\":true,\"ticks\":\"\",\"zerolinecolor\":\"white\"},\"yaxis\":{\"backgroundcolor\":\"#E5ECF6\",\"gridcolor\":\"white\",\"gridwidth\":2,\"linecolor\":\"white\",\"showbackground\":true,\"ticks\":\"\",\"zerolinecolor\":\"white\"},\"zaxis\":{\"backgroundcolor\":\"#E5ECF6\",\"gridcolor\":\"white\",\"gridwidth\":2,\"linecolor\":\"white\",\"showbackground\":true,\"ticks\":\"\",\"zerolinecolor\":\"white\"}},\"shapedefaults\":{\"line\":{\"color\":\"#2a3f5f\"}},\"ternary\":{\"aaxis\":{\"gridcolor\":\"white\",\"linecolor\":\"white\",\"ticks\":\"\"},\"baxis\":{\"gridcolor\":\"white\",\"linecolor\":\"white\",\"ticks\":\"\"},\"bgcolor\":\"#E5ECF6\",\"caxis\":{\"gridcolor\":\"white\",\"linecolor\":\"white\",\"ticks\":\"\"}},\"title\":{\"x\":0.05},\"xaxis\":{\"automargin\":true,\"gridcolor\":\"white\",\"linecolor\":\"white\",\"ticks\":\"\",\"title\":{\"standoff\":15},\"zerolinecolor\":\"white\",\"zerolinewidth\":2},\"yaxis\":{\"automargin\":true,\"gridcolor\":\"white\",\"linecolor\":\"white\",\"ticks\":\"\",\"title\":{\"standoff\":15},\"zerolinecolor\":\"white\",\"zerolinewidth\":2}}},\"title\":{\"text\":\"Daily Steps vs Diastolic BP\"},\"xaxis\":{\"anchor\":\"y\",\"domain\":[0.0,1.0],\"title\":{\"text\":\"Daily Steps\"}},\"yaxis\":{\"anchor\":\"x\",\"domain\":[0.0,1.0],\"title\":{\"text\":\"Diastolic BP\"}}},                        {\"responsive\": true}                    ).then(function(){\n",
       "                            \n",
       "var gd = document.getElementById('7de970a4-2943-4b47-972d-9e35edcf78b1');\n",
       "var x = new MutationObserver(function (mutations, observer) {{\n",
       "        var display = window.getComputedStyle(gd).display;\n",
       "        if (!display || display === 'none') {{\n",
       "            console.log([gd, 'removed!']);\n",
       "            Plotly.purge(gd);\n",
       "            observer.disconnect();\n",
       "        }}\n",
       "}});\n",
       "\n",
       "// Listen for the removal of the full notebook cells\n",
       "var notebookContainer = gd.closest('#notebook-container');\n",
       "if (notebookContainer) {{\n",
       "    x.observe(notebookContainer, {childList: true});\n",
       "}}\n",
       "\n",
       "// Listen for the clearing of the current output cell\n",
       "var outputEl = gd.closest('.output');\n",
       "if (outputEl) {{\n",
       "    x.observe(outputEl, {childList: true});\n",
       "}}\n",
       "\n",
       "                        })                };                });            </script>        </div>"
      ]
     },
     "metadata": {},
     "output_type": "display_data"
    },
    {
     "data": {
      "application/vnd.plotly.v1+json": {
       "config": {
        "linkText": "Export to plot.ly",
        "plotlyServerURL": "https://plot.ly",
        "showLink": false
       },
       "data": [
        {
         "hovertemplate": "Daily Steps=%{x}<br>Heart Rate=%{y}<extra></extra>",
         "legendgroup": "",
         "marker": {
          "color": "#636efa",
          "symbol": "circle"
         },
         "mode": "markers",
         "name": "",
         "orientation": "v",
         "showlegend": false,
         "type": "scatter",
         "x": [
          4200,
          10000,
          10000,
          3000,
          3000,
          3000,
          3500,
          8000,
          8000,
          8000,
          8000,
          8000,
          8000,
          8000,
          8000,
          8000,
          4000,
          8000,
          4000,
          8000,
          8000,
          8000,
          8000,
          8000,
          8000,
          8000,
          8000,
          8000,
          8000,
          8000,
          4100,
          4100,
          6800,
          5000,
          8000,
          5000,
          5000,
          8000,
          8000,
          8000,
          8000,
          8000,
          8000,
          8000,
          8000,
          8000,
          8000,
          8000,
          8000,
          8000,
          8000,
          8000,
          5000,
          8000,
          5000,
          5000,
          8000,
          5000,
          5000,
          8000,
          5000,
          5000,
          5000,
          5000,
          5000,
          5000,
          7000,
          5000,
          5500,
          5500,
          5000,
          5000,
          5000,
          5000,
          5000,
          5000,
          5000,
          5000,
          5000,
          5000,
          5200,
          5200,
          5600,
          5600,
          8000,
          7000,
          5000,
          5000,
          5000,
          5000,
          5000,
          5000,
          8000,
          3300,
          7000,
          7000,
          7000,
          7000,
          7000,
          7000,
          7000,
          7000,
          7000,
          4800,
          7000,
          4800,
          4200,
          7000,
          7000,
          8000,
          7000,
          8000,
          7000,
          8000,
          7000,
          7000,
          7000,
          7000,
          7000,
          7000,
          7000,
          7000,
          7000,
          7000,
          7000,
          8000,
          8000,
          7000,
          8000,
          8000,
          7000,
          8000,
          8000,
          7000,
          8000,
          8000,
          7000,
          8000,
          7000,
          8000,
          7000,
          8000,
          7000,
          7000,
          8000,
          3300,
          8000,
          4000,
          5500,
          7500,
          7500,
          8000,
          8000,
          8000,
          8000,
          8000,
          8000,
          8000,
          8000,
          8000,
          8000,
          7300,
          7300,
          8000,
          8000,
          8000,
          6200,
          6000,
          6000,
          8000,
          8000,
          8000,
          8000,
          8000,
          8000,
          8000,
          8000,
          6000,
          8000,
          8000,
          8000,
          8000,
          8000,
          8000,
          5000,
          5000,
          6000,
          6000,
          6000,
          6000,
          6000,
          6000,
          6000,
          6000,
          6000,
          6000,
          6000,
          6000,
          6000,
          6000,
          6000,
          8000,
          8000,
          6800,
          6800,
          8000,
          8000,
          8000,
          8000,
          8000,
          8000,
          8000,
          8000,
          8000,
          8000,
          8000,
          8000,
          8000,
          8000,
          6000,
          6000,
          6000,
          6000,
          6000,
          6000,
          6000,
          6000,
          6000,
          6000,
          6000,
          6000,
          6000,
          6000,
          6000,
          6000,
          6000,
          6000,
          6000,
          6000,
          6000,
          6000,
          6000,
          6000,
          6000,
          6000,
          6000,
          6000,
          5000,
          6000,
          6000,
          6000,
          6000,
          6000,
          6000,
          6000,
          6000,
          6000,
          6000,
          6000,
          6000,
          6000,
          6000,
          6000,
          5500,
          3500,
          10000,
          3500,
          10000,
          10000,
          10000,
          10000,
          10000,
          10000,
          10000,
          10000,
          10000,
          3700,
          3700,
          10000,
          5000,
          10000,
          10000,
          10000,
          10000,
          10000,
          10000,
          10000,
          10000,
          10000,
          10000,
          10000,
          10000,
          10000,
          10000,
          10000,
          10000,
          10000,
          10000,
          5000,
          5000,
          5000,
          5000,
          6000,
          10000,
          10000,
          10000,
          6000,
          6000,
          6000,
          6000,
          6000,
          6000,
          5000,
          5000,
          5000,
          5000,
          5000,
          5000,
          5000,
          5000,
          5000,
          5000,
          5000,
          5000,
          5000,
          5000,
          5000,
          5000,
          5000,
          5000,
          5000,
          5000,
          5000,
          5000,
          5000,
          5000,
          5000,
          5000,
          5000,
          5000,
          5000,
          10000,
          10000,
          7000,
          7000,
          7000,
          7000,
          7000,
          7000,
          7000,
          7000,
          7000,
          7000,
          7000,
          7000,
          7000,
          7000,
          7000,
          7000,
          7000,
          7000,
          7000,
          7000,
          7000,
          7000,
          7000,
          7000,
          7000,
          7000,
          7000,
          7000,
          7000,
          7000,
          7000
         ],
         "xaxis": "x",
         "y": [
          77,
          75,
          75,
          85,
          85,
          85,
          82,
          70,
          70,
          70,
          70,
          70,
          70,
          70,
          70,
          70,
          80,
          70,
          80,
          70,
          70,
          70,
          70,
          70,
          70,
          70,
          70,
          70,
          70,
          70,
          78,
          78,
          69,
          72,
          70,
          72,
          72,
          70,
          70,
          70,
          70,
          70,
          70,
          70,
          70,
          70,
          70,
          70,
          70,
          70,
          70,
          70,
          72,
          70,
          72,
          72,
          70,
          72,
          72,
          70,
          72,
          72,
          72,
          72,
          72,
          72,
          68,
          72,
          76,
          76,
          72,
          72,
          72,
          72,
          72,
          72,
          72,
          72,
          72,
          72,
          81,
          81,
          70,
          70,
          70,
          68,
          65,
          65,
          65,
          65,
          65,
          65,
          70,
          84,
          68,
          68,
          68,
          68,
          68,
          68,
          68,
          68,
          68,
          74,
          68,
          74,
          77,
          68,
          68,
          68,
          68,
          68,
          68,
          68,
          68,
          68,
          68,
          68,
          68,
          68,
          68,
          68,
          68,
          68,
          68,
          70,
          68,
          68,
          68,
          68,
          68,
          68,
          68,
          68,
          68,
          68,
          68,
          68,
          68,
          68,
          68,
          68,
          68,
          68,
          68,
          84,
          68,
          80,
          75,
          67,
          67,
          68,
          68,
          68,
          68,
          68,
          68,
          68,
          68,
          68,
          68,
          73,
          73,
          68,
          68,
          70,
          72,
          72,
          72,
          70,
          70,
          70,
          70,
          70,
          70,
          70,
          70,
          72,
          70,
          70,
          70,
          70,
          70,
          70,
          78,
          78,
          65,
          72,
          65,
          72,
          65,
          72,
          72,
          72,
          72,
          72,
          72,
          72,
          72,
          72,
          72,
          70,
          70,
          69,
          68,
          70,
          70,
          70,
          70,
          70,
          70,
          70,
          70,
          70,
          70,
          70,
          70,
          70,
          70,
          72,
          65,
          72,
          72,
          72,
          65,
          72,
          65,
          72,
          65,
          72,
          65,
          72,
          65,
          72,
          65,
          72,
          72,
          65,
          72,
          72,
          65,
          72,
          72,
          65,
          72,
          65,
          72,
          78,
          72,
          72,
          65,
          65,
          65,
          65,
          65,
          65,
          65,
          65,
          65,
          65,
          65,
          65,
          65,
          75,
          83,
          75,
          83,
          75,
          75,
          75,
          75,
          75,
          75,
          75,
          75,
          75,
          86,
          86,
          75,
          65,
          75,
          75,
          75,
          75,
          75,
          75,
          75,
          75,
          75,
          75,
          75,
          75,
          75,
          75,
          75,
          75,
          75,
          75,
          65,
          65,
          65,
          65,
          72,
          75,
          75,
          75,
          72,
          72,
          72,
          72,
          72,
          72,
          65,
          65,
          65,
          65,
          65,
          65,
          65,
          65,
          65,
          65,
          65,
          65,
          65,
          65,
          65,
          65,
          65,
          65,
          65,
          65,
          65,
          65,
          65,
          65,
          65,
          65,
          65,
          72,
          72,
          65,
          65,
          68,
          68,
          68,
          68,
          68,
          68,
          68,
          68,
          68,
          68,
          68,
          68,
          68,
          68,
          68,
          68,
          68,
          68,
          68,
          68,
          68,
          68,
          68,
          68,
          68,
          68,
          68,
          68,
          68,
          68,
          68
         ],
         "yaxis": "y"
        },
        {
         "hovertemplate": "<b>OLS trendline</b><br>Heart Rate = -7.7474e-05 * Daily Steps + 70.6939<br>R<sup>2</sup>=0.000919<br><br>Daily Steps=%{x}<br>Heart Rate=%{y} <b>(trend)</b><extra></extra>",
         "legendgroup": "",
         "marker": {
          "color": "#636efa",
          "symbol": "circle"
         },
         "mode": "lines",
         "name": "",
         "showlegend": false,
         "type": "scatter",
         "x": [
          3000,
          3000,
          3000,
          3300,
          3300,
          3500,
          3500,
          3500,
          3700,
          3700,
          4000,
          4000,
          4000,
          4100,
          4100,
          4200,
          4200,
          4800,
          4800,
          5000,
          5000,
          5000,
          5000,
          5000,
          5000,
          5000,
          5000,
          5000,
          5000,
          5000,
          5000,
          5000,
          5000,
          5000,
          5000,
          5000,
          5000,
          5000,
          5000,
          5000,
          5000,
          5000,
          5000,
          5000,
          5000,
          5000,
          5000,
          5000,
          5000,
          5000,
          5000,
          5000,
          5000,
          5000,
          5000,
          5000,
          5000,
          5000,
          5000,
          5000,
          5000,
          5000,
          5000,
          5000,
          5000,
          5000,
          5000,
          5000,
          5000,
          5000,
          5000,
          5000,
          5000,
          5000,
          5000,
          5000,
          5000,
          5000,
          5000,
          5000,
          5000,
          5000,
          5000,
          5000,
          5000,
          5000,
          5000,
          5200,
          5200,
          5500,
          5500,
          5500,
          5500,
          5600,
          5600,
          6000,
          6000,
          6000,
          6000,
          6000,
          6000,
          6000,
          6000,
          6000,
          6000,
          6000,
          6000,
          6000,
          6000,
          6000,
          6000,
          6000,
          6000,
          6000,
          6000,
          6000,
          6000,
          6000,
          6000,
          6000,
          6000,
          6000,
          6000,
          6000,
          6000,
          6000,
          6000,
          6000,
          6000,
          6000,
          6000,
          6000,
          6000,
          6000,
          6000,
          6000,
          6000,
          6000,
          6000,
          6000,
          6000,
          6000,
          6000,
          6000,
          6000,
          6000,
          6000,
          6000,
          6000,
          6000,
          6000,
          6000,
          6000,
          6000,
          6000,
          6000,
          6000,
          6000,
          6000,
          6000,
          6000,
          6000,
          6000,
          6200,
          6800,
          6800,
          6800,
          7000,
          7000,
          7000,
          7000,
          7000,
          7000,
          7000,
          7000,
          7000,
          7000,
          7000,
          7000,
          7000,
          7000,
          7000,
          7000,
          7000,
          7000,
          7000,
          7000,
          7000,
          7000,
          7000,
          7000,
          7000,
          7000,
          7000,
          7000,
          7000,
          7000,
          7000,
          7000,
          7000,
          7000,
          7000,
          7000,
          7000,
          7000,
          7000,
          7000,
          7000,
          7000,
          7000,
          7000,
          7000,
          7000,
          7000,
          7000,
          7000,
          7000,
          7000,
          7000,
          7000,
          7000,
          7000,
          7000,
          7000,
          7000,
          7000,
          7000,
          7000,
          7000,
          7000,
          7000,
          7000,
          7000,
          7300,
          7300,
          7500,
          7500,
          8000,
          8000,
          8000,
          8000,
          8000,
          8000,
          8000,
          8000,
          8000,
          8000,
          8000,
          8000,
          8000,
          8000,
          8000,
          8000,
          8000,
          8000,
          8000,
          8000,
          8000,
          8000,
          8000,
          8000,
          8000,
          8000,
          8000,
          8000,
          8000,
          8000,
          8000,
          8000,
          8000,
          8000,
          8000,
          8000,
          8000,
          8000,
          8000,
          8000,
          8000,
          8000,
          8000,
          8000,
          8000,
          8000,
          8000,
          8000,
          8000,
          8000,
          8000,
          8000,
          8000,
          8000,
          8000,
          8000,
          8000,
          8000,
          8000,
          8000,
          8000,
          8000,
          8000,
          8000,
          8000,
          8000,
          8000,
          8000,
          8000,
          8000,
          8000,
          8000,
          8000,
          8000,
          8000,
          8000,
          8000,
          8000,
          8000,
          8000,
          8000,
          8000,
          8000,
          8000,
          8000,
          8000,
          8000,
          8000,
          8000,
          8000,
          8000,
          8000,
          8000,
          8000,
          8000,
          8000,
          8000,
          8000,
          8000,
          8000,
          8000,
          10000,
          10000,
          10000,
          10000,
          10000,
          10000,
          10000,
          10000,
          10000,
          10000,
          10000,
          10000,
          10000,
          10000,
          10000,
          10000,
          10000,
          10000,
          10000,
          10000,
          10000,
          10000,
          10000,
          10000,
          10000,
          10000,
          10000,
          10000,
          10000,
          10000,
          10000,
          10000,
          10000,
          10000,
          10000,
          10000
         ],
         "xaxis": "x",
         "y": [
          70.46148172467777,
          70.46148172467777,
          70.46148172467777,
          70.43823951836684,
          70.43823951836684,
          70.42274471415955,
          70.42274471415955,
          70.42274471415955,
          70.40724990995227,
          70.40724990995227,
          70.38400770364133,
          70.38400770364133,
          70.38400770364133,
          70.3762603015377,
          70.3762603015377,
          70.36851289943405,
          70.36851289943405,
          70.32202848681219,
          70.32202848681219,
          70.30653368260491,
          70.30653368260491,
          70.30653368260491,
          70.30653368260491,
          70.30653368260491,
          70.30653368260491,
          70.30653368260491,
          70.30653368260491,
          70.30653368260491,
          70.30653368260491,
          70.30653368260491,
          70.30653368260491,
          70.30653368260491,
          70.30653368260491,
          70.30653368260491,
          70.30653368260491,
          70.30653368260491,
          70.30653368260491,
          70.30653368260491,
          70.30653368260491,
          70.30653368260491,
          70.30653368260491,
          70.30653368260491,
          70.30653368260491,
          70.30653368260491,
          70.30653368260491,
          70.30653368260491,
          70.30653368260491,
          70.30653368260491,
          70.30653368260491,
          70.30653368260491,
          70.30653368260491,
          70.30653368260491,
          70.30653368260491,
          70.30653368260491,
          70.30653368260491,
          70.30653368260491,
          70.30653368260491,
          70.30653368260491,
          70.30653368260491,
          70.30653368260491,
          70.30653368260491,
          70.30653368260491,
          70.30653368260491,
          70.30653368260491,
          70.30653368260491,
          70.30653368260491,
          70.30653368260491,
          70.30653368260491,
          70.30653368260491,
          70.30653368260491,
          70.30653368260491,
          70.30653368260491,
          70.30653368260491,
          70.30653368260491,
          70.30653368260491,
          70.30653368260491,
          70.30653368260491,
          70.30653368260491,
          70.30653368260491,
          70.30653368260491,
          70.30653368260491,
          70.30653368260491,
          70.30653368260491,
          70.30653368260491,
          70.30653368260491,
          70.30653368260491,
          70.30653368260491,
          70.29103887839761,
          70.29103887839761,
          70.26779667208669,
          70.26779667208669,
          70.26779667208669,
          70.26779667208669,
          70.26004926998304,
          70.26004926998304,
          70.22905966156847,
          70.22905966156847,
          70.22905966156847,
          70.22905966156847,
          70.22905966156847,
          70.22905966156847,
          70.22905966156847,
          70.22905966156847,
          70.22905966156847,
          70.22905966156847,
          70.22905966156847,
          70.22905966156847,
          70.22905966156847,
          70.22905966156847,
          70.22905966156847,
          70.22905966156847,
          70.22905966156847,
          70.22905966156847,
          70.22905966156847,
          70.22905966156847,
          70.22905966156847,
          70.22905966156847,
          70.22905966156847,
          70.22905966156847,
          70.22905966156847,
          70.22905966156847,
          70.22905966156847,
          70.22905966156847,
          70.22905966156847,
          70.22905966156847,
          70.22905966156847,
          70.22905966156847,
          70.22905966156847,
          70.22905966156847,
          70.22905966156847,
          70.22905966156847,
          70.22905966156847,
          70.22905966156847,
          70.22905966156847,
          70.22905966156847,
          70.22905966156847,
          70.22905966156847,
          70.22905966156847,
          70.22905966156847,
          70.22905966156847,
          70.22905966156847,
          70.22905966156847,
          70.22905966156847,
          70.22905966156847,
          70.22905966156847,
          70.22905966156847,
          70.22905966156847,
          70.22905966156847,
          70.22905966156847,
          70.22905966156847,
          70.22905966156847,
          70.22905966156847,
          70.22905966156847,
          70.22905966156847,
          70.22905966156847,
          70.22905966156847,
          70.22905966156847,
          70.22905966156847,
          70.22905966156847,
          70.22905966156847,
          70.22905966156847,
          70.22905966156847,
          70.22905966156847,
          70.21356485736118,
          70.16708044473933,
          70.16708044473933,
          70.16708044473933,
          70.15158564053203,
          70.15158564053203,
          70.15158564053203,
          70.15158564053203,
          70.15158564053203,
          70.15158564053203,
          70.15158564053203,
          70.15158564053203,
          70.15158564053203,
          70.15158564053203,
          70.15158564053203,
          70.15158564053203,
          70.15158564053203,
          70.15158564053203,
          70.15158564053203,
          70.15158564053203,
          70.15158564053203,
          70.15158564053203,
          70.15158564053203,
          70.15158564053203,
          70.15158564053203,
          70.15158564053203,
          70.15158564053203,
          70.15158564053203,
          70.15158564053203,
          70.15158564053203,
          70.15158564053203,
          70.15158564053203,
          70.15158564053203,
          70.15158564053203,
          70.15158564053203,
          70.15158564053203,
          70.15158564053203,
          70.15158564053203,
          70.15158564053203,
          70.15158564053203,
          70.15158564053203,
          70.15158564053203,
          70.15158564053203,
          70.15158564053203,
          70.15158564053203,
          70.15158564053203,
          70.15158564053203,
          70.15158564053203,
          70.15158564053203,
          70.15158564053203,
          70.15158564053203,
          70.15158564053203,
          70.15158564053203,
          70.15158564053203,
          70.15158564053203,
          70.15158564053203,
          70.15158564053203,
          70.15158564053203,
          70.15158564053203,
          70.15158564053203,
          70.15158564053203,
          70.15158564053203,
          70.15158564053203,
          70.15158564053203,
          70.15158564053203,
          70.15158564053203,
          70.15158564053203,
          70.15158564053203,
          70.15158564053203,
          70.15158564053203,
          70.12834343422111,
          70.12834343422111,
          70.11284863001383,
          70.11284863001383,
          70.07411161949561,
          70.07411161949561,
          70.07411161949561,
          70.07411161949561,
          70.07411161949561,
          70.07411161949561,
          70.07411161949561,
          70.07411161949561,
          70.07411161949561,
          70.07411161949561,
          70.07411161949561,
          70.07411161949561,
          70.07411161949561,
          70.07411161949561,
          70.07411161949561,
          70.07411161949561,
          70.07411161949561,
          70.07411161949561,
          70.07411161949561,
          70.07411161949561,
          70.07411161949561,
          70.07411161949561,
          70.07411161949561,
          70.07411161949561,
          70.07411161949561,
          70.07411161949561,
          70.07411161949561,
          70.07411161949561,
          70.07411161949561,
          70.07411161949561,
          70.07411161949561,
          70.07411161949561,
          70.07411161949561,
          70.07411161949561,
          70.07411161949561,
          70.07411161949561,
          70.07411161949561,
          70.07411161949561,
          70.07411161949561,
          70.07411161949561,
          70.07411161949561,
          70.07411161949561,
          70.07411161949561,
          70.07411161949561,
          70.07411161949561,
          70.07411161949561,
          70.07411161949561,
          70.07411161949561,
          70.07411161949561,
          70.07411161949561,
          70.07411161949561,
          70.07411161949561,
          70.07411161949561,
          70.07411161949561,
          70.07411161949561,
          70.07411161949561,
          70.07411161949561,
          70.07411161949561,
          70.07411161949561,
          70.07411161949561,
          70.07411161949561,
          70.07411161949561,
          70.07411161949561,
          70.07411161949561,
          70.07411161949561,
          70.07411161949561,
          70.07411161949561,
          70.07411161949561,
          70.07411161949561,
          70.07411161949561,
          70.07411161949561,
          70.07411161949561,
          70.07411161949561,
          70.07411161949561,
          70.07411161949561,
          70.07411161949561,
          70.07411161949561,
          70.07411161949561,
          70.07411161949561,
          70.07411161949561,
          70.07411161949561,
          70.07411161949561,
          70.07411161949561,
          70.07411161949561,
          70.07411161949561,
          70.07411161949561,
          70.07411161949561,
          70.07411161949561,
          70.07411161949561,
          70.07411161949561,
          70.07411161949561,
          70.07411161949561,
          70.07411161949561,
          70.07411161949561,
          70.07411161949561,
          70.07411161949561,
          70.07411161949561,
          70.07411161949561,
          70.07411161949561,
          70.07411161949561,
          70.07411161949561,
          69.91916357742274,
          69.91916357742274,
          69.91916357742274,
          69.91916357742274,
          69.91916357742274,
          69.91916357742274,
          69.91916357742274,
          69.91916357742274,
          69.91916357742274,
          69.91916357742274,
          69.91916357742274,
          69.91916357742274,
          69.91916357742274,
          69.91916357742274,
          69.91916357742274,
          69.91916357742274,
          69.91916357742274,
          69.91916357742274,
          69.91916357742274,
          69.91916357742274,
          69.91916357742274,
          69.91916357742274,
          69.91916357742274,
          69.91916357742274,
          69.91916357742274,
          69.91916357742274,
          69.91916357742274,
          69.91916357742274,
          69.91916357742274,
          69.91916357742274,
          69.91916357742274,
          69.91916357742274,
          69.91916357742274,
          69.91916357742274,
          69.91916357742274,
          69.91916357742274
         ],
         "yaxis": "y"
        }
       ],
       "layout": {
        "legend": {
         "tracegroupgap": 0
        },
        "template": {
         "data": {
          "bar": [
           {
            "error_x": {
             "color": "#2a3f5f"
            },
            "error_y": {
             "color": "#2a3f5f"
            },
            "marker": {
             "line": {
              "color": "#E5ECF6",
              "width": 0.5
             },
             "pattern": {
              "fillmode": "overlay",
              "size": 10,
              "solidity": 0.2
             }
            },
            "type": "bar"
           }
          ],
          "barpolar": [
           {
            "marker": {
             "line": {
              "color": "#E5ECF6",
              "width": 0.5
             },
             "pattern": {
              "fillmode": "overlay",
              "size": 10,
              "solidity": 0.2
             }
            },
            "type": "barpolar"
           }
          ],
          "carpet": [
           {
            "aaxis": {
             "endlinecolor": "#2a3f5f",
             "gridcolor": "white",
             "linecolor": "white",
             "minorgridcolor": "white",
             "startlinecolor": "#2a3f5f"
            },
            "baxis": {
             "endlinecolor": "#2a3f5f",
             "gridcolor": "white",
             "linecolor": "white",
             "minorgridcolor": "white",
             "startlinecolor": "#2a3f5f"
            },
            "type": "carpet"
           }
          ],
          "choropleth": [
           {
            "colorbar": {
             "outlinewidth": 0,
             "ticks": ""
            },
            "type": "choropleth"
           }
          ],
          "contour": [
           {
            "colorbar": {
             "outlinewidth": 0,
             "ticks": ""
            },
            "colorscale": [
             [
              0,
              "#0d0887"
             ],
             [
              0.1111111111111111,
              "#46039f"
             ],
             [
              0.2222222222222222,
              "#7201a8"
             ],
             [
              0.3333333333333333,
              "#9c179e"
             ],
             [
              0.4444444444444444,
              "#bd3786"
             ],
             [
              0.5555555555555556,
              "#d8576b"
             ],
             [
              0.6666666666666666,
              "#ed7953"
             ],
             [
              0.7777777777777778,
              "#fb9f3a"
             ],
             [
              0.8888888888888888,
              "#fdca26"
             ],
             [
              1,
              "#f0f921"
             ]
            ],
            "type": "contour"
           }
          ],
          "contourcarpet": [
           {
            "colorbar": {
             "outlinewidth": 0,
             "ticks": ""
            },
            "type": "contourcarpet"
           }
          ],
          "heatmap": [
           {
            "colorbar": {
             "outlinewidth": 0,
             "ticks": ""
            },
            "colorscale": [
             [
              0,
              "#0d0887"
             ],
             [
              0.1111111111111111,
              "#46039f"
             ],
             [
              0.2222222222222222,
              "#7201a8"
             ],
             [
              0.3333333333333333,
              "#9c179e"
             ],
             [
              0.4444444444444444,
              "#bd3786"
             ],
             [
              0.5555555555555556,
              "#d8576b"
             ],
             [
              0.6666666666666666,
              "#ed7953"
             ],
             [
              0.7777777777777778,
              "#fb9f3a"
             ],
             [
              0.8888888888888888,
              "#fdca26"
             ],
             [
              1,
              "#f0f921"
             ]
            ],
            "type": "heatmap"
           }
          ],
          "heatmapgl": [
           {
            "colorbar": {
             "outlinewidth": 0,
             "ticks": ""
            },
            "colorscale": [
             [
              0,
              "#0d0887"
             ],
             [
              0.1111111111111111,
              "#46039f"
             ],
             [
              0.2222222222222222,
              "#7201a8"
             ],
             [
              0.3333333333333333,
              "#9c179e"
             ],
             [
              0.4444444444444444,
              "#bd3786"
             ],
             [
              0.5555555555555556,
              "#d8576b"
             ],
             [
              0.6666666666666666,
              "#ed7953"
             ],
             [
              0.7777777777777778,
              "#fb9f3a"
             ],
             [
              0.8888888888888888,
              "#fdca26"
             ],
             [
              1,
              "#f0f921"
             ]
            ],
            "type": "heatmapgl"
           }
          ],
          "histogram": [
           {
            "marker": {
             "pattern": {
              "fillmode": "overlay",
              "size": 10,
              "solidity": 0.2
             }
            },
            "type": "histogram"
           }
          ],
          "histogram2d": [
           {
            "colorbar": {
             "outlinewidth": 0,
             "ticks": ""
            },
            "colorscale": [
             [
              0,
              "#0d0887"
             ],
             [
              0.1111111111111111,
              "#46039f"
             ],
             [
              0.2222222222222222,
              "#7201a8"
             ],
             [
              0.3333333333333333,
              "#9c179e"
             ],
             [
              0.4444444444444444,
              "#bd3786"
             ],
             [
              0.5555555555555556,
              "#d8576b"
             ],
             [
              0.6666666666666666,
              "#ed7953"
             ],
             [
              0.7777777777777778,
              "#fb9f3a"
             ],
             [
              0.8888888888888888,
              "#fdca26"
             ],
             [
              1,
              "#f0f921"
             ]
            ],
            "type": "histogram2d"
           }
          ],
          "histogram2dcontour": [
           {
            "colorbar": {
             "outlinewidth": 0,
             "ticks": ""
            },
            "colorscale": [
             [
              0,
              "#0d0887"
             ],
             [
              0.1111111111111111,
              "#46039f"
             ],
             [
              0.2222222222222222,
              "#7201a8"
             ],
             [
              0.3333333333333333,
              "#9c179e"
             ],
             [
              0.4444444444444444,
              "#bd3786"
             ],
             [
              0.5555555555555556,
              "#d8576b"
             ],
             [
              0.6666666666666666,
              "#ed7953"
             ],
             [
              0.7777777777777778,
              "#fb9f3a"
             ],
             [
              0.8888888888888888,
              "#fdca26"
             ],
             [
              1,
              "#f0f921"
             ]
            ],
            "type": "histogram2dcontour"
           }
          ],
          "mesh3d": [
           {
            "colorbar": {
             "outlinewidth": 0,
             "ticks": ""
            },
            "type": "mesh3d"
           }
          ],
          "parcoords": [
           {
            "line": {
             "colorbar": {
              "outlinewidth": 0,
              "ticks": ""
             }
            },
            "type": "parcoords"
           }
          ],
          "pie": [
           {
            "automargin": true,
            "type": "pie"
           }
          ],
          "scatter": [
           {
            "marker": {
             "colorbar": {
              "outlinewidth": 0,
              "ticks": ""
             }
            },
            "type": "scatter"
           }
          ],
          "scatter3d": [
           {
            "line": {
             "colorbar": {
              "outlinewidth": 0,
              "ticks": ""
             }
            },
            "marker": {
             "colorbar": {
              "outlinewidth": 0,
              "ticks": ""
             }
            },
            "type": "scatter3d"
           }
          ],
          "scattercarpet": [
           {
            "marker": {
             "colorbar": {
              "outlinewidth": 0,
              "ticks": ""
             }
            },
            "type": "scattercarpet"
           }
          ],
          "scattergeo": [
           {
            "marker": {
             "colorbar": {
              "outlinewidth": 0,
              "ticks": ""
             }
            },
            "type": "scattergeo"
           }
          ],
          "scattergl": [
           {
            "marker": {
             "colorbar": {
              "outlinewidth": 0,
              "ticks": ""
             }
            },
            "type": "scattergl"
           }
          ],
          "scattermapbox": [
           {
            "marker": {
             "colorbar": {
              "outlinewidth": 0,
              "ticks": ""
             }
            },
            "type": "scattermapbox"
           }
          ],
          "scatterpolar": [
           {
            "marker": {
             "colorbar": {
              "outlinewidth": 0,
              "ticks": ""
             }
            },
            "type": "scatterpolar"
           }
          ],
          "scatterpolargl": [
           {
            "marker": {
             "colorbar": {
              "outlinewidth": 0,
              "ticks": ""
             }
            },
            "type": "scatterpolargl"
           }
          ],
          "scatterternary": [
           {
            "marker": {
             "colorbar": {
              "outlinewidth": 0,
              "ticks": ""
             }
            },
            "type": "scatterternary"
           }
          ],
          "surface": [
           {
            "colorbar": {
             "outlinewidth": 0,
             "ticks": ""
            },
            "colorscale": [
             [
              0,
              "#0d0887"
             ],
             [
              0.1111111111111111,
              "#46039f"
             ],
             [
              0.2222222222222222,
              "#7201a8"
             ],
             [
              0.3333333333333333,
              "#9c179e"
             ],
             [
              0.4444444444444444,
              "#bd3786"
             ],
             [
              0.5555555555555556,
              "#d8576b"
             ],
             [
              0.6666666666666666,
              "#ed7953"
             ],
             [
              0.7777777777777778,
              "#fb9f3a"
             ],
             [
              0.8888888888888888,
              "#fdca26"
             ],
             [
              1,
              "#f0f921"
             ]
            ],
            "type": "surface"
           }
          ],
          "table": [
           {
            "cells": {
             "fill": {
              "color": "#EBF0F8"
             },
             "line": {
              "color": "white"
             }
            },
            "header": {
             "fill": {
              "color": "#C8D4E3"
             },
             "line": {
              "color": "white"
             }
            },
            "type": "table"
           }
          ]
         },
         "layout": {
          "annotationdefaults": {
           "arrowcolor": "#2a3f5f",
           "arrowhead": 0,
           "arrowwidth": 1
          },
          "autotypenumbers": "strict",
          "coloraxis": {
           "colorbar": {
            "outlinewidth": 0,
            "ticks": ""
           }
          },
          "colorscale": {
           "diverging": [
            [
             0,
             "#8e0152"
            ],
            [
             0.1,
             "#c51b7d"
            ],
            [
             0.2,
             "#de77ae"
            ],
            [
             0.3,
             "#f1b6da"
            ],
            [
             0.4,
             "#fde0ef"
            ],
            [
             0.5,
             "#f7f7f7"
            ],
            [
             0.6,
             "#e6f5d0"
            ],
            [
             0.7,
             "#b8e186"
            ],
            [
             0.8,
             "#7fbc41"
            ],
            [
             0.9,
             "#4d9221"
            ],
            [
             1,
             "#276419"
            ]
           ],
           "sequential": [
            [
             0,
             "#0d0887"
            ],
            [
             0.1111111111111111,
             "#46039f"
            ],
            [
             0.2222222222222222,
             "#7201a8"
            ],
            [
             0.3333333333333333,
             "#9c179e"
            ],
            [
             0.4444444444444444,
             "#bd3786"
            ],
            [
             0.5555555555555556,
             "#d8576b"
            ],
            [
             0.6666666666666666,
             "#ed7953"
            ],
            [
             0.7777777777777778,
             "#fb9f3a"
            ],
            [
             0.8888888888888888,
             "#fdca26"
            ],
            [
             1,
             "#f0f921"
            ]
           ],
           "sequentialminus": [
            [
             0,
             "#0d0887"
            ],
            [
             0.1111111111111111,
             "#46039f"
            ],
            [
             0.2222222222222222,
             "#7201a8"
            ],
            [
             0.3333333333333333,
             "#9c179e"
            ],
            [
             0.4444444444444444,
             "#bd3786"
            ],
            [
             0.5555555555555556,
             "#d8576b"
            ],
            [
             0.6666666666666666,
             "#ed7953"
            ],
            [
             0.7777777777777778,
             "#fb9f3a"
            ],
            [
             0.8888888888888888,
             "#fdca26"
            ],
            [
             1,
             "#f0f921"
            ]
           ]
          },
          "colorway": [
           "#636efa",
           "#EF553B",
           "#00cc96",
           "#ab63fa",
           "#FFA15A",
           "#19d3f3",
           "#FF6692",
           "#B6E880",
           "#FF97FF",
           "#FECB52"
          ],
          "font": {
           "color": "#2a3f5f"
          },
          "geo": {
           "bgcolor": "white",
           "lakecolor": "white",
           "landcolor": "#E5ECF6",
           "showlakes": true,
           "showland": true,
           "subunitcolor": "white"
          },
          "hoverlabel": {
           "align": "left"
          },
          "hovermode": "closest",
          "mapbox": {
           "style": "light"
          },
          "paper_bgcolor": "white",
          "plot_bgcolor": "#E5ECF6",
          "polar": {
           "angularaxis": {
            "gridcolor": "white",
            "linecolor": "white",
            "ticks": ""
           },
           "bgcolor": "#E5ECF6",
           "radialaxis": {
            "gridcolor": "white",
            "linecolor": "white",
            "ticks": ""
           }
          },
          "scene": {
           "xaxis": {
            "backgroundcolor": "#E5ECF6",
            "gridcolor": "white",
            "gridwidth": 2,
            "linecolor": "white",
            "showbackground": true,
            "ticks": "",
            "zerolinecolor": "white"
           },
           "yaxis": {
            "backgroundcolor": "#E5ECF6",
            "gridcolor": "white",
            "gridwidth": 2,
            "linecolor": "white",
            "showbackground": true,
            "ticks": "",
            "zerolinecolor": "white"
           },
           "zaxis": {
            "backgroundcolor": "#E5ECF6",
            "gridcolor": "white",
            "gridwidth": 2,
            "linecolor": "white",
            "showbackground": true,
            "ticks": "",
            "zerolinecolor": "white"
           }
          },
          "shapedefaults": {
           "line": {
            "color": "#2a3f5f"
           }
          },
          "ternary": {
           "aaxis": {
            "gridcolor": "white",
            "linecolor": "white",
            "ticks": ""
           },
           "baxis": {
            "gridcolor": "white",
            "linecolor": "white",
            "ticks": ""
           },
           "bgcolor": "#E5ECF6",
           "caxis": {
            "gridcolor": "white",
            "linecolor": "white",
            "ticks": ""
           }
          },
          "title": {
           "x": 0.05
          },
          "xaxis": {
           "automargin": true,
           "gridcolor": "white",
           "linecolor": "white",
           "ticks": "",
           "title": {
            "standoff": 15
           },
           "zerolinecolor": "white",
           "zerolinewidth": 2
          },
          "yaxis": {
           "automargin": true,
           "gridcolor": "white",
           "linecolor": "white",
           "ticks": "",
           "title": {
            "standoff": 15
           },
           "zerolinecolor": "white",
           "zerolinewidth": 2
          }
         }
        },
        "title": {
         "text": "Daily Steps vs Heart Rate"
        },
        "xaxis": {
         "anchor": "y",
         "domain": [
          0,
          1
         ],
         "title": {
          "text": "Daily Steps"
         }
        },
        "yaxis": {
         "anchor": "x",
         "domain": [
          0,
          1
         ],
         "title": {
          "text": "Heart Rate"
         }
        }
       }
      },
      "text/html": [
       "<div>                            <div id=\"1670bac7-f51d-4841-8cba-e392e2ca7c49\" class=\"plotly-graph-div\" style=\"height:525px; width:100%;\"></div>            <script type=\"text/javascript\">                require([\"plotly\"], function(Plotly) {                    window.PLOTLYENV=window.PLOTLYENV || {};                                    if (document.getElementById(\"1670bac7-f51d-4841-8cba-e392e2ca7c49\")) {                    Plotly.newPlot(                        \"1670bac7-f51d-4841-8cba-e392e2ca7c49\",                        [{\"hovertemplate\":\"Daily Steps=%{x}<br>Heart Rate=%{y}<extra></extra>\",\"legendgroup\":\"\",\"marker\":{\"color\":\"#636efa\",\"symbol\":\"circle\"},\"mode\":\"markers\",\"name\":\"\",\"orientation\":\"v\",\"showlegend\":false,\"type\":\"scatter\",\"x\":[4200,10000,10000,3000,3000,3000,3500,8000,8000,8000,8000,8000,8000,8000,8000,8000,4000,8000,4000,8000,8000,8000,8000,8000,8000,8000,8000,8000,8000,8000,4100,4100,6800,5000,8000,5000,5000,8000,8000,8000,8000,8000,8000,8000,8000,8000,8000,8000,8000,8000,8000,8000,5000,8000,5000,5000,8000,5000,5000,8000,5000,5000,5000,5000,5000,5000,7000,5000,5500,5500,5000,5000,5000,5000,5000,5000,5000,5000,5000,5000,5200,5200,5600,5600,8000,7000,5000,5000,5000,5000,5000,5000,8000,3300,7000,7000,7000,7000,7000,7000,7000,7000,7000,4800,7000,4800,4200,7000,7000,8000,7000,8000,7000,8000,7000,7000,7000,7000,7000,7000,7000,7000,7000,7000,7000,8000,8000,7000,8000,8000,7000,8000,8000,7000,8000,8000,7000,8000,7000,8000,7000,8000,7000,7000,8000,3300,8000,4000,5500,7500,7500,8000,8000,8000,8000,8000,8000,8000,8000,8000,8000,7300,7300,8000,8000,8000,6200,6000,6000,8000,8000,8000,8000,8000,8000,8000,8000,6000,8000,8000,8000,8000,8000,8000,5000,5000,6000,6000,6000,6000,6000,6000,6000,6000,6000,6000,6000,6000,6000,6000,6000,8000,8000,6800,6800,8000,8000,8000,8000,8000,8000,8000,8000,8000,8000,8000,8000,8000,8000,6000,6000,6000,6000,6000,6000,6000,6000,6000,6000,6000,6000,6000,6000,6000,6000,6000,6000,6000,6000,6000,6000,6000,6000,6000,6000,6000,6000,5000,6000,6000,6000,6000,6000,6000,6000,6000,6000,6000,6000,6000,6000,6000,6000,5500,3500,10000,3500,10000,10000,10000,10000,10000,10000,10000,10000,10000,3700,3700,10000,5000,10000,10000,10000,10000,10000,10000,10000,10000,10000,10000,10000,10000,10000,10000,10000,10000,10000,10000,5000,5000,5000,5000,6000,10000,10000,10000,6000,6000,6000,6000,6000,6000,5000,5000,5000,5000,5000,5000,5000,5000,5000,5000,5000,5000,5000,5000,5000,5000,5000,5000,5000,5000,5000,5000,5000,5000,5000,5000,5000,5000,5000,10000,10000,7000,7000,7000,7000,7000,7000,7000,7000,7000,7000,7000,7000,7000,7000,7000,7000,7000,7000,7000,7000,7000,7000,7000,7000,7000,7000,7000,7000,7000,7000,7000],\"xaxis\":\"x\",\"y\":[77,75,75,85,85,85,82,70,70,70,70,70,70,70,70,70,80,70,80,70,70,70,70,70,70,70,70,70,70,70,78,78,69,72,70,72,72,70,70,70,70,70,70,70,70,70,70,70,70,70,70,70,72,70,72,72,70,72,72,70,72,72,72,72,72,72,68,72,76,76,72,72,72,72,72,72,72,72,72,72,81,81,70,70,70,68,65,65,65,65,65,65,70,84,68,68,68,68,68,68,68,68,68,74,68,74,77,68,68,68,68,68,68,68,68,68,68,68,68,68,68,68,68,68,68,70,68,68,68,68,68,68,68,68,68,68,68,68,68,68,68,68,68,68,68,84,68,80,75,67,67,68,68,68,68,68,68,68,68,68,68,73,73,68,68,70,72,72,72,70,70,70,70,70,70,70,70,72,70,70,70,70,70,70,78,78,65,72,65,72,65,72,72,72,72,72,72,72,72,72,72,70,70,69,68,70,70,70,70,70,70,70,70,70,70,70,70,70,70,72,65,72,72,72,65,72,65,72,65,72,65,72,65,72,65,72,72,65,72,72,65,72,72,65,72,65,72,78,72,72,65,65,65,65,65,65,65,65,65,65,65,65,65,75,83,75,83,75,75,75,75,75,75,75,75,75,86,86,75,65,75,75,75,75,75,75,75,75,75,75,75,75,75,75,75,75,75,75,65,65,65,65,72,75,75,75,72,72,72,72,72,72,65,65,65,65,65,65,65,65,65,65,65,65,65,65,65,65,65,65,65,65,65,65,65,65,65,65,65,72,72,65,65,68,68,68,68,68,68,68,68,68,68,68,68,68,68,68,68,68,68,68,68,68,68,68,68,68,68,68,68,68,68,68],\"yaxis\":\"y\"},{\"hovertemplate\":\"<b>OLS trendline</b><br>Heart Rate = -7.7474e-05 * Daily Steps + 70.6939<br>R<sup>2</sup>=0.000919<br><br>Daily Steps=%{x}<br>Heart Rate=%{y} <b>(trend)</b><extra></extra>\",\"legendgroup\":\"\",\"marker\":{\"color\":\"#636efa\",\"symbol\":\"circle\"},\"mode\":\"lines\",\"name\":\"\",\"showlegend\":false,\"type\":\"scatter\",\"x\":[3000,3000,3000,3300,3300,3500,3500,3500,3700,3700,4000,4000,4000,4100,4100,4200,4200,4800,4800,5000,5000,5000,5000,5000,5000,5000,5000,5000,5000,5000,5000,5000,5000,5000,5000,5000,5000,5000,5000,5000,5000,5000,5000,5000,5000,5000,5000,5000,5000,5000,5000,5000,5000,5000,5000,5000,5000,5000,5000,5000,5000,5000,5000,5000,5000,5000,5000,5000,5000,5000,5000,5000,5000,5000,5000,5000,5000,5000,5000,5000,5000,5000,5000,5000,5000,5000,5000,5200,5200,5500,5500,5500,5500,5600,5600,6000,6000,6000,6000,6000,6000,6000,6000,6000,6000,6000,6000,6000,6000,6000,6000,6000,6000,6000,6000,6000,6000,6000,6000,6000,6000,6000,6000,6000,6000,6000,6000,6000,6000,6000,6000,6000,6000,6000,6000,6000,6000,6000,6000,6000,6000,6000,6000,6000,6000,6000,6000,6000,6000,6000,6000,6000,6000,6000,6000,6000,6000,6000,6000,6000,6000,6000,6000,6200,6800,6800,6800,7000,7000,7000,7000,7000,7000,7000,7000,7000,7000,7000,7000,7000,7000,7000,7000,7000,7000,7000,7000,7000,7000,7000,7000,7000,7000,7000,7000,7000,7000,7000,7000,7000,7000,7000,7000,7000,7000,7000,7000,7000,7000,7000,7000,7000,7000,7000,7000,7000,7000,7000,7000,7000,7000,7000,7000,7000,7000,7000,7000,7000,7000,7000,7000,7000,7000,7300,7300,7500,7500,8000,8000,8000,8000,8000,8000,8000,8000,8000,8000,8000,8000,8000,8000,8000,8000,8000,8000,8000,8000,8000,8000,8000,8000,8000,8000,8000,8000,8000,8000,8000,8000,8000,8000,8000,8000,8000,8000,8000,8000,8000,8000,8000,8000,8000,8000,8000,8000,8000,8000,8000,8000,8000,8000,8000,8000,8000,8000,8000,8000,8000,8000,8000,8000,8000,8000,8000,8000,8000,8000,8000,8000,8000,8000,8000,8000,8000,8000,8000,8000,8000,8000,8000,8000,8000,8000,8000,8000,8000,8000,8000,8000,8000,8000,8000,8000,8000,8000,8000,8000,8000,10000,10000,10000,10000,10000,10000,10000,10000,10000,10000,10000,10000,10000,10000,10000,10000,10000,10000,10000,10000,10000,10000,10000,10000,10000,10000,10000,10000,10000,10000,10000,10000,10000,10000,10000,10000],\"xaxis\":\"x\",\"y\":[70.46148172467777,70.46148172467777,70.46148172467777,70.43823951836684,70.43823951836684,70.42274471415955,70.42274471415955,70.42274471415955,70.40724990995227,70.40724990995227,70.38400770364133,70.38400770364133,70.38400770364133,70.3762603015377,70.3762603015377,70.36851289943405,70.36851289943405,70.32202848681219,70.32202848681219,70.30653368260491,70.30653368260491,70.30653368260491,70.30653368260491,70.30653368260491,70.30653368260491,70.30653368260491,70.30653368260491,70.30653368260491,70.30653368260491,70.30653368260491,70.30653368260491,70.30653368260491,70.30653368260491,70.30653368260491,70.30653368260491,70.30653368260491,70.30653368260491,70.30653368260491,70.30653368260491,70.30653368260491,70.30653368260491,70.30653368260491,70.30653368260491,70.30653368260491,70.30653368260491,70.30653368260491,70.30653368260491,70.30653368260491,70.30653368260491,70.30653368260491,70.30653368260491,70.30653368260491,70.30653368260491,70.30653368260491,70.30653368260491,70.30653368260491,70.30653368260491,70.30653368260491,70.30653368260491,70.30653368260491,70.30653368260491,70.30653368260491,70.30653368260491,70.30653368260491,70.30653368260491,70.30653368260491,70.30653368260491,70.30653368260491,70.30653368260491,70.30653368260491,70.30653368260491,70.30653368260491,70.30653368260491,70.30653368260491,70.30653368260491,70.30653368260491,70.30653368260491,70.30653368260491,70.30653368260491,70.30653368260491,70.30653368260491,70.30653368260491,70.30653368260491,70.30653368260491,70.30653368260491,70.30653368260491,70.30653368260491,70.29103887839761,70.29103887839761,70.26779667208669,70.26779667208669,70.26779667208669,70.26779667208669,70.26004926998304,70.26004926998304,70.22905966156847,70.22905966156847,70.22905966156847,70.22905966156847,70.22905966156847,70.22905966156847,70.22905966156847,70.22905966156847,70.22905966156847,70.22905966156847,70.22905966156847,70.22905966156847,70.22905966156847,70.22905966156847,70.22905966156847,70.22905966156847,70.22905966156847,70.22905966156847,70.22905966156847,70.22905966156847,70.22905966156847,70.22905966156847,70.22905966156847,70.22905966156847,70.22905966156847,70.22905966156847,70.22905966156847,70.22905966156847,70.22905966156847,70.22905966156847,70.22905966156847,70.22905966156847,70.22905966156847,70.22905966156847,70.22905966156847,70.22905966156847,70.22905966156847,70.22905966156847,70.22905966156847,70.22905966156847,70.22905966156847,70.22905966156847,70.22905966156847,70.22905966156847,70.22905966156847,70.22905966156847,70.22905966156847,70.22905966156847,70.22905966156847,70.22905966156847,70.22905966156847,70.22905966156847,70.22905966156847,70.22905966156847,70.22905966156847,70.22905966156847,70.22905966156847,70.22905966156847,70.22905966156847,70.22905966156847,70.22905966156847,70.22905966156847,70.22905966156847,70.22905966156847,70.22905966156847,70.22905966156847,70.22905966156847,70.22905966156847,70.21356485736118,70.16708044473933,70.16708044473933,70.16708044473933,70.15158564053203,70.15158564053203,70.15158564053203,70.15158564053203,70.15158564053203,70.15158564053203,70.15158564053203,70.15158564053203,70.15158564053203,70.15158564053203,70.15158564053203,70.15158564053203,70.15158564053203,70.15158564053203,70.15158564053203,70.15158564053203,70.15158564053203,70.15158564053203,70.15158564053203,70.15158564053203,70.15158564053203,70.15158564053203,70.15158564053203,70.15158564053203,70.15158564053203,70.15158564053203,70.15158564053203,70.15158564053203,70.15158564053203,70.15158564053203,70.15158564053203,70.15158564053203,70.15158564053203,70.15158564053203,70.15158564053203,70.15158564053203,70.15158564053203,70.15158564053203,70.15158564053203,70.15158564053203,70.15158564053203,70.15158564053203,70.15158564053203,70.15158564053203,70.15158564053203,70.15158564053203,70.15158564053203,70.15158564053203,70.15158564053203,70.15158564053203,70.15158564053203,70.15158564053203,70.15158564053203,70.15158564053203,70.15158564053203,70.15158564053203,70.15158564053203,70.15158564053203,70.15158564053203,70.15158564053203,70.15158564053203,70.15158564053203,70.15158564053203,70.15158564053203,70.15158564053203,70.15158564053203,70.12834343422111,70.12834343422111,70.11284863001383,70.11284863001383,70.07411161949561,70.07411161949561,70.07411161949561,70.07411161949561,70.07411161949561,70.07411161949561,70.07411161949561,70.07411161949561,70.07411161949561,70.07411161949561,70.07411161949561,70.07411161949561,70.07411161949561,70.07411161949561,70.07411161949561,70.07411161949561,70.07411161949561,70.07411161949561,70.07411161949561,70.07411161949561,70.07411161949561,70.07411161949561,70.07411161949561,70.07411161949561,70.07411161949561,70.07411161949561,70.07411161949561,70.07411161949561,70.07411161949561,70.07411161949561,70.07411161949561,70.07411161949561,70.07411161949561,70.07411161949561,70.07411161949561,70.07411161949561,70.07411161949561,70.07411161949561,70.07411161949561,70.07411161949561,70.07411161949561,70.07411161949561,70.07411161949561,70.07411161949561,70.07411161949561,70.07411161949561,70.07411161949561,70.07411161949561,70.07411161949561,70.07411161949561,70.07411161949561,70.07411161949561,70.07411161949561,70.07411161949561,70.07411161949561,70.07411161949561,70.07411161949561,70.07411161949561,70.07411161949561,70.07411161949561,70.07411161949561,70.07411161949561,70.07411161949561,70.07411161949561,70.07411161949561,70.07411161949561,70.07411161949561,70.07411161949561,70.07411161949561,70.07411161949561,70.07411161949561,70.07411161949561,70.07411161949561,70.07411161949561,70.07411161949561,70.07411161949561,70.07411161949561,70.07411161949561,70.07411161949561,70.07411161949561,70.07411161949561,70.07411161949561,70.07411161949561,70.07411161949561,70.07411161949561,70.07411161949561,70.07411161949561,70.07411161949561,70.07411161949561,70.07411161949561,70.07411161949561,70.07411161949561,70.07411161949561,70.07411161949561,70.07411161949561,70.07411161949561,70.07411161949561,70.07411161949561,70.07411161949561,70.07411161949561,70.07411161949561,69.91916357742274,69.91916357742274,69.91916357742274,69.91916357742274,69.91916357742274,69.91916357742274,69.91916357742274,69.91916357742274,69.91916357742274,69.91916357742274,69.91916357742274,69.91916357742274,69.91916357742274,69.91916357742274,69.91916357742274,69.91916357742274,69.91916357742274,69.91916357742274,69.91916357742274,69.91916357742274,69.91916357742274,69.91916357742274,69.91916357742274,69.91916357742274,69.91916357742274,69.91916357742274,69.91916357742274,69.91916357742274,69.91916357742274,69.91916357742274,69.91916357742274,69.91916357742274,69.91916357742274,69.91916357742274,69.91916357742274,69.91916357742274],\"yaxis\":\"y\"}],                        {\"legend\":{\"tracegroupgap\":0},\"template\":{\"data\":{\"bar\":[{\"error_x\":{\"color\":\"#2a3f5f\"},\"error_y\":{\"color\":\"#2a3f5f\"},\"marker\":{\"line\":{\"color\":\"#E5ECF6\",\"width\":0.5},\"pattern\":{\"fillmode\":\"overlay\",\"size\":10,\"solidity\":0.2}},\"type\":\"bar\"}],\"barpolar\":[{\"marker\":{\"line\":{\"color\":\"#E5ECF6\",\"width\":0.5},\"pattern\":{\"fillmode\":\"overlay\",\"size\":10,\"solidity\":0.2}},\"type\":\"barpolar\"}],\"carpet\":[{\"aaxis\":{\"endlinecolor\":\"#2a3f5f\",\"gridcolor\":\"white\",\"linecolor\":\"white\",\"minorgridcolor\":\"white\",\"startlinecolor\":\"#2a3f5f\"},\"baxis\":{\"endlinecolor\":\"#2a3f5f\",\"gridcolor\":\"white\",\"linecolor\":\"white\",\"minorgridcolor\":\"white\",\"startlinecolor\":\"#2a3f5f\"},\"type\":\"carpet\"}],\"choropleth\":[{\"colorbar\":{\"outlinewidth\":0,\"ticks\":\"\"},\"type\":\"choropleth\"}],\"contour\":[{\"colorbar\":{\"outlinewidth\":0,\"ticks\":\"\"},\"colorscale\":[[0.0,\"#0d0887\"],[0.1111111111111111,\"#46039f\"],[0.2222222222222222,\"#7201a8\"],[0.3333333333333333,\"#9c179e\"],[0.4444444444444444,\"#bd3786\"],[0.5555555555555556,\"#d8576b\"],[0.6666666666666666,\"#ed7953\"],[0.7777777777777778,\"#fb9f3a\"],[0.8888888888888888,\"#fdca26\"],[1.0,\"#f0f921\"]],\"type\":\"contour\"}],\"contourcarpet\":[{\"colorbar\":{\"outlinewidth\":0,\"ticks\":\"\"},\"type\":\"contourcarpet\"}],\"heatmap\":[{\"colorbar\":{\"outlinewidth\":0,\"ticks\":\"\"},\"colorscale\":[[0.0,\"#0d0887\"],[0.1111111111111111,\"#46039f\"],[0.2222222222222222,\"#7201a8\"],[0.3333333333333333,\"#9c179e\"],[0.4444444444444444,\"#bd3786\"],[0.5555555555555556,\"#d8576b\"],[0.6666666666666666,\"#ed7953\"],[0.7777777777777778,\"#fb9f3a\"],[0.8888888888888888,\"#fdca26\"],[1.0,\"#f0f921\"]],\"type\":\"heatmap\"}],\"heatmapgl\":[{\"colorbar\":{\"outlinewidth\":0,\"ticks\":\"\"},\"colorscale\":[[0.0,\"#0d0887\"],[0.1111111111111111,\"#46039f\"],[0.2222222222222222,\"#7201a8\"],[0.3333333333333333,\"#9c179e\"],[0.4444444444444444,\"#bd3786\"],[0.5555555555555556,\"#d8576b\"],[0.6666666666666666,\"#ed7953\"],[0.7777777777777778,\"#fb9f3a\"],[0.8888888888888888,\"#fdca26\"],[1.0,\"#f0f921\"]],\"type\":\"heatmapgl\"}],\"histogram\":[{\"marker\":{\"pattern\":{\"fillmode\":\"overlay\",\"size\":10,\"solidity\":0.2}},\"type\":\"histogram\"}],\"histogram2d\":[{\"colorbar\":{\"outlinewidth\":0,\"ticks\":\"\"},\"colorscale\":[[0.0,\"#0d0887\"],[0.1111111111111111,\"#46039f\"],[0.2222222222222222,\"#7201a8\"],[0.3333333333333333,\"#9c179e\"],[0.4444444444444444,\"#bd3786\"],[0.5555555555555556,\"#d8576b\"],[0.6666666666666666,\"#ed7953\"],[0.7777777777777778,\"#fb9f3a\"],[0.8888888888888888,\"#fdca26\"],[1.0,\"#f0f921\"]],\"type\":\"histogram2d\"}],\"histogram2dcontour\":[{\"colorbar\":{\"outlinewidth\":0,\"ticks\":\"\"},\"colorscale\":[[0.0,\"#0d0887\"],[0.1111111111111111,\"#46039f\"],[0.2222222222222222,\"#7201a8\"],[0.3333333333333333,\"#9c179e\"],[0.4444444444444444,\"#bd3786\"],[0.5555555555555556,\"#d8576b\"],[0.6666666666666666,\"#ed7953\"],[0.7777777777777778,\"#fb9f3a\"],[0.8888888888888888,\"#fdca26\"],[1.0,\"#f0f921\"]],\"type\":\"histogram2dcontour\"}],\"mesh3d\":[{\"colorbar\":{\"outlinewidth\":0,\"ticks\":\"\"},\"type\":\"mesh3d\"}],\"parcoords\":[{\"line\":{\"colorbar\":{\"outlinewidth\":0,\"ticks\":\"\"}},\"type\":\"parcoords\"}],\"pie\":[{\"automargin\":true,\"type\":\"pie\"}],\"scatter\":[{\"marker\":{\"colorbar\":{\"outlinewidth\":0,\"ticks\":\"\"}},\"type\":\"scatter\"}],\"scatter3d\":[{\"line\":{\"colorbar\":{\"outlinewidth\":0,\"ticks\":\"\"}},\"marker\":{\"colorbar\":{\"outlinewidth\":0,\"ticks\":\"\"}},\"type\":\"scatter3d\"}],\"scattercarpet\":[{\"marker\":{\"colorbar\":{\"outlinewidth\":0,\"ticks\":\"\"}},\"type\":\"scattercarpet\"}],\"scattergeo\":[{\"marker\":{\"colorbar\":{\"outlinewidth\":0,\"ticks\":\"\"}},\"type\":\"scattergeo\"}],\"scattergl\":[{\"marker\":{\"colorbar\":{\"outlinewidth\":0,\"ticks\":\"\"}},\"type\":\"scattergl\"}],\"scattermapbox\":[{\"marker\":{\"colorbar\":{\"outlinewidth\":0,\"ticks\":\"\"}},\"type\":\"scattermapbox\"}],\"scatterpolar\":[{\"marker\":{\"colorbar\":{\"outlinewidth\":0,\"ticks\":\"\"}},\"type\":\"scatterpolar\"}],\"scatterpolargl\":[{\"marker\":{\"colorbar\":{\"outlinewidth\":0,\"ticks\":\"\"}},\"type\":\"scatterpolargl\"}],\"scatterternary\":[{\"marker\":{\"colorbar\":{\"outlinewidth\":0,\"ticks\":\"\"}},\"type\":\"scatterternary\"}],\"surface\":[{\"colorbar\":{\"outlinewidth\":0,\"ticks\":\"\"},\"colorscale\":[[0.0,\"#0d0887\"],[0.1111111111111111,\"#46039f\"],[0.2222222222222222,\"#7201a8\"],[0.3333333333333333,\"#9c179e\"],[0.4444444444444444,\"#bd3786\"],[0.5555555555555556,\"#d8576b\"],[0.6666666666666666,\"#ed7953\"],[0.7777777777777778,\"#fb9f3a\"],[0.8888888888888888,\"#fdca26\"],[1.0,\"#f0f921\"]],\"type\":\"surface\"}],\"table\":[{\"cells\":{\"fill\":{\"color\":\"#EBF0F8\"},\"line\":{\"color\":\"white\"}},\"header\":{\"fill\":{\"color\":\"#C8D4E3\"},\"line\":{\"color\":\"white\"}},\"type\":\"table\"}]},\"layout\":{\"annotationdefaults\":{\"arrowcolor\":\"#2a3f5f\",\"arrowhead\":0,\"arrowwidth\":1},\"autotypenumbers\":\"strict\",\"coloraxis\":{\"colorbar\":{\"outlinewidth\":0,\"ticks\":\"\"}},\"colorscale\":{\"diverging\":[[0,\"#8e0152\"],[0.1,\"#c51b7d\"],[0.2,\"#de77ae\"],[0.3,\"#f1b6da\"],[0.4,\"#fde0ef\"],[0.5,\"#f7f7f7\"],[0.6,\"#e6f5d0\"],[0.7,\"#b8e186\"],[0.8,\"#7fbc41\"],[0.9,\"#4d9221\"],[1,\"#276419\"]],\"sequential\":[[0.0,\"#0d0887\"],[0.1111111111111111,\"#46039f\"],[0.2222222222222222,\"#7201a8\"],[0.3333333333333333,\"#9c179e\"],[0.4444444444444444,\"#bd3786\"],[0.5555555555555556,\"#d8576b\"],[0.6666666666666666,\"#ed7953\"],[0.7777777777777778,\"#fb9f3a\"],[0.8888888888888888,\"#fdca26\"],[1.0,\"#f0f921\"]],\"sequentialminus\":[[0.0,\"#0d0887\"],[0.1111111111111111,\"#46039f\"],[0.2222222222222222,\"#7201a8\"],[0.3333333333333333,\"#9c179e\"],[0.4444444444444444,\"#bd3786\"],[0.5555555555555556,\"#d8576b\"],[0.6666666666666666,\"#ed7953\"],[0.7777777777777778,\"#fb9f3a\"],[0.8888888888888888,\"#fdca26\"],[1.0,\"#f0f921\"]]},\"colorway\":[\"#636efa\",\"#EF553B\",\"#00cc96\",\"#ab63fa\",\"#FFA15A\",\"#19d3f3\",\"#FF6692\",\"#B6E880\",\"#FF97FF\",\"#FECB52\"],\"font\":{\"color\":\"#2a3f5f\"},\"geo\":{\"bgcolor\":\"white\",\"lakecolor\":\"white\",\"landcolor\":\"#E5ECF6\",\"showlakes\":true,\"showland\":true,\"subunitcolor\":\"white\"},\"hoverlabel\":{\"align\":\"left\"},\"hovermode\":\"closest\",\"mapbox\":{\"style\":\"light\"},\"paper_bgcolor\":\"white\",\"plot_bgcolor\":\"#E5ECF6\",\"polar\":{\"angularaxis\":{\"gridcolor\":\"white\",\"linecolor\":\"white\",\"ticks\":\"\"},\"bgcolor\":\"#E5ECF6\",\"radialaxis\":{\"gridcolor\":\"white\",\"linecolor\":\"white\",\"ticks\":\"\"}},\"scene\":{\"xaxis\":{\"backgroundcolor\":\"#E5ECF6\",\"gridcolor\":\"white\",\"gridwidth\":2,\"linecolor\":\"white\",\"showbackground\":true,\"ticks\":\"\",\"zerolinecolor\":\"white\"},\"yaxis\":{\"backgroundcolor\":\"#E5ECF6\",\"gridcolor\":\"white\",\"gridwidth\":2,\"linecolor\":\"white\",\"showbackground\":true,\"ticks\":\"\",\"zerolinecolor\":\"white\"},\"zaxis\":{\"backgroundcolor\":\"#E5ECF6\",\"gridcolor\":\"white\",\"gridwidth\":2,\"linecolor\":\"white\",\"showbackground\":true,\"ticks\":\"\",\"zerolinecolor\":\"white\"}},\"shapedefaults\":{\"line\":{\"color\":\"#2a3f5f\"}},\"ternary\":{\"aaxis\":{\"gridcolor\":\"white\",\"linecolor\":\"white\",\"ticks\":\"\"},\"baxis\":{\"gridcolor\":\"white\",\"linecolor\":\"white\",\"ticks\":\"\"},\"bgcolor\":\"#E5ECF6\",\"caxis\":{\"gridcolor\":\"white\",\"linecolor\":\"white\",\"ticks\":\"\"}},\"title\":{\"x\":0.05},\"xaxis\":{\"automargin\":true,\"gridcolor\":\"white\",\"linecolor\":\"white\",\"ticks\":\"\",\"title\":{\"standoff\":15},\"zerolinecolor\":\"white\",\"zerolinewidth\":2},\"yaxis\":{\"automargin\":true,\"gridcolor\":\"white\",\"linecolor\":\"white\",\"ticks\":\"\",\"title\":{\"standoff\":15},\"zerolinecolor\":\"white\",\"zerolinewidth\":2}}},\"title\":{\"text\":\"Daily Steps vs Heart Rate\"},\"xaxis\":{\"anchor\":\"y\",\"domain\":[0.0,1.0],\"title\":{\"text\":\"Daily Steps\"}},\"yaxis\":{\"anchor\":\"x\",\"domain\":[0.0,1.0],\"title\":{\"text\":\"Heart Rate\"}}},                        {\"responsive\": true}                    ).then(function(){\n",
       "                            \n",
       "var gd = document.getElementById('1670bac7-f51d-4841-8cba-e392e2ca7c49');\n",
       "var x = new MutationObserver(function (mutations, observer) {{\n",
       "        var display = window.getComputedStyle(gd).display;\n",
       "        if (!display || display === 'none') {{\n",
       "            console.log([gd, 'removed!']);\n",
       "            Plotly.purge(gd);\n",
       "            observer.disconnect();\n",
       "        }}\n",
       "}});\n",
       "\n",
       "// Listen for the removal of the full notebook cells\n",
       "var notebookContainer = gd.closest('#notebook-container');\n",
       "if (notebookContainer) {{\n",
       "    x.observe(notebookContainer, {childList: true});\n",
       "}}\n",
       "\n",
       "// Listen for the clearing of the current output cell\n",
       "var outputEl = gd.closest('.output');\n",
       "if (outputEl) {{\n",
       "    x.observe(outputEl, {childList: true});\n",
       "}}\n",
       "\n",
       "                        })                };                });            </script>        </div>"
      ]
     },
     "metadata": {},
     "output_type": "display_data"
    }
   ],
   "source": [
    "import plotly.express as px\n",
    "from plotly.offline import init_notebook_mode, iplot\n",
    "\n",
    "# Initialize Plotly for offline mode\n",
    "init_notebook_mode(connected=True)\n",
    "\n",
    "# Define the health metrics\n",
    "health_metrics = ['BMI Category Ord', 'Systolic BP', 'Diastolic BP', 'Heart Rate']\n",
    "\n",
    "# Create scatter plots using Plotly for each health metric against Daily Steps\n",
    "for metric in health_metrics:\n",
    "    fig = px.scatter(shl_data, x='Daily Steps', y=metric, trendline='ols',\n",
    "                     title=f'Daily Steps vs {metric}',\n",
    "                     labels={'Daily Steps': 'Daily Steps', metric: metric})\n",
    "    iplot(fig)\n"
   ]
  },
  {
   "cell_type": "markdown",
   "id": "0a1c1a09",
   "metadata": {},
   "source": [
    "Across all plots, the relationships between daily steps and health metrics like blood pressure, heart rate, and BMI are weak, as indicated by the trendlines. This suggests that daily steps alone may not be a strong predictor of these health metrics, and other factors likely play a more significant role."
   ]
  },
  {
   "cell_type": "markdown",
   "id": "c0a0729f",
   "metadata": {},
   "source": [
    "# Outlier Analysis "
   ]
  },
  {
   "cell_type": "code",
   "execution_count": 19,
   "id": "898e3e4c",
   "metadata": {},
   "outputs": [
    {
     "data": {
      "image/png": "[encoded data removed]",
      "text/plain": [
       "<Figure size 1080x864 with 8 Axes>"
      ]
     },
     "metadata": {
      "needs_background": "light"
     },
     "output_type": "display_data"
    }
   ],
   "source": [
    "# List of key numerical variables to visualize for outliers\n",
    "key_variables = [\n",
    "    'Sleep Duration', \n",
    "    'Quality of Sleep', \n",
    "    'Physical Activity Level', \n",
    "    'Stress Level', \n",
    "    'Heart Rate', \n",
    "    'Daily Steps', \n",
    "    'Systolic BP', \n",
    "    'Diastolic BP'\n",
    "]\n",
    "\n",
    "# Set up the matplotlib figure\n",
    "plt.figure(figsize=(15, 12))\n",
    "\n",
    "# Create boxplots for each key variable\n",
    "for i, variable in enumerate(key_variables, 1):\n",
    "    plt.subplot(4, 2, i)\n",
    "    sns.boxplot(x=shl_data[variable])\n",
    "    plt.title(f'Boxplot of {variable}')\n",
    "\n",
    "plt.tight_layout()\n",
    "plt.show()"
   ]
  },
  {
   "cell_type": "markdown",
   "id": "3a60e0ee",
   "metadata": {},
   "source": [
    "* The boxplots reveal potential outliers in several variables.<br>\n",
    "* For instance, Daily Steps and Systolic Blood Pressure show some data points that are significantly different from the rest.\n",
    "<br>\n",
    "* The presence of outliers could influence the results of statistical analyses and models, so it is necessary to handle this outlier before further analysis \n",
    "* So we have to handle this ouliers before moving forward "
   ]
  },
  {
   "cell_type": "markdown",
   "id": "526656a9",
   "metadata": {},
   "source": [
    "# Outlier Handeling  \n",
    "Why Capping?<br>\n",
    "Capping, or Winsorizing, is a method where extreme values (outliers) are replaced with the nearest values that fall within a specified range. This method is particularly useful when<br>\n",
    "\n",
    "* Outliers are not errors but genuine data points that represent extreme but possible values.<br>\n",
    "\n",
    "* Preserving Data: We want to keep as much of the data as possible without completely removing data points.<br>\n",
    "\n",
    "* Reducing Impact: Capping reduces the influence of extreme values without distorting the overall distribution of the data.<br>\n",
    "\n",
    "* Given the distribution and presence of outliers in variables like Physical Activity Level and Daily Steps, capping allows us to mitigate their influence while still retaining all data points."
   ]
  },
  {
   "cell_type": "code",
   "execution_count": 20,
   "id": "973c4bbe",
   "metadata": {},
   "outputs": [
    {
     "data": {
      "image/png": "[encoded data removed]",
      "text/plain": [
       "<Figure size 1080x864 with 8 Axes>"
      ]
     },
     "metadata": {
      "needs_background": "light"
     },
     "output_type": "display_data"
    }
   ],
   "source": [
    "# Function to cap outliers at the 5th and 95th percentiles\n",
    "def cap_outliers(data, lower_percentile=5, upper_percentile=95):\n",
    "    lower_bound = np.percentile(data, lower_percentile)\n",
    "    upper_bound = np.percentile(data, upper_percentile)\n",
    "    return np.clip(data, lower_bound, upper_bound)\n",
    "\n",
    "# List of key variables to apply capping\n",
    "key_variables = [\n",
    "    'Sleep Duration', \n",
    "    'Quality of Sleep', \n",
    "    'Physical Activity Level', \n",
    "    'Stress Level', \n",
    "    'Heart Rate', \n",
    "    'Daily Steps', \n",
    "    'Systolic BP', \n",
    "    'Diastolic BP'\n",
    "]\n",
    "\n",
    "# Apply capping to each key variable\n",
    "for variable in key_variables:\n",
    "    shl_data[variable] = cap_outliers(shl_data[variable])\n",
    "\n",
    "# Set up the matplotlib figure for visualizing the capped data\n",
    "plt.figure(figsize=(15, 12))\n",
    "\n",
    "# Create boxplots for each key variable after capping\n",
    "for i, variable in enumerate(key_variables, 1):\n",
    "    plt.subplot(4, 2, i)\n",
    "    sns.boxplot(x=shl_data[variable])\n",
    "    plt.title(f'Boxplot of {variable} (After Capping)')\n",
    "\n",
    "plt.tight_layout()\n",
    "plt.show()"
   ]
  },
  {
   "cell_type": "markdown",
   "id": "4e5360f3",
   "metadata": {},
   "source": [
    "The updated boxplots, after applying the capping method, show a noticeable reduction in the spread of the data across the key variables: Sleep Duration, Quality of Sleep, Physical Activity Level, Stress Level, Heart Rate, Daily Steps, Systolic BP, and Diastolic BP.\n",
    "\n",
    "### Key Observations:\n",
    "<strong>Outliers Addressed:</strong>\n",
    "The extreme values that were previously identified as outliers have been capped, resulting in boxplots that no longer display individual outlier points outside the whiskers.<br>\n",
    "<strong>Data Spread:</strong> The distribution of data is now more concentrated within the whiskers, indicating that the capping method successfully reduced the influence of extreme values while maintaining the overall structure of the data.<br>\n",
    "<strong>Central Tendency:</strong> The median values (central lines within the boxes) remain largely unchanged, suggesting that the central tendency of the data is preserved, while the variability due to outliers has been minimized.\n",
    "This method effectively handles outliers by reducing their impact on the dataset, making the data more suitable for analysis while preserving the integrity of the key metrics."
   ]
  },
  {
   "cell_type": "markdown",
   "id": "11620ef9",
   "metadata": {},
   "source": [
    "# Model Building and Evaluation "
   ]
  },
  {
   "cell_type": "code",
   "execution_count": 21,
   "id": "d020cd62",
   "metadata": {},
   "outputs": [],
   "source": [
    "occupation_features = ['Occupation_Numerical']\n",
    "\n",
    "# Creating a binary target variable for high heart rate\n",
    "threshold = 75  # Example threshold\n",
    "shl_data['High_Heart_Rate'] = (shl_data['Heart Rate'] > threshold).astype(int)\n",
    "\n",
    "\n",
    "\n"
   ]
  },
  {
   "cell_type": "markdown",
   "id": "f97fe149",
   "metadata": {},
   "source": [
    "###  Feature selection"
   ]
  },
  {
   "cell_type": "code",
   "execution_count": 22,
   "id": "b0209f5a",
   "metadata": {},
   "outputs": [],
   "source": [
    "# Selecting relevant features for modeling, including occupation\n",
    "features = occupation_features + ['Sleep Duration', 'Quality of Sleep', 'Physical Activity Level', 'Stress Level', 'Daily Steps', 'Systolic BP', 'Diastolic BP']\n",
    "X = shl_data[features]\n",
    "y = shl_data['High_Heart_Rate']\n",
    "\n"
   ]
  },
  {
   "cell_type": "markdown",
   "id": "48eb4a23",
   "metadata": {},
   "source": [
    "### Training and testing data set "
   ]
  },
  {
   "cell_type": "code",
   "execution_count": 23,
   "id": "592e2b9f",
   "metadata": {},
   "outputs": [],
   "source": [
    "# Split the data into training and testing sets\n",
    "X_train, X_test, y_train, y_test = train_test_split(X, y, test_size=0.2, random_state=42)\n",
    "\n"
   ]
  },
  {
   "cell_type": "markdown",
   "id": "9a024344",
   "metadata": {},
   "source": [
    "### Scaling the features "
   ]
  },
  {
   "cell_type": "code",
   "execution_count": 24,
   "id": "b850eb3b",
   "metadata": {},
   "outputs": [],
   "source": [
    "# Scaling the features\n",
    "scaler = StandardScaler()\n",
    "X_train_scaled = scaler.fit_transform(X_train)\n",
    "X_test_scaled = scaler.transform(X_test)\n",
    "\n"
   ]
  },
  {
   "cell_type": "markdown",
   "id": "068c18ad",
   "metadata": {},
   "source": [
    "### Model Building "
   ]
  },
  {
   "cell_type": "code",
   "execution_count": 25,
   "id": "eec01611",
   "metadata": {},
   "outputs": [
    {
     "data": {
      "text/plain": [
       "LogisticRegression(max_iter=200, random_state=42)"
      ]
     },
     "execution_count": 25,
     "metadata": {},
     "output_type": "execute_result"
    }
   ],
   "source": [
    "# Build the Logistic Regression Model with increased iterations\n",
    "model = LogisticRegression(max_iter=200, random_state=42)\n",
    "model.fit(X_train_scaled, y_train)\n",
    "\n"
   ]
  },
  {
   "cell_type": "markdown",
   "id": "7d9018a3",
   "metadata": {},
   "source": [
    "### Model Evaluation"
   ]
  },
  {
   "cell_type": "code",
   "execution_count": 26,
   "id": "35519b48",
   "metadata": {},
   "outputs": [],
   "source": [
    "# Evaluate the Model\n",
    "y_pred = model.predict(X_test_scaled)\n",
    "accuracy = accuracy_score(y_test, y_pred)\n",
    "roc_auc = roc_auc_score(y_test, y_pred)\n",
    "classification_report_text = classification_report(y_test, y_pred)\n",
    "confusion_matrix_result = confusion_matrix(y_test, y_pred)\n",
    "\n"
   ]
  },
  {
   "cell_type": "code",
   "execution_count": 27,
   "id": "9c504dd9",
   "metadata": {},
   "outputs": [
    {
     "name": "stdout",
     "output_type": "stream",
     "text": [
      "0.9866666666666667\n",
      "0.9166666666666667\n",
      "              precision    recall  f1-score   support\n",
      "\n",
      "           0       0.99      1.00      0.99        69\n",
      "           1       1.00      0.83      0.91         6\n",
      "\n",
      "    accuracy                           0.99        75\n",
      "   macro avg       0.99      0.92      0.95        75\n",
      "weighted avg       0.99      0.99      0.99        75\n",
      "\n",
      "[[69  0]\n",
      " [ 1  5]]\n"
     ]
    }
   ],
   "source": [
    "# Output the evaluation metrics\n",
    "print(accuracy)\n",
    "print(roc_auc)\n",
    "print(classification_report_text)\n",
    "print(confusion_matrix_result)\n"
   ]
  },
  {
   "cell_type": "code",
   "execution_count": 29,
   "id": "b839f830",
   "metadata": {},
   "outputs": [
    {
     "data": {
      "text/html": [
       "<div>\n",
       "<style scoped>\n",
       "    .dataframe tbody tr th:only-of-type {\n",
       "        vertical-align: middle;\n",
       "    }\n",
       "\n",
       "    .dataframe tbody tr th {\n",
       "        vertical-align: top;\n",
       "    }\n",
       "\n",
       "    .dataframe thead th {\n",
       "        text-align: right;\n",
       "    }\n",
       "</style>\n",
       "<table border=\"1\" class=\"dataframe\">\n",
       "  <thead>\n",
       "    <tr style=\"text-align: right;\">\n",
       "      <th></th>\n",
       "      <th>Feature</th>\n",
       "      <th>Coefficient</th>\n",
       "    </tr>\n",
       "  </thead>\n",
       "  <tbody>\n",
       "    <tr>\n",
       "      <th>0</th>\n",
       "      <td>Occupation_Numerical</td>\n",
       "      <td>0.858089</td>\n",
       "    </tr>\n",
       "    <tr>\n",
       "      <th>1</th>\n",
       "      <td>Sleep Duration</td>\n",
       "      <td>-0.003137</td>\n",
       "    </tr>\n",
       "    <tr>\n",
       "      <th>2</th>\n",
       "      <td>Quality of Sleep</td>\n",
       "      <td>-1.361514</td>\n",
       "    </tr>\n",
       "    <tr>\n",
       "      <th>3</th>\n",
       "      <td>Physical Activity Level</td>\n",
       "      <td>1.046368</td>\n",
       "    </tr>\n",
       "    <tr>\n",
       "      <th>4</th>\n",
       "      <td>Stress Level</td>\n",
       "      <td>0.396522</td>\n",
       "    </tr>\n",
       "    <tr>\n",
       "      <th>5</th>\n",
       "      <td>Daily Steps</td>\n",
       "      <td>-3.291355</td>\n",
       "    </tr>\n",
       "    <tr>\n",
       "      <th>6</th>\n",
       "      <td>Systolic BP</td>\n",
       "      <td>1.228564</td>\n",
       "    </tr>\n",
       "    <tr>\n",
       "      <th>7</th>\n",
       "      <td>Diastolic BP</td>\n",
       "      <td>0.635907</td>\n",
       "    </tr>\n",
       "  </tbody>\n",
       "</table>\n",
       "</div>"
      ],
      "text/plain": [
       "                   Feature  Coefficient\n",
       "0     Occupation_Numerical     0.858089\n",
       "1           Sleep Duration    -0.003137\n",
       "2         Quality of Sleep    -1.361514\n",
       "3  Physical Activity Level     1.046368\n",
       "4             Stress Level     0.396522\n",
       "5              Daily Steps    -3.291355\n",
       "6              Systolic BP     1.228564\n",
       "7             Diastolic BP     0.635907"
      ]
     },
     "execution_count": 29,
     "metadata": {},
     "output_type": "execute_result"
    }
   ],
   "source": [
    "# Coefficients to interpret the impact of each feature\n",
    "coefficients = pd.DataFrame({'Feature': X.columns, 'Coefficient': model.coef_[0]})\n",
    "coefficients"
   ]
  },
  {
   "cell_type": "markdown",
   "id": "62fe2666",
   "metadata": {},
   "source": [
    "### **Feature Coefficients Explained:**\n",
    "\n",
    "1. **Occupation_Numerical (0.858089)**\n",
    "   - **Positive Coefficient**: A positive coefficient means that as the value of the `Occupation_Numerical` feature increases, the likelihood of the target outcome (high heart rate) also increases.\n",
    "   - **Interpretation**: Occupations with higher numerical codes are associated with a higher likelihood of having a high heart rate. This suggests that certain occupations, particularly those with higher stress or workload, may be linked to elevated heart rates.\n",
    "\n",
    "\n",
    "### **Overall Interpretation:**\n",
    "\n",
    "- **Occupation** and **health metrics** such as **stress level**, **blood pressure**, and **physical activity** are key predictors of high heart rate.\n",
    "- **Better sleep quality** and **more daily steps** are protective factors that reduce the likelihood of high heart rate, highlighting their importance in maintaining cardiovascular health.\n",
    "- The coefficients indicate that interventions aimed at improving sleep quality, reducing stress, and encouraging moderate physical activity could be effective in managing heart rate and reducing cardi\n"
   ]
  },
  {
   "cell_type": "markdown",
   "id": "971d57e5",
   "metadata": {},
   "source": [
    "### Logistic Regression Model Evaluation\n",
    "\n",
    "**Model Performance Metrics:**\n",
    "\n",
    "- **Accuracy**: `0.987`\n",
    "  - The model has an accuracy of approximately 98.67%, meaning it correctly predicts the target class in 98.67% of the cases on the test set.\n",
    "\n",
    "- **ROC AUC Score**: `0.917`\n",
    "  - The ROC AUC score is 0.917, which reflects the model's ability to discriminate between the two classes (0 and 1). A score of 0.917 indicates strong discrimination.\n",
    "\n",
    "**Classification Report:**\n",
    "\n",
    "- **Precision for Class 0 (Normal Heart Rate)**: 0.99\n",
    "  - The precision for class 0 is 0.99, meaning that 99% of the instances predicted as normal heart rate are actually correct.\n",
    "- **Recall for Class 0**: 1.00\n",
    "  - The recall for class 0 is 1.00, indicating that the model correctly identifies all normal heart rate instances.\n",
    "- **F1-Score for Class 0**: 0.99\n",
    "  - The F1-score for class 0, which balances precision and recall, is 0.99, indicating strong performance.\n",
    "\n",
    "- **Precision for Class 1 (High Heart Rate)**: 1.00\n",
    "  - The precision for class 1 is 1.00, meaning all instances predicted as high heart rate are correct.\n",
    "- **Recall for Class 1**: 0.83\n",
    "  - The recall for class 1 is 0.83, indicating that the model correctly identifies 83% of the actual high heart rate instances, missing one.\n",
    "- **F1-Score for Class 1**: 0.91\n",
    "  - The F1-score for class 1 is 0.91, reflecting a good balance between precision and recall.\n",
    "\n",
    "- **Support**:\n",
    "  - Class 0: 69 instances\n",
    "  - Class 1: 6 instances\n",
    "\n",
    "- **Macro Average**:\n",
    "  - Precision: 0.99\n",
    "  - Recall: 0.92\n",
    "  - F1-Score: 0.95\n",
    "\n",
    "- **Weighted Average**:\n",
    "  - Precision: 0.99\n",
    "  - Recall: 0.99\n",
    "  - F1-Score: 0.99\n",
    "\n",
    "**Confusion Matrix**:\n",
    "\n",
    "\\[\n",
    "\\begin{array}{cc}\n",
    "\\textbf{Predicted Negative} & \\textbf{Predicted Positive} \\\\\n",
    "\\textbf{True Negative (0)} & 69 & 0 \\\\\n",
    "\\textbf{False Negative (1)} & 1 & 5 \\\\\n",
    "\\end{array}\n",
    "\\]\n",
    "\n",
    "- **69 True Negatives**: The model correctly predicts 69 instances as not high heart rate (class 0).\n",
    "- **0 False Positives**: The model does not incorrectly predict any instances as high heart rate when they are not.\n",
    "- **1 False Negative**: The model incorrectly predicts 1 instance as not high heart rate when it actually is (class 1).\n",
    "- **5 True Positives**: The model correctly predicts 5 instances as high heart rate (class 1).\n",
    "\n",
    "### Interpretation:\n",
    "\n",
    "- **Overall Performance**: The model performs exceptionally well, with high accuracy and strong precision and recall for both classes. However, the model slightly underperforms in recall for class 1, indicating that it misses one case of high heart rate.\n",
    "- **Balanced Approach**: The model is highly effective in identifying normal heart rates and performs well in predicting high heart rates, though there is room for improvement in the latter.\n",
    "- **Possible Next Steps**:\n",
    "  - **Class Imbalance**: If class 1 (high heart rate) is underrepresented, consider techniques like oversampling or class weighting to improve recall.\n",
    "  - **Further Tuning**: Experiment with different thresholds, feature selection, or model parameters to further enhance recall for class 1 predictions.\n"
   ]
  },
  {
   "cell_type": "markdown",
   "id": "346d593e",
   "metadata": {},
   "source": [
    "# **Final Conclusion of the Data Analysis**\n",
    "\n",
    "Our comprehensive data analysis aimed to understand how various **occupations** impact key health metrics, particularly focusing on **heart rate**, **sleep duration**, **quality of sleep**, and **blood pressure**. By leveraging **logistic regression** and exploratory data analysis, we derived several critical insights:\n",
    "\n",
    "### **Impact of Occupation on Heart Rate**\n",
    "- **Occupation** plays a significant role in influencing **heart rate**. Our logistic regression model indicated that individuals in high-stress occupations are more likely to exhibit elevated heart rates. Factors such as **stress level**, **physical activity**, and **sleep quality** were also influential, showing that these metrics are intertwined with occupational demands.\n",
    "\n",
    "\n",
    "### **Model Performance**\n",
    "- The logistic regression model performed well, with a high accuracy and a strong ROC AUC score, particularly in predicting whether an individual has a high heart rate based on their occupation and associated health metrics. However, the model's slightly lower recall for predicting high heart rate indicates the need for further tuning, potentially through the incorporation of more detailed occupational data or the use of more advanced modeling techniques.\n",
    "\n",
    "### **Recommendations**\n",
    "- **For Employers**: The findings suggest that employers should be aware of the potential health impacts associated with certain occupations. Implementing **health and wellness programs** that address stress management, encourage regular physical activity, and promote good sleep hygiene could help mitigate the risks associated with high-stress jobs.\n",
    "- **For Healthcare Providers**: Tailored advice based on occupation-related health risks could improve patient outcomes. For instance, more frequent monitoring of blood pressure and heart rate might be advisable for individuals in high-stress jobs.\n",
    "- **For Future Research**: Further research could explore the causal pathways between occupation and health outcomes, potentially using **longitudinal data**. Additionally, exploring **interactions** between occupation and other demographic factors, such as age and gender, could provide deeper insights into occupation-related health risks.\n",
    "\n",
    "---\n",
    "\n",
    "\n"
   ]
  }
 ],
 "metadata": {
  "kernelspec": {
   "display_name": "Python 3",
   "language": "python",
   "name": "python3"
  },
  "language_info": {
   "codemirror_mode": {
    "name": "ipython",
    "version": 3
   },
   "file_extension": ".py",
   "mimetype": "text/x-python",
   "name": "python",
   "nbconvert_exporter": "python",
   "pygments_lexer": "ipython3",
   "version": "3.8.8"
  }
 },
 "nbformat": 4,
 "nbformat_minor": 5
}
